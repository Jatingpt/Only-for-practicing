{
  "cells": [
    {
      "cell_type": "markdown",
      "metadata": {
        "id": "view-in-github",
        "colab_type": "text"
      },
      "source": [
        "<a href=\"https://colab.research.google.com/github/Jatingpt/Only-for-practicing/blob/main/Practice%2BExercise%2B1_(1).ipynb\" target=\"_parent\"><img src=\"https://colab.research.google.com/assets/colab-badge.svg\" alt=\"Open In Colab\"/></a>"
      ]
    },
    {
      "cell_type": "code",
      "execution_count": null,
      "metadata": {
        "id": "qEMmkSDoo8L5"
      },
      "outputs": [],
      "source": [
        "#Consider the string given below and answer the following questions\n",
        "string = \"OQYWFClFhFGAvIWYwGKpmZhnJiyzTslSIhSwvOsqJMEphzmifTkyqOMNpnOtXZxmCfgDYqbaBHAUvIWhMnvwZnEMVDvmEfLrDoQnAZgQEgXQVnmSYkfedpAdhrtpOgORpYLRZYGWdhWYuqQssCUXtTzKRDAhpjUheOzUroZNzWFtZOVwIapzUYtbSbjYNErzQ\"\n"
      ]
    },
    {
      "cell_type": "markdown",
      "metadata": {
        "id": "MHaMCZWlo8L7"
      },
      "source": [
        "####  Calculate the number of characters in the string\n",
        "\n",
        "-  193\n",
        "-  200\n",
        "-  300\n",
        "-  500\n"
      ]
    },
    {
      "cell_type": "code",
      "execution_count": null,
      "metadata": {
        "id": "bNZBUOvIo8L-"
      },
      "outputs": [],
      "source": [
        "# Type your code here"
      ]
    },
    {
      "cell_type": "markdown",
      "metadata": {
        "id": "Go7Ak7Z8o8MA"
      },
      "source": [
        "#### Count the number of occurences of 'a' in the string\n",
        "\n",
        "-  1\n",
        "-  2\n",
        "-  10\n",
        "-  5"
      ]
    },
    {
      "cell_type": "code",
      "execution_count": null,
      "metadata": {
        "id": "ozmu63SPo8MC"
      },
      "outputs": [],
      "source": [
        "# Type your code here"
      ]
    },
    {
      "cell_type": "markdown",
      "metadata": {
        "id": "Nf2P1HUoo8MD"
      },
      "source": [
        "#### Identify whether the string starts with 'if'.\n",
        "\n",
        "-  True\n",
        "-  False"
      ]
    },
    {
      "cell_type": "code",
      "execution_count": null,
      "metadata": {
        "id": "hwSy12VCo8MF"
      },
      "outputs": [],
      "source": [
        "# Type your code here"
      ]
    },
    {
      "cell_type": "markdown",
      "metadata": {
        "id": "H9Tp5mYno8MG"
      },
      "source": [
        "#### Return the substring starting at index 63 and ending at index 88  [Both the indexes are inclusive]\n",
        "\n",
        "-  'OQYWFClFhFGA'\n",
        "-  'mCfgDYqbaBHAUvIWhMnvwZnEMV'\n",
        "-  'IWYwGKpmZhnJiyzTslSIhSwv'\n",
        "-  'JMEphzmifTkyqOMNpnOtXZ'"
      ]
    },
    {
      "cell_type": "code",
      "execution_count": null,
      "metadata": {
        "collapsed": true,
        "id": "Bd6FsZC3o8MH",
        "outputId": "e2b306c9-5561-4ca4-ed91-80035771b41e"
      },
      "outputs": [
        {
          "data": {
            "text/plain": [
              "'mCfgDYqbaBHAUvIWhMnvwZnEM'"
            ]
          },
          "execution_count": 7,
          "metadata": {},
          "output_type": "execute_result"
        }
      ],
      "source": [
        "# Type your code here"
      ]
    },
    {
      "cell_type": "markdown",
      "metadata": {
        "id": "vw-gOIToo8MH"
      },
      "source": [
        "#### Identify the character at index 45\n",
        "\n",
        "-  a\n",
        "-  b\n",
        "-  z\n",
        "-  x"
      ]
    },
    {
      "cell_type": "code",
      "execution_count": null,
      "metadata": {
        "id": "Bq2-FEGAo8MI"
      },
      "outputs": [],
      "source": [
        "# Type your code here"
      ]
    },
    {
      "cell_type": "code",
      "execution_count": null,
      "metadata": {
        "collapsed": true,
        "id": "WzVNgWB-o8MI"
      },
      "outputs": [],
      "source": [
        "#WSCube\n",
        "#Progam to display name and others.\n",
        "#swap two variables\n",
        "#convert float into int\n",
        "#take input from user and convert it into int"
      ]
    },
    {
      "cell_type": "code",
      "source": [],
      "metadata": {
        "id": "VQGctr3wTP9X"
      },
      "execution_count": null,
      "outputs": []
    },
    {
      "cell_type": "code",
      "source": [
        "name = \"jatin\"\n",
        "age = 24\n",
        "print(name)\n",
        "print(age)\n",
        "\n",
        "print()\n",
        "\n",
        "a = 34\n",
        "b = 33\n",
        "a,b = b,a\n",
        "print(a)\n",
        "print(b)\n",
        "\n",
        "print()\n",
        "\n",
        "a = 1.23\n",
        "a = int(a)\n",
        "print(a)\n",
        "\n",
        "print()\n",
        "\n",
        "n = float(input(\"Enter the float value: \"))\n",
        "print(n)\n",
        "n = int(n)\n",
        "print(n)"
      ],
      "metadata": {
        "id": "DhkAh8OjTIp1",
        "outputId": "9b0691ad-607c-4159-b064-1e9ae7d228da",
        "colab": {
          "base_uri": "https://localhost:8080/"
        }
      },
      "execution_count": 4,
      "outputs": [
        {
          "output_type": "stream",
          "name": "stdout",
          "text": [
            "jatin\n",
            "24\n",
            "\n",
            "33\n",
            "34\n",
            "\n",
            "1\n",
            "\n",
            "Enter the float value: 4\n",
            "4.0\n",
            "4\n"
          ]
        }
      ]
    },
    {
      "cell_type": "code",
      "source": [
        "#identity operator\n",
        "a = 123\n",
        "b = \"345\"\n",
        "print(a is b)\n",
        "\n",
        "#membership operator\n",
        "a = 'abcde'\n",
        "print(\"s\" in a)"
      ],
      "metadata": {
        "id": "0j0Yba_UUCvQ",
        "outputId": "b6e7b990-8464-48c2-8d41-c88199cb0169",
        "colab": {
          "base_uri": "https://localhost:8080/"
        }
      },
      "execution_count": 10,
      "outputs": [
        {
          "output_type": "stream",
          "name": "stdout",
          "text": [
            "False\n",
            "False\n"
          ]
        }
      ]
    },
    {
      "cell_type": "code",
      "source": [
        "#write a program to check the number is positive.\n",
        "#to check odd or even number\n",
        "#create area calculator\n",
        "#to check whether the passed letter is vowel or not\n",
        "#to check if the passed number is single digit or double digit."
      ],
      "metadata": {
        "id": "jsFGydYUTOci"
      },
      "execution_count": null,
      "outputs": []
    },
    {
      "cell_type": "code",
      "source": [
        "def check(n):\n",
        "  if n >= 1:\n",
        "    print(\"Positive\")\n",
        "  else:\n",
        "    print(\"Negative\")\n",
        "check(-3)\n",
        "\n",
        "def odd_even(n):\n",
        "  if n % 2 == 0:\n",
        "    print(\"It is a even number.\")\n",
        "  else:\n",
        "    print(\"odd number\")\n",
        "odd_even(5)\n",
        "\n",
        "                                         #Area Calculator\n",
        "#press 1 to get the area of the square.\n",
        "#press 2 to get the area of the rectangle\n",
        "\n",
        "# area = int(input(\"Enter the input to find the area: \"))\n",
        "# if area == 1:\n",
        "#   side = float(input(\"Enter the side of the square to get the area: \"))\n",
        "#   area_square = side * side\n",
        "#   print(area_square)\n",
        "# elif area == 2:\n",
        "#   length = float(input(\"Enter the side of the rectangle: \"))\n",
        "#   breadth = float(input(\"Enter the side of the rectangle: \"))\n",
        "#   area_rect = length * breadth\n",
        "#   print(area_rect)\n",
        "# else:\n",
        "#   print(\"INVALID INPUT, Kindly put the valid input to find the area.\")\n",
        "\n",
        "\n",
        "# vow = input(\"Enter the letter to find the vowel\")\n",
        "# if vow in 'AEIOUaeiou':\n",
        "#   print(\"The passed letter is a vowel\")\n",
        "# else:\n",
        "#   print(\"Not a vowel\")\n",
        "\n",
        ""
      ],
      "metadata": {
        "id": "Bt0kPc2sU3jg",
        "outputId": "13b0ddc4-f708-49c0-8640-f0d2fd8f6986",
        "colab": {
          "base_uri": "https://localhost:8080/"
        }
      },
      "execution_count": 32,
      "outputs": [
        {
          "output_type": "stream",
          "name": "stdout",
          "text": [
            "Negative\n",
            "odd number\n"
          ]
        }
      ]
    },
    {
      "cell_type": "code",
      "source": [
        "#print the table of 5 using for and while loop each.\n",
        "#write a program for nested loop\n",
        "#use continue statement in for loop and while loop\n",
        "#find the sum of all even number upto 50\n",
        "#write first 10 number and their squares.\n",
        "#check how many numbers are divided by 8 and 12 both"
      ],
      "metadata": {
        "id": "4TwkllhRVDfq"
      },
      "execution_count": 33,
      "outputs": []
    },
    {
      "cell_type": "code",
      "source": [
        "# n = 5\n",
        "# for i in range(1,11):\n",
        "#   print(n*i)\n",
        "\n",
        "# n = 1\n",
        "# a = 5                        #By the input method can canculate any table:\n",
        "# while n <=10:\n",
        "#   print(a * n)\n",
        "#   n += 1\n",
        "\n",
        "for i in range(1,5):\n",
        "  if i == 3:\n",
        "    print(\"skip this part please.\")\n",
        "    continue\n",
        "  else:\n",
        "    print(i)\n",
        "\n",
        "for i in range(1,5):\n",
        "  if i == 3:\n",
        "    print(\"Song is ended\")\n",
        "    break\n",
        "  else:\n",
        "    print(i)\n",
        "\n",
        "sum = 0\n",
        "for i in range(1,51):\n",
        "  if i % 2 == 0:\n",
        "    sum += i\n",
        "print(sum)\n",
        "\n",
        "for i in range(1,11):\n",
        "  print(\"The square of\", i, \"is\", i*i)\n",
        "\n",
        "\n",
        "for i in range(1,101):\n",
        "  if i % 8 == 0 and i % 12 == 0:\n",
        "    print(i)\n"
      ],
      "metadata": {
        "id": "3jwvA2QdaKPV",
        "outputId": "89c3d6ad-e00f-4079-d243-f483f4f29a7b",
        "colab": {
          "base_uri": "https://localhost:8080/"
        }
      },
      "execution_count": 44,
      "outputs": [
        {
          "output_type": "stream",
          "name": "stdout",
          "text": [
            "1\n",
            "2\n",
            "skip this part please.\n",
            "4\n",
            "1\n",
            "2\n",
            "Song is ended\n",
            "650\n",
            "The square of 1 is 1\n",
            "The square of 2 is 4\n",
            "The square of 3 is 9\n",
            "The square of 4 is 16\n",
            "The square of 5 is 25\n",
            "The square of 6 is 36\n",
            "The square of 7 is 49\n",
            "The square of 8 is 64\n",
            "The square of 9 is 81\n",
            "The square of 10 is 100\n",
            "24\n",
            "48\n",
            "72\n",
            "96\n"
          ]
        }
      ]
    },
    {
      "cell_type": "code",
      "source": [
        "#problems on string\n",
        "\n",
        "a = \"why to fit in, when you are born to shine.\"\n",
        "#write the program to find the length of the strng.\n",
        "#write a program to check how many times alphabet o is occuring\n",
        "#write the program to convert the whole string into lower and upper\n",
        "#write the program to convert this string into a single title\n",
        "#write the program to find index of fit"
      ],
      "metadata": {
        "id": "lnw0ij_oackJ"
      },
      "execution_count": 46,
      "outputs": []
    },
    {
      "cell_type": "code",
      "source": [
        "print(len(a))\n",
        "\n",
        "print(a.count(\"o\"))\n",
        "\n",
        "print(a.lower())\n",
        "\n",
        "print(a.upper())\n",
        "\n",
        "print(a.title())\n",
        "\n",
        "print(a.index(\"fit\"))\n",
        "\n"
      ],
      "metadata": {
        "id": "BKomeHfXc1py",
        "outputId": "4a0e0eed-a99e-4fc5-85a0-83c38cf878d3",
        "colab": {
          "base_uri": "https://localhost:8080/"
        }
      },
      "execution_count": 53,
      "outputs": [
        {
          "output_type": "stream",
          "name": "stdout",
          "text": [
            "42\n",
            "4\n",
            "why to fit in, when you are born to shine.\n",
            "WHY TO FIT IN, WHEN YOU ARE BORN TO SHINE.\n",
            "Why To Fit In, When You Are Born To Shine.\n",
            "7\n"
          ]
        }
      ]
    },
    {
      "cell_type": "code",
      "source": [
        "#fibonacci series\n",
        "#palindrome\n",
        "#check the digit is prime or not"
      ],
      "metadata": {
        "id": "ZkL9sy1GdnIV"
      },
      "execution_count": null,
      "outputs": []
    },
    {
      "cell_type": "code",
      "source": [
        "def fibonacci(n):\n",
        "  a,b = 0,1\n",
        "  for i in range(1,11):\n",
        "    print(a, end = \" \")\n",
        "    c = a + b\n",
        "    a = b\n",
        "    b = c\n",
        "fibonacci(10)\n",
        "\n",
        "print()\n",
        "\n",
        "def palindrome(n):\n",
        "  if n == n[::-1]:\n",
        "    print(\"It is a palindrome.\")\n",
        "  else:\n",
        "    print('Not a palindrome.')\n",
        "palindrome(\"madam\")\n",
        "\n",
        "\n",
        "def check_prime(n):\n",
        "  if n <= 1:\n",
        "    print(\"It is not a prime number.\")\n",
        "  else:\n",
        "    for i in range(2,int(n**0.5)+1):\n",
        "      if n % i == 0:\n",
        "        print(\"Not a prime number.\")\n",
        "        break\n",
        "    else:\n",
        "      print(\"Prime number.\")\n",
        "check_prime(3)"
      ],
      "metadata": {
        "id": "E43eswFteayk",
        "outputId": "d67662bd-09f2-4ccb-ad5b-d4362afe6ebe",
        "colab": {
          "base_uri": "https://localhost:8080/"
        }
      },
      "execution_count": 62,
      "outputs": [
        {
          "output_type": "stream",
          "name": "stdout",
          "text": [
            "0 1 1 2 3 5 8 13 21 34 \n",
            "It is a palindrome.\n",
            "Prime number.\n"
          ]
        }
      ]
    },
    {
      "cell_type": "code",
      "source": [],
      "metadata": {
        "id": "M3cBtJAmw4CZ"
      },
      "execution_count": null,
      "outputs": []
    },
    {
      "cell_type": "code",
      "source": [
        "a = \"ootd.yolo.asap\"\n",
        "#write the program to separate the following string into comma separated values\n",
        "#write the program to sort alphabetically in python\n",
        "z = \"F.R.I.E.N.D.S\"\n",
        "#write the program to remove a given character from a string\n",
        "#remove dot(.)"
      ],
      "metadata": {
        "id": "ZTvTMolNeu0K"
      },
      "execution_count": null,
      "outputs": []
    },
    {
      "cell_type": "code",
      "source": [
        "a = \"ootd.yolo.asap\"\n",
        "b = a.replace(\".\",\",\")\n",
        "b\n",
        "\n",
        "\n",
        "s = \"adgde\"\n",
        "s = sorted(s)\n",
        "print(s)\n",
        "\n",
        "z = \"F.R.I.E.N.D.S\"\n",
        "b = z.replace(\".\", \"\")\n",
        "print(b)"
      ],
      "metadata": {
        "id": "Qjo1vtF_w5At",
        "outputId": "c6add402-5c86-4a4e-95d6-7025f8ff3b75",
        "colab": {
          "base_uri": "https://localhost:8080/"
        }
      },
      "execution_count": 72,
      "outputs": [
        {
          "output_type": "stream",
          "name": "stdout",
          "text": [
            "['a', 'd', 'd', 'e', 'g']\n",
            "FRIENDS\n"
          ]
        }
      ]
    },
    {
      "cell_type": "code",
      "source": [
        "#take the input from the user and reverse it\n",
        "#write the program to check string contains only digit.\n",
        "#write the program to find the number of vowels in a string\n",
        "#write the program to check if every word in a string begins with a capital letter."
      ],
      "metadata": {
        "id": "vIB_uEIrxbdi"
      },
      "execution_count": null,
      "outputs": []
    },
    {
      "cell_type": "code",
      "source": [
        "# inp = input(\"Enter anything: \")\n",
        "# print(inp[::-1])\n",
        "\n",
        "\n",
        "a = \"345\"\n",
        "print(a.isdigit())\n",
        "\n",
        "a = \"hello brother, where are you.\"\n",
        "vowel = 0\n",
        "for i in a:\n",
        "  if i == \"a\" or i == \"A\" or i == \"e\" or i == \"E\" or i == \"i\" or i == \"I\" or i == \"o\" or i == \"O\" or i == \"u\" or i == \"U\":\n",
        "    vowel += 1\n",
        "print(vowel)\n",
        "\n",
        "\n",
        "a = \"Hello Bhai, how are You\"\n",
        "b = \"Hello Brother, How Are You\"\n",
        "print(a.istitle())\n",
        "print(b.istitle())"
      ],
      "metadata": {
        "id": "OxXOA2MLy-Jp",
        "outputId": "58b6e417-81bc-4a7e-ef68-6c0531b4a60d",
        "colab": {
          "base_uri": "https://localhost:8080/"
        }
      },
      "execution_count": 84,
      "outputs": [
        {
          "output_type": "stream",
          "name": "stdout",
          "text": [
            "True\n",
            "10\n",
            "False\n",
            "True\n"
          ]
        }
      ]
    },
    {
      "cell_type": "code",
      "source": [],
      "metadata": {
        "id": "96vTsUUQzNpS"
      },
      "execution_count": null,
      "outputs": []
    }
  ],
  "metadata": {
    "kernelspec": {
      "display_name": "Python 3",
      "language": "python",
      "name": "python3"
    },
    "language_info": {
      "codemirror_mode": {
        "name": "ipython",
        "version": 3
      },
      "file_extension": ".py",
      "mimetype": "text/x-python",
      "name": "python",
      "nbconvert_exporter": "python",
      "pygments_lexer": "ipython3",
      "version": "3.7.3"
    },
    "colab": {
      "provenance": [],
      "include_colab_link": true
    }
  },
  "nbformat": 4,
  "nbformat_minor": 0
}