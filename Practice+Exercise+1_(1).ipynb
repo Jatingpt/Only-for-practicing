{
  "cells": [
    {
      "cell_type": "markdown",
      "metadata": {
        "id": "view-in-github",
        "colab_type": "text"
      },
      "source": [
        "<a href=\"https://colab.research.google.com/github/Jatingpt/Only-for-practicing/blob/main/Practice%2BExercise%2B1_(1).ipynb\" target=\"_parent\"><img src=\"https://colab.research.google.com/assets/colab-badge.svg\" alt=\"Open In Colab\"/></a>"
      ]
    },
    {
      "cell_type": "code",
      "source": [
        "for i in range(1,11):\n",
        "  print(i*i)"
      ],
      "metadata": {
        "id": "f8K4w8Ymvkpv",
        "outputId": "9638d3f3-691b-4bc6-bf5f-f214bc72e637",
        "colab": {
          "base_uri": "https://localhost:8080/"
        }
      },
      "execution_count": 20,
      "outputs": [
        {
          "output_type": "stream",
          "name": "stdout",
          "text": [
            "1\n",
            "4\n",
            "9\n",
            "16\n",
            "25\n",
            "36\n",
            "49\n",
            "64\n",
            "81\n",
            "100\n"
          ]
        }
      ]
    },
    {
      "cell_type": "code",
      "source": [
        "st = \"ris olleh\"\n",
        "rev_str = \"\"\n",
        "for i in st:\n",
        "  rev_str = i + rev_str\n",
        "print(rev_str)"
      ],
      "metadata": {
        "id": "OQXBCsmsvqj6",
        "outputId": "e2f23097-5098-4832-8b12-b65c3c582e92",
        "colab": {
          "base_uri": "https://localhost:8080/"
        }
      },
      "execution_count": 2,
      "outputs": [
        {
          "output_type": "stream",
          "name": "stdout",
          "text": [
            "hello sir\n"
          ]
        }
      ]
    },
    {
      "cell_type": "code",
      "source": [
        "st = \"ris olleh\"\n",
        "rev = st[::-1]\n",
        "print(rev)"
      ],
      "metadata": {
        "id": "9BAvk7Njvqma",
        "outputId": "394d93be-b429-4059-96c7-36302fada0e3",
        "colab": {
          "base_uri": "https://localhost:8080/"
        }
      },
      "execution_count": 5,
      "outputs": [
        {
          "output_type": "stream",
          "name": "stdout",
          "text": [
            "hello sir\n"
          ]
        }
      ]
    },
    {
      "cell_type": "code",
      "source": [
        "palin = input(\"Enter anything to find the palindrome: \")\n",
        "if palin == palin[::-1]:\n",
        "  print(\"It is a palindrome.\")\n",
        "else:\n",
        "  print(\"It is not a palindrome.\")"
      ],
      "metadata": {
        "id": "V--QPztJvqo5",
        "outputId": "9079276f-021a-4497-f3f6-8a5507bf7d8c",
        "colab": {
          "base_uri": "https://localhost:8080/"
        }
      },
      "execution_count": 6,
      "outputs": [
        {
          "output_type": "stream",
          "name": "stdout",
          "text": [
            "Enter anything to find the palindrome: 454\n",
            "It is a palindrome.\n"
          ]
        }
      ]
    },
    {
      "cell_type": "code",
      "source": [
        "lis = [2,3,32,2,33,2,34,3444,22,2,3322,3,433,34,32]\n",
        "lis = sorted(lis)\n",
        "lis[-2]"
      ],
      "metadata": {
        "id": "CroKe5kEvqrS",
        "outputId": "c808ee61-92dd-43cf-d5e0-3371ca88502c",
        "colab": {
          "base_uri": "https://localhost:8080/"
        }
      },
      "execution_count": 7,
      "outputs": [
        {
          "output_type": "execute_result",
          "data": {
            "text/plain": [
              "3322"
            ]
          },
          "metadata": {},
          "execution_count": 7
        }
      ]
    },
    {
      "cell_type": "code",
      "source": [
        "n = int(input(\"Enter the number to find the whether the number is even or odd: \"))\n",
        "if n % 2 ==0:\n",
        "  print(\"It is an even number.\")\n",
        "else:\n",
        "  print(\"It is an odd number.\")"
      ],
      "metadata": {
        "id": "UUVQUdDvxZMH",
        "outputId": "4ea90ba0-2ece-4347-c966-0d8c4d33a52d",
        "colab": {
          "base_uri": "https://localhost:8080/"
        }
      },
      "execution_count": 13,
      "outputs": [
        {
          "output_type": "stream",
          "name": "stdout",
          "text": [
            "Enter the number to find the whether the number is even or odd: 4\n",
            "It is an even number.\n"
          ]
        }
      ]
    },
    {
      "cell_type": "code",
      "source": [
        "a = 34\n",
        "b = 43\n",
        "a,b = b,a\n",
        "print(a)\n",
        "print(b)"
      ],
      "metadata": {
        "id": "i5owTxg6ySn1",
        "outputId": "e11acacd-543c-4193-ad92-e348f2a1eacb",
        "colab": {
          "base_uri": "https://localhost:8080/"
        }
      },
      "execution_count": 19,
      "outputs": [
        {
          "output_type": "stream",
          "name": "stdout",
          "text": [
            "43\n",
            "34\n"
          ]
        }
      ]
    },
    {
      "cell_type": "code",
      "source": [
        "def check_prime(n):\n",
        "  if n < 1:\n",
        "    print(\"It is not a prime number.\")\n",
        "  if n == 2:\n",
        "    print(\"It is not a prime number.\")\n",
        "  else:\n",
        "    for i in range(2,n):\n",
        "      if n % i == 0:\n",
        "        print(\"It is not a prime number.\")\n",
        "        break\n",
        "    else:\n",
        "      print(\"Finally, got the prime number.\")\n",
        "check_prime(17)"
      ],
      "metadata": {
        "id": "xZUCp46cxZHJ",
        "outputId": "53dd82a8-5560-4915-ef13-c38343ff844d",
        "colab": {
          "base_uri": "https://localhost:8080/"
        }
      },
      "execution_count": 18,
      "outputs": [
        {
          "output_type": "stream",
          "name": "stdout",
          "text": [
            "Finally, got the prime number.\n"
          ]
        }
      ]
    },
    {
      "cell_type": "code",
      "source": [
        "def fibonacci(n):\n",
        "  a,b = 0,1\n",
        "  for i in range(n):\n",
        "    print(a, end = \" \")\n",
        "    c = a + b\n",
        "    a = b\n",
        "    b = c\n",
        "fibonacci(10)"
      ],
      "metadata": {
        "id": "CwaLn8dLvquj",
        "outputId": "6ec079d7-5aee-4900-e6e1-878eb69bd839",
        "colab": {
          "base_uri": "https://localhost:8080/"
        }
      },
      "execution_count": 12,
      "outputs": [
        {
          "output_type": "stream",
          "name": "stdout",
          "text": [
            "0 1 1 2 3 5 8 13 21 34 "
          ]
        }
      ]
    },
    {
      "cell_type": "code",
      "source": [
        "def fibonacci(n):\n",
        "  a,b = 0,1\n",
        "  for i in range(n):\n",
        "    print(a)\n",
        "    c = a + b\n",
        "    a = b\n",
        "    b = c\n",
        "print(fibonacci(10))"
      ],
      "metadata": {
        "id": "RYOLjOp_vqxM",
        "outputId": "b2ab188e-ddb1-4181-fd49-1b51c16170ba",
        "colab": {
          "base_uri": "https://localhost:8080/"
        }
      },
      "execution_count": 11,
      "outputs": [
        {
          "output_type": "stream",
          "name": "stdout",
          "text": [
            "0\n",
            "1\n",
            "1\n",
            "2\n",
            "3\n",
            "5\n",
            "8\n",
            "13\n",
            "21\n",
            "34\n",
            "None\n"
          ]
        }
      ]
    },
    {
      "cell_type": "code",
      "source": [
        "a = [3,22,3,2,3,4,24,2,4,2,42,2]\n",
        "a = set(a)\n",
        "a"
      ],
      "metadata": {
        "id": "XQ78WthZvq1G",
        "outputId": "294a7874-9d4e-4398-fd95-e5caafae3ca2",
        "colab": {
          "base_uri": "https://localhost:8080/"
        }
      },
      "execution_count": 21,
      "outputs": [
        {
          "output_type": "execute_result",
          "data": {
            "text/plain": [
              "{2, 3, 4, 22, 24, 42}"
            ]
          },
          "metadata": {},
          "execution_count": 21
        }
      ]
    },
    {
      "cell_type": "code",
      "source": [
        "a = [3,22,3,2,3,4,24,2,4,2,42,2]\n",
        "unique = list(dict.fromkeys(a))\n",
        "unique"
      ],
      "metadata": {
        "id": "wcU6lBDtvq3o",
        "outputId": "031dfd25-b5ce-458c-9bb9-35376411332f",
        "colab": {
          "base_uri": "https://localhost:8080/"
        }
      },
      "execution_count": 22,
      "outputs": [
        {
          "output_type": "execute_result",
          "data": {
            "text/plain": [
              "[3, 22, 2, 4, 24, 42]"
            ]
          },
          "metadata": {},
          "execution_count": 22
        }
      ]
    },
    {
      "cell_type": "code",
      "source": [
        "sum = 0\n",
        "for i in range(1,41):\n",
        "  if i % 2 == 0:\n",
        "    sum += i\n",
        "print(sum)"
      ],
      "metadata": {
        "id": "6M4cMdz-vq6C",
        "outputId": "58d0d2bd-312a-4f22-b7b9-e60599504aef",
        "colab": {
          "base_uri": "https://localhost:8080/"
        }
      },
      "execution_count": 28,
      "outputs": [
        {
          "output_type": "stream",
          "name": "stdout",
          "text": [
            "420\n"
          ]
        }
      ]
    },
    {
      "cell_type": "code",
      "source": [
        "name = \"Jatin\"\n",
        "salary = 3444\n",
        "designation = \"AI ML Engineer\"\n",
        "print(f\"my name is {name}, salary is {salary}, designation is {designation}\")\n",
        "print(\"My name is {}, salary is {}, designations is {}\".format(name, salary, designation))\n",
        "print(\"My name is {0}, salary is {1}, designation is {2}\".format(name, salary, designation))"
      ],
      "metadata": {
        "id": "dOKERg_3zyZB",
        "outputId": "787565e5-1ae1-4200-f016-850da4f39e25",
        "colab": {
          "base_uri": "https://localhost:8080/"
        }
      },
      "execution_count": 41,
      "outputs": [
        {
          "output_type": "stream",
          "name": "stdout",
          "text": [
            "my name is Jatin, salary is 3444, designation is AI ML Engineer\n",
            "My name is Jatin, salary is 3444, designations is AI ML Engineer\n",
            "My name is Jatin, salary is 3444, designation is AI ML Engineer\n"
          ]
        }
      ]
    },
    {
      "cell_type": "code",
      "source": [
        "sum = 0\n",
        "n = 1\n",
        "while n <= 10:\n",
        "  sum += n\n",
        "  n += 1\n",
        "print(sum)"
      ],
      "metadata": {
        "id": "HdNxTo6SzyTf",
        "outputId": "5c4a073a-7e15-431e-d9ff-017603786544",
        "colab": {
          "base_uri": "https://localhost:8080/"
        }
      },
      "execution_count": 43,
      "outputs": [
        {
          "output_type": "stream",
          "name": "stdout",
          "text": [
            "55\n"
          ]
        }
      ]
    },
    {
      "cell_type": "code",
      "source": [
        "#to find the first non-repeating character.\n",
        "def non_repeating(n):\n",
        "  for i in n:\n",
        "    if n.count(i) == 1:\n",
        "      return i\n",
        "  return none\n",
        "n = \"heeeeeeeeeeeeeeeeeeehi\"\n",
        "non_repeating(n)"
      ],
      "metadata": {
        "id": "PIZoT5IFzyRJ",
        "outputId": "89946213-da54-4973-b5cb-545c81ab976c",
        "colab": {
          "base_uri": "https://localhost:8080/",
          "height": 35
        }
      },
      "execution_count": 50,
      "outputs": [
        {
          "output_type": "execute_result",
          "data": {
            "text/plain": [
              "'i'"
            ],
            "application/vnd.google.colaboratory.intrinsic+json": {
              "type": "string"
            }
          },
          "metadata": {},
          "execution_count": 50
        }
      ]
    },
    {
      "cell_type": "code",
      "source": [
        "lis = [[1,2], [3,4], [5,6]]\n",
        "flat_list = lis[0] + lis[1] + lis[2]\n",
        "flat_list"
      ],
      "metadata": {
        "id": "su6IU8AZzyOu",
        "outputId": "91db8ee8-4e2b-42d7-b18f-088ec9c0b71d",
        "colab": {
          "base_uri": "https://localhost:8080/"
        }
      },
      "execution_count": 52,
      "outputs": [
        {
          "output_type": "execute_result",
          "data": {
            "text/plain": [
              "[1, 2, 3, 4, 5, 6]"
            ]
          },
          "metadata": {},
          "execution_count": 52
        }
      ]
    },
    {
      "cell_type": "code",
      "source": [
        "lis = [[1,2], [3,4], [5,6]]\n",
        "flatten_list = [i for i in lis for i in i]\n",
        "flatten_list"
      ],
      "metadata": {
        "id": "AavTVJXkzyMM",
        "outputId": "26295119-2521-4fac-e25b-6484820d5a6e",
        "colab": {
          "base_uri": "https://localhost:8080/"
        }
      },
      "execution_count": 54,
      "outputs": [
        {
          "output_type": "execute_result",
          "data": {
            "text/plain": [
              "[1, 2, 3, 4, 5, 6]"
            ]
          },
          "metadata": {},
          "execution_count": 54
        }
      ]
    },
    {
      "cell_type": "code",
      "source": [
        "a =\"banana\"\n",
        "from collections import Counter\n",
        "freq = Counter(a)\n",
        "freq"
      ],
      "metadata": {
        "id": "JwMumRMLzyJt",
        "outputId": "b74818aa-d9a5-4ea0-af1f-0b9ff00be9c6",
        "colab": {
          "base_uri": "https://localhost:8080/"
        }
      },
      "execution_count": 57,
      "outputs": [
        {
          "output_type": "execute_result",
          "data": {
            "text/plain": [
              "Counter({'b': 1, 'a': 3, 'n': 2})"
            ]
          },
          "metadata": {},
          "execution_count": 57
        }
      ]
    },
    {
      "cell_type": "code",
      "source": [
        "def rot_lis(lis, k):\n",
        "  k = k % len(lis)\n",
        "  return lis[-k:] + lis[:-k]\n",
        "lis = [1,2,3,4,5]\n",
        "k = 1\n",
        "rot_lis(lis,k)"
      ],
      "metadata": {
        "id": "3uGSYTnXzyHn",
        "outputId": "bde28137-1b40-4963-dd5e-817d252d7954",
        "colab": {
          "base_uri": "https://localhost:8080/"
        }
      },
      "execution_count": 59,
      "outputs": [
        {
          "output_type": "execute_result",
          "data": {
            "text/plain": [
              "[5, 1, 2, 3, 4]"
            ]
          },
          "metadata": {},
          "execution_count": 59
        }
      ]
    },
    {
      "cell_type": "code",
      "source": [],
      "metadata": {
        "id": "lv2NPbfSzyFX"
      },
      "execution_count": null,
      "outputs": []
    },
    {
      "cell_type": "code",
      "source": [],
      "metadata": {
        "id": "tSQJmbfnzyAm"
      },
      "execution_count": null,
      "outputs": []
    },
    {
      "cell_type": "code",
      "source": [],
      "metadata": {
        "id": "mcg33DHezx-F"
      },
      "execution_count": null,
      "outputs": []
    },
    {
      "cell_type": "code",
      "source": [],
      "metadata": {
        "id": "hUy4woyQzx7e"
      },
      "execution_count": null,
      "outputs": []
    },
    {
      "cell_type": "code",
      "source": [],
      "metadata": {
        "id": "rY3w-gSlzx5B"
      },
      "execution_count": null,
      "outputs": []
    },
    {
      "cell_type": "code",
      "source": [],
      "metadata": {
        "id": "nytaFGfHzx2P"
      },
      "execution_count": null,
      "outputs": []
    },
    {
      "cell_type": "code",
      "source": [],
      "metadata": {
        "id": "jffyxsrXzxz1"
      },
      "execution_count": null,
      "outputs": []
    },
    {
      "cell_type": "code",
      "source": [
        "let = input(\"Enter the letter to find the vowel: \")\n",
        "if let in \"aeiouAEIOU\":\n",
        "  print(\"It is a vowel.\")\n",
        "else:\n",
        "  print(\"Not a vowel.\")"
      ],
      "metadata": {
        "id": "icHLRmevvq8c",
        "outputId": "3d9a6cd3-16bf-4084-d380-be55f469328e",
        "colab": {
          "base_uri": "https://localhost:8080/"
        }
      },
      "execution_count": 29,
      "outputs": [
        {
          "output_type": "stream",
          "name": "stdout",
          "text": [
            "Enter the letter to find the vowel: r\n",
            "Not a vowel.\n"
          ]
        }
      ]
    },
    {
      "cell_type": "code",
      "source": [
        "lis = [[1,2], [3,4], [5,6]]\n",
        "flat_lis = lis[0] + lis[1] + lis[2]\n",
        "flat_lis"
      ],
      "metadata": {
        "id": "7VSN93JEvBDj",
        "outputId": "54b58119-054d-445c-af72-dc85ad4e33ce",
        "colab": {
          "base_uri": "https://localhost:8080/"
        }
      },
      "execution_count": null,
      "outputs": [
        {
          "output_type": "execute_result",
          "data": {
            "text/plain": [
              "[1, 2, 3, 4, 5, 6]"
            ]
          },
          "metadata": {},
          "execution_count": 54
        }
      ]
    },
    {
      "cell_type": "code",
      "source": [
        "lis = [[1,2], [3,4], [5,6]]\n",
        "flatten_list = [i for i in lis for i in i]\n",
        "flatten_list"
      ],
      "metadata": {
        "id": "6YhRzJfBvBBQ",
        "outputId": "8b9a53c0-9d19-4961-98d9-76ffa3a3ea1b",
        "colab": {
          "base_uri": "https://localhost:8080/"
        }
      },
      "execution_count": null,
      "outputs": [
        {
          "output_type": "execute_result",
          "data": {
            "text/plain": [
              "[1, 2, 3, 4, 5, 6]"
            ]
          },
          "metadata": {},
          "execution_count": 58
        }
      ]
    },
    {
      "cell_type": "code",
      "source": [
        "st = \"abc\"\n",
        "rev_str = st[::-1]\n",
        "rev_str"
      ],
      "metadata": {
        "id": "v31kMEiPvA8Z",
        "outputId": "bc7bdad4-061d-4bff-d4bc-bded3bebf25c",
        "colab": {
          "base_uri": "https://localhost:8080/",
          "height": 35
        }
      },
      "execution_count": null,
      "outputs": [
        {
          "output_type": "execute_result",
          "data": {
            "text/plain": [
              "'cba'"
            ],
            "application/vnd.google.colaboratory.intrinsic+json": {
              "type": "string"
            }
          },
          "metadata": {},
          "execution_count": 59
        }
      ]
    },
    {
      "cell_type": "code",
      "source": [
        "def ana(str1, str2):\n",
        "  if sorted(str1) == sorted(str2):\n",
        "    print(str1, \"and\", str2, \"are anagrams\")\n",
        "  else:\n",
        "    print(\"Not an anagrams.\")\n",
        "ana(\"listen\", \"silent\")"
      ],
      "metadata": {
        "id": "_On71QT8vA5-",
        "outputId": "bbcdd85a-c6b7-4cd8-d397-9a3f6bab62f8",
        "colab": {
          "base_uri": "https://localhost:8080/"
        }
      },
      "execution_count": null,
      "outputs": [
        {
          "output_type": "stream",
          "name": "stdout",
          "text": [
            "listen and silent are anagrams\n"
          ]
        }
      ]
    },
    {
      "cell_type": "code",
      "source": [
        "a = \"banana\"\n",
        "from collections import Counter\n",
        "freq = Counter(a)\n",
        "freq"
      ],
      "metadata": {
        "id": "_2H2KXTRvA3w",
        "outputId": "33b40307-15f8-4d6a-eef1-4b50e0e97b50",
        "colab": {
          "base_uri": "https://localhost:8080/"
        }
      },
      "execution_count": null,
      "outputs": [
        {
          "output_type": "execute_result",
          "data": {
            "text/plain": [
              "Counter({'b': 1, 'a': 3, 'n': 2})"
            ]
          },
          "metadata": {},
          "execution_count": 62
        }
      ]
    },
    {
      "cell_type": "code",
      "source": [
        "a = {\"a\": 1, \"b\" : 3, \"c\": 2}\n",
        "sort_dic = sorted(a.values())\n",
        "sort_dic"
      ],
      "metadata": {
        "id": "V-G3mG-fvAwZ",
        "outputId": "0659998e-d2eb-46b1-97da-b0572ddb66a9",
        "colab": {
          "base_uri": "https://localhost:8080/"
        }
      },
      "execution_count": null,
      "outputs": [
        {
          "output_type": "execute_result",
          "data": {
            "text/plain": [
              "[1, 2, 3]"
            ]
          },
          "metadata": {},
          "execution_count": 66
        }
      ]
    },
    {
      "cell_type": "code",
      "source": [
        "a = [1,2,3]\n",
        "b = [4,5,6]\n",
        "import heapq\n",
        "mer_lis = list(heapq.merge(a,b))\n",
        "mer_lis"
      ],
      "metadata": {
        "id": "Z3gjFh15vAtH",
        "outputId": "20fcf632-2740-4d10-be0d-e5d33913125a",
        "colab": {
          "base_uri": "https://localhost:8080/"
        }
      },
      "execution_count": null,
      "outputs": [
        {
          "output_type": "execute_result",
          "data": {
            "text/plain": [
              "[1, 2, 3, 4, 5, 6]"
            ]
          },
          "metadata": {},
          "execution_count": 68
        }
      ]
    },
    {
      "cell_type": "code",
      "source": [
        "\n",
        "def rotat_lis(lis, k):\n",
        "  k = k%len(lis)\n",
        "  return lis[-k:] + lis[:-k]\n",
        "l = [1,2,3,4,5,6]\n",
        "k = 1\n",
        "rotat_lis(l,k)"
      ],
      "metadata": {
        "id": "9FN5j2chvApq",
        "outputId": "7ac4b51f-cf66-4c34-fe87-033556869a76",
        "colab": {
          "base_uri": "https://localhost:8080/"
        }
      },
      "execution_count": null,
      "outputs": [
        {
          "output_type": "execute_result",
          "data": {
            "text/plain": [
              "[6, 1, 2, 3, 4, 5]"
            ]
          },
          "metadata": {},
          "execution_count": 71
        }
      ]
    },
    {
      "cell_type": "code",
      "source": [
        "data = {\n",
        "    \"name\": \"John Doe\",\n",
        "    \"age\": 30,\n",
        "    \"email\": None,\n",
        "    \"phone\": \"9876543210\",\n",
        "    \"address\": None,\n",
        "    \"department\": \"AI/ML\",\n",
        "    \"salary\": 75000,\n",
        "    \"joining_date\": None\n",
        "}\n",
        "\n",
        "count = 0\n",
        "for i in data:\n",
        "  if data[i] == None:\n",
        "    count += 1\n",
        "print(count)"
      ],
      "metadata": {
        "id": "fdq8HrubvAmG",
        "outputId": "77853d9e-8ef3-44f1-f1d9-6095eeb4eb25",
        "colab": {
          "base_uri": "https://localhost:8080/"
        }
      },
      "execution_count": null,
      "outputs": [
        {
          "output_type": "stream",
          "name": "stdout",
          "text": [
            "3\n"
          ]
        }
      ]
    },
    {
      "cell_type": "code",
      "source": [
        "mul = 1\n",
        "a = [1,2,3]\n",
        "for i in a:\n",
        "  mul *= i\n",
        "print(mul)\n"
      ],
      "metadata": {
        "id": "DMfNmmSdvAj5",
        "outputId": "05b57c04-9d38-467b-9d29-4802c2dee3fa",
        "colab": {
          "base_uri": "https://localhost:8080/"
        }
      },
      "execution_count": null,
      "outputs": [
        {
          "output_type": "stream",
          "name": "stdout",
          "text": [
            "6\n"
          ]
        }
      ]
    },
    {
      "cell_type": "code",
      "source": [
        "a = \"ootd.bts.grwm\"\n",
        "a = a.replace(\".\", \",\")\n",
        "a"
      ],
      "metadata": {
        "id": "8VwY3ScKvAg2",
        "outputId": "356544aa-9a1b-4c16-c226-b192ee43d3dc",
        "colab": {
          "base_uri": "https://localhost:8080/",
          "height": 35
        }
      },
      "execution_count": null,
      "outputs": [
        {
          "output_type": "execute_result",
          "data": {
            "text/plain": [
              "'ootd,bts,grwm'"
            ],
            "application/vnd.google.colaboratory.intrinsic+json": {
              "type": "string"
            }
          },
          "metadata": {},
          "execution_count": 77
        }
      ]
    },
    {
      "cell_type": "code",
      "source": [
        "a = {\"a\": 1, \"c\": 3, \"b\": 3}\n",
        "sort_dic = sorted(a.keys())\n",
        "sort_dic"
      ],
      "metadata": {
        "id": "DZYQO9lQvAes",
        "outputId": "9310c347-3d71-462c-bb33-63dccf7dc1c9",
        "colab": {
          "base_uri": "https://localhost:8080/"
        }
      },
      "execution_count": null,
      "outputs": [
        {
          "output_type": "execute_result",
          "data": {
            "text/plain": [
              "['a', 'b', 'c']"
            ]
          },
          "metadata": {},
          "execution_count": 78
        }
      ]
    },
    {
      "cell_type": "code",
      "source": [
        "a = \"adkfkdsfdasdf\"\n",
        "a = sorted(a)\n",
        "a"
      ],
      "metadata": {
        "id": "q_Ylju2gvAZw",
        "outputId": "7c8cd59a-e1d7-4373-c20d-dc8fc393b938",
        "colab": {
          "base_uri": "https://localhost:8080/"
        }
      },
      "execution_count": null,
      "outputs": [
        {
          "output_type": "execute_result",
          "data": {
            "text/plain": [
              "['a', 'a', 'd', 'd', 'd', 'd', 'f', 'f', 'f', 'k', 'k', 's', 's']"
            ]
          },
          "metadata": {},
          "execution_count": 90
        }
      ]
    },
    {
      "cell_type": "code",
      "source": [
        "a = \"F.R.I.E.N.D.S\"\n",
        "a.replace(\".\", \"\")"
      ],
      "metadata": {
        "id": "9xwZI81YAa6z",
        "outputId": "768ddaef-8a32-491b-8722-08047d74ef05",
        "colab": {
          "base_uri": "https://localhost:8080/",
          "height": 35
        }
      },
      "execution_count": null,
      "outputs": [
        {
          "output_type": "execute_result",
          "data": {
            "text/plain": [
              "'FRIENDS'"
            ],
            "application/vnd.google.colaboratory.intrinsic+json": {
              "type": "string"
            }
          },
          "metadata": {},
          "execution_count": 92
        }
      ]
    },
    {
      "cell_type": "code",
      "source": [
        "a = \"elloe\"\n",
        "count = 0\n",
        "for i in a:\n",
        "  if i in \"aeiouAEIOU\":\n",
        "      count += 1\n",
        "print(count)"
      ],
      "metadata": {
        "id": "CnKfcPW_Aa33",
        "outputId": "196205b8-3c89-43c9-c8d8-f8f253bec706",
        "colab": {
          "base_uri": "https://localhost:8080/"
        }
      },
      "execution_count": null,
      "outputs": [
        {
          "output_type": "stream",
          "name": "stdout",
          "text": [
            "3\n"
          ]
        }
      ]
    },
    {
      "cell_type": "code",
      "source": [],
      "metadata": {
        "id": "Mz-E0hmvAazq"
      },
      "execution_count": null,
      "outputs": []
    },
    {
      "cell_type": "code",
      "source": [],
      "metadata": {
        "id": "uqsOtV_2AaxB"
      },
      "execution_count": null,
      "outputs": []
    },
    {
      "cell_type": "code",
      "source": [],
      "metadata": {
        "id": "16ZRn0MVAauH"
      },
      "execution_count": null,
      "outputs": []
    },
    {
      "cell_type": "code",
      "source": [],
      "metadata": {
        "id": "QV1bahg-AarM"
      },
      "execution_count": null,
      "outputs": []
    },
    {
      "cell_type": "code",
      "source": [],
      "metadata": {
        "id": "tzYQO3C_Aaoa"
      },
      "execution_count": null,
      "outputs": []
    },
    {
      "cell_type": "code",
      "source": [],
      "metadata": {
        "id": "rYXErLT5AamB"
      },
      "execution_count": null,
      "outputs": []
    },
    {
      "cell_type": "code",
      "source": [],
      "metadata": {
        "id": "Ec8DuKKvAaeH"
      },
      "execution_count": null,
      "outputs": []
    },
    {
      "cell_type": "code",
      "source": [],
      "metadata": {
        "id": "Of4g9MyovAW8"
      },
      "execution_count": null,
      "outputs": []
    },
    {
      "cell_type": "code",
      "source": [
        "for i in range(1,11):\n",
        "  print(i*i)"
      ],
      "metadata": {
        "id": "NfQXzmzKfNQf",
        "outputId": "44c69ece-d6bc-43ed-a717-b4dcb0c5dc75",
        "colab": {
          "base_uri": "https://localhost:8080/"
        }
      },
      "execution_count": null,
      "outputs": [
        {
          "output_type": "stream",
          "name": "stdout",
          "text": [
            "1\n",
            "4\n",
            "9\n",
            "16\n",
            "25\n",
            "36\n",
            "49\n",
            "64\n",
            "81\n",
            "100\n"
          ]
        }
      ]
    },
    {
      "cell_type": "code",
      "source": [
        "a = [1,2,3,22,3,4,4,2,4]\n",
        "a = set(a)\n",
        "a"
      ],
      "metadata": {
        "id": "EQDNXZ6PfNOX",
        "outputId": "c3e44fc8-8482-4049-9557-db643404a3d5",
        "colab": {
          "base_uri": "https://localhost:8080/"
        }
      },
      "execution_count": null,
      "outputs": [
        {
          "output_type": "execute_result",
          "data": {
            "text/plain": [
              "{1, 2, 3, 4, 22}"
            ]
          },
          "metadata": {},
          "execution_count": 16
        }
      ]
    },
    {
      "cell_type": "code",
      "source": [
        "a = [1,2,3,22,3,4,4,2,4]\n",
        "unique = list(dict.fromkeys(a))\n",
        "unique"
      ],
      "metadata": {
        "id": "dxeWjAZHfNMW",
        "outputId": "09718b71-65f1-4cc4-f234-1fd7245a10e5",
        "colab": {
          "base_uri": "https://localhost:8080/"
        }
      },
      "execution_count": null,
      "outputs": [
        {
          "output_type": "execute_result",
          "data": {
            "text/plain": [
              "[1, 2, 3, 22, 4]"
            ]
          },
          "metadata": {},
          "execution_count": 18
        }
      ]
    },
    {
      "cell_type": "code",
      "source": [
        "sum = 0\n",
        "for i in range(1,21):\n",
        "  sum += i\n",
        "print(sum)"
      ],
      "metadata": {
        "id": "OoHadUpVfNJ5",
        "outputId": "5536674a-ddb7-48f4-cac2-f158f469a3a5",
        "colab": {
          "base_uri": "https://localhost:8080/"
        }
      },
      "execution_count": null,
      "outputs": [
        {
          "output_type": "stream",
          "name": "stdout",
          "text": [
            "210\n"
          ]
        }
      ]
    },
    {
      "cell_type": "code",
      "source": [
        "sum = 0\n",
        "for i in range(1,41):\n",
        "  if i % 2 == 0:\n",
        "    sum += i\n",
        "print(sum)"
      ],
      "metadata": {
        "id": "6wm4MkdXfNHn",
        "outputId": "3d4b41ed-0e84-4eee-d866-46459e7e0d77",
        "colab": {
          "base_uri": "https://localhost:8080/"
        }
      },
      "execution_count": null,
      "outputs": [
        {
          "output_type": "stream",
          "name": "stdout",
          "text": [
            "420\n"
          ]
        }
      ]
    },
    {
      "cell_type": "code",
      "source": [
        "a = input(\"Enter the letters to find the vowels: \")\n",
        "if a in \"aeiouAEIOU\":\n",
        "  print(\"Yes, it is a vowel.\")\n",
        "else:\n",
        "  print(\"Not a vowel\")"
      ],
      "metadata": {
        "id": "glb4gwLNfNFx",
        "outputId": "1b01dc42-c563-469a-fc22-e8ac8a0a87de",
        "colab": {
          "base_uri": "https://localhost:8080/"
        }
      },
      "execution_count": null,
      "outputs": [
        {
          "output_type": "stream",
          "name": "stdout",
          "text": [
            "Enter the letters to find the vowels: r\n",
            "Not a vowel\n"
          ]
        }
      ]
    },
    {
      "cell_type": "code",
      "source": [
        "a = int(input(\"Enter the number here: \"))\n",
        "if a % 2 == 0:\n",
        "  print(\"It is an even number.\")\n",
        "else:\n",
        "  print(\"It is an odd number.\")"
      ],
      "metadata": {
        "id": "4qxydTVyfNBp",
        "outputId": "fccd7938-316c-44de-89a3-05e30802d47b",
        "colab": {
          "base_uri": "https://localhost:8080/"
        }
      },
      "execution_count": null,
      "outputs": [
        {
          "output_type": "stream",
          "name": "stdout",
          "text": [
            "Enter the number here: 4\n",
            "It is an even number.\n"
          ]
        }
      ]
    },
    {
      "cell_type": "code",
      "source": [
        "#press 1 to find the area of the square\n",
        "#press 2 to find the area of the rectangle\n",
        "find_area = int(input(\"Enter the number to find the area: \"))\n",
        "if find_area == 1:\n",
        "  side = float(input(\"Enter the side of the square: \"))\n",
        "  sq_area = side * side\n",
        "  print(sq_area)\n",
        "elif find_area == 2:\n",
        "  length = float(input(\"Enter the length of the rectangle: \"))\n",
        "  breadth = float(input(\"Enter the breadth of the rectangle: \"))\n",
        "  area_rect = length * breadth\n",
        "  print(area_rect)\n",
        "else:\n",
        "  print(\"INVALID INPUT!!\")"
      ],
      "metadata": {
        "id": "y3voTMDwfM-B",
        "outputId": "99858216-be92-4571-d15a-21e33304ecca",
        "colab": {
          "base_uri": "https://localhost:8080/"
        }
      },
      "execution_count": null,
      "outputs": [
        {
          "output_type": "stream",
          "name": "stdout",
          "text": [
            "Enter the number to find the area: 2\n",
            "Enter the length of the rectangle: 2\n",
            "Enter the breadth of the rectangle: 3\n",
            "6.0\n"
          ]
        }
      ]
    },
    {
      "cell_type": "code",
      "source": [
        "sum = 0\n",
        "n = 0\n",
        "while n <= 10:\n",
        "  sum+=n\n",
        "  n+= 1\n",
        "print(sum)"
      ],
      "metadata": {
        "id": "z1s2AguqfM5n",
        "outputId": "003a84b0-c314-471b-c646-57de8ee127bf",
        "colab": {
          "base_uri": "https://localhost:8080/"
        }
      },
      "execution_count": null,
      "outputs": [
        {
          "output_type": "stream",
          "name": "stdout",
          "text": [
            "55\n"
          ]
        }
      ]
    },
    {
      "cell_type": "code",
      "source": [
        "for i in range(1,20):\n",
        "  if i % 2 != 0:\n",
        "    print(i, end = \" \")"
      ],
      "metadata": {
        "id": "_SuMxB1pfM3D",
        "outputId": "d3b319bb-ef74-430d-88cc-4c826fabea1a",
        "colab": {
          "base_uri": "https://localhost:8080/"
        }
      },
      "execution_count": null,
      "outputs": [
        {
          "output_type": "stream",
          "name": "stdout",
          "text": [
            "1 3 5 7 9 11 13 15 17 19 "
          ]
        }
      ]
    },
    {
      "cell_type": "code",
      "source": [
        "sum = 0\n",
        "n = 0\n",
        "while n <= 20:\n",
        "  if n % 2 != 0:\n",
        "    sum += n\n",
        "  n += 1\n",
        "print(sum)"
      ],
      "metadata": {
        "id": "JiJxoJnxfM1B",
        "outputId": "78340daa-0c31-4192-f742-5a8d4dc69785",
        "colab": {
          "base_uri": "https://localhost:8080/"
        }
      },
      "execution_count": null,
      "outputs": [
        {
          "output_type": "stream",
          "name": "stdout",
          "text": [
            "100\n"
          ]
        }
      ]
    },
    {
      "cell_type": "code",
      "source": [
        "def check_prime(n):\n",
        "  if n <= 1:\n",
        "    print(\"Not a prime number.\")\n",
        "  if n == 2:\n",
        "    print(\"It is a prime number.\")\n",
        "  else:\n",
        "    for i in range(2,n):\n",
        "      if n % i == 0:\n",
        "        print(\"It is not a prime number.\")\n",
        "        break\n",
        "      else:\n",
        "        print(\"prime number.\")"
      ],
      "metadata": {
        "id": "FP_XPWyMfMxQ"
      },
      "execution_count": null,
      "outputs": []
    },
    {
      "cell_type": "code",
      "source": [
        "#non-repeating character.\n",
        "def non_repeating(a):\n",
        "  for char in a:\n",
        "    if a.count(char) == 1:\n",
        "      return char\n",
        "  return None\n",
        "a = \"aabbcccf\"\n",
        "non_repeating_char = non_repeating(a)\n",
        "non_repeating_char"
      ],
      "metadata": {
        "id": "j89cBs_ZqiQU",
        "outputId": "7b37f735-0265-446b-8f70-687fc9b1988e",
        "colab": {
          "base_uri": "https://localhost:8080/",
          "height": 35
        }
      },
      "execution_count": null,
      "outputs": [
        {
          "output_type": "execute_result",
          "data": {
            "text/plain": [
              "'f'"
            ],
            "application/vnd.google.colaboratory.intrinsic+json": {
              "type": "string"
            }
          },
          "metadata": {},
          "execution_count": 53
        }
      ]
    },
    {
      "cell_type": "code",
      "source": [
        "num = int(input(\"Enter the number to check prime: \"))\n",
        "if num < 1:\n",
        "  print(\"Not a prime number.\")\n",
        "if num == 2:\n",
        "  print(\"It is a prime number.\")\n",
        "else:\n",
        "  for i in range(2,num):\n",
        "    if num % i == 0:\n",
        "      print(\"Not a prime number.\")\n",
        "      break\n",
        "  else:\n",
        "    print(num, \"is a Prime number.\")"
      ],
      "metadata": {
        "id": "OaOsGPQ4fMs_",
        "outputId": "648fc6af-e5e5-4543-f77a-6a4dd26a5841",
        "colab": {
          "base_uri": "https://localhost:8080/"
        }
      },
      "execution_count": null,
      "outputs": [
        {
          "output_type": "stream",
          "name": "stdout",
          "text": [
            "Enter the number to check prime: 23\n",
            "23 is a Prime number.\n"
          ]
        }
      ]
    },
    {
      "cell_type": "code",
      "source": [
        "a = \"ris olleh\"\n",
        "rev_str = \"\"\n",
        "for i in a:\n",
        "  rev_str = i + rev_str\n",
        "print(rev_str)"
      ],
      "metadata": {
        "id": "hrfa7Q3jY-AZ",
        "outputId": "29c437d6-4bef-4ef0-d231-3482c53c1cac",
        "colab": {
          "base_uri": "https://localhost:8080/"
        }
      },
      "execution_count": null,
      "outputs": [
        {
          "output_type": "stream",
          "name": "stdout",
          "text": [
            "hello sir\n"
          ]
        }
      ]
    },
    {
      "cell_type": "code",
      "source": [
        "a = \"mdam\"\n",
        "if a == a[::-1]:\n",
        "  print(\"It is a palindrome.\")\n",
        "else:\n",
        "  print(\"Not a palindrome.\")"
      ],
      "metadata": {
        "id": "Qx4Eaui6Y99I",
        "outputId": "0ca75df7-d0c9-44c6-bec9-9f71659e5563",
        "colab": {
          "base_uri": "https://localhost:8080/"
        }
      },
      "execution_count": null,
      "outputs": [
        {
          "output_type": "stream",
          "name": "stdout",
          "text": [
            "Not a palindrome.\n"
          ]
        }
      ]
    },
    {
      "cell_type": "code",
      "source": [
        "a = [2,3,2,4,2,3,2,4,2,4,2,4,44,32,22,45,66,4,3,2224,43]\n",
        "a = sorted(a)\n",
        "a[-2]"
      ],
      "metadata": {
        "id": "bUyejuftY95K",
        "outputId": "021ad65d-1908-4f6f-c7d9-c775725e495a",
        "colab": {
          "base_uri": "https://localhost:8080/"
        }
      },
      "execution_count": null,
      "outputs": [
        {
          "output_type": "execute_result",
          "data": {
            "text/plain": [
              "66"
            ]
          },
          "metadata": {},
          "execution_count": 8
        }
      ]
    },
    {
      "cell_type": "code",
      "source": [
        "def fact(n):\n",
        "  if n == 1:\n",
        "    return n\n",
        "  else:\n",
        "    return n * fact(n-1)\n",
        "fact(5)"
      ],
      "metadata": {
        "id": "-hp_i_M_Y9zI",
        "outputId": "db3ad381-d9be-432e-f30b-4d09ee71e598",
        "colab": {
          "base_uri": "https://localhost:8080/"
        }
      },
      "execution_count": null,
      "outputs": [
        {
          "output_type": "execute_result",
          "data": {
            "text/plain": [
              "120"
            ]
          },
          "metadata": {},
          "execution_count": 9
        }
      ]
    },
    {
      "cell_type": "code",
      "source": [
        "def fibonacci(n):\n",
        "  a,b = 0,1\n",
        "  for i in range(n):\n",
        "    print(a, end = \" \")\n",
        "    c = a + b\n",
        "    a = b\n",
        "    b = c\n",
        "fibonacci(10)"
      ],
      "metadata": {
        "id": "PONlLqmTY9qn",
        "outputId": "0563d367-926d-4847-ceee-28635f5566f1",
        "colab": {
          "base_uri": "https://localhost:8080/"
        }
      },
      "execution_count": null,
      "outputs": [
        {
          "output_type": "stream",
          "name": "stdout",
          "text": [
            "0 1 1 2 3 5 8 13 21 34 "
          ]
        }
      ]
    },
    {
      "cell_type": "code",
      "source": [
        "a = 45\n",
        "b = 34\n",
        "a,b = b,a\n",
        "print(a)\n",
        "print(b)"
      ],
      "metadata": {
        "id": "SNSH1HbNeqUJ",
        "outputId": "56a93e18-c15a-4e1a-b9b4-9cb45c045560",
        "colab": {
          "base_uri": "https://localhost:8080/"
        }
      },
      "execution_count": null,
      "outputs": [
        {
          "output_type": "stream",
          "name": "stdout",
          "text": [
            "34\n",
            "45\n"
          ]
        }
      ]
    },
    {
      "cell_type": "code",
      "source": [
        "a = int(input(\"Write a program to check the even number: \"))\n",
        "if a % 2 == 0:\n",
        "  print(a, \"It is a even number.\")\n",
        "else:\n",
        "  print(a, \"is the odd number.\")"
      ],
      "metadata": {
        "id": "-HpEhSbHY9dT",
        "outputId": "e235466c-344f-40de-d6ff-4813276f864f",
        "colab": {
          "base_uri": "https://localhost:8080/"
        }
      },
      "execution_count": null,
      "outputs": [
        {
          "output_type": "stream",
          "name": "stdout",
          "text": [
            "Write a program to check the even number: 5\n",
            "5 is the odd number.\n"
          ]
        }
      ]
    },
    {
      "cell_type": "code",
      "execution_count": null,
      "metadata": {
        "id": "qEMmkSDoo8L5",
        "colab": {
          "base_uri": "https://localhost:8080/"
        },
        "outputId": "b7c5c99a-0d2e-4b94-8fae-523b5bdd44cc"
      },
      "outputs": [
        {
          "output_type": "execute_result",
          "data": {
            "text/plain": [
              "193"
            ]
          },
          "metadata": {},
          "execution_count": 1
        }
      ],
      "source": [
        "#Consider the string given below and answer the following questions\n",
        "string = \"OQYWFClFhFGAvIWYwGKpmZhnJiyzTslSIhSwvOsqJMEphzmifTkyqOMNpnOtXZxmCfgDYqbaBHAUvIWhMnvwZnEMVDvmEfLrDoQnAZgQEgXQVnmSYkfedpAdhrtpOgORpYLRZYGWdhWYuqQssCUXtTzKRDAhpjUheOzUroZNzWFtZOVwIapzUYtbSbjYNErzQ\"\n",
        "len(string)"
      ]
    },
    {
      "cell_type": "markdown",
      "metadata": {
        "id": "MHaMCZWlo8L7"
      },
      "source": [
        "####  Calculate the number of characters in the string\n",
        "\n",
        "-  193\n",
        "-  200\n",
        "-  300\n",
        "-  500\n"
      ]
    },
    {
      "cell_type": "code",
      "execution_count": null,
      "metadata": {
        "id": "bNZBUOvIo8L-",
        "colab": {
          "base_uri": "https://localhost:8080/"
        },
        "outputId": "d6ae002e-b833-42a9-b085-c52a8fb5ca85"
      },
      "outputs": [
        {
          "output_type": "execute_result",
          "data": {
            "text/plain": [
              "2"
            ]
          },
          "metadata": {},
          "execution_count": 2
        }
      ],
      "source": [
        "# Type your code here\n",
        "string.count(\"a\")"
      ]
    },
    {
      "cell_type": "markdown",
      "metadata": {
        "id": "Go7Ak7Z8o8MA"
      },
      "source": [
        "#### Count the number of occurences of 'a' in the string\n",
        "\n",
        "-  1\n",
        "-  2\n",
        "-  10\n",
        "-  5"
      ]
    },
    {
      "cell_type": "code",
      "execution_count": null,
      "metadata": {
        "id": "ozmu63SPo8MC"
      },
      "outputs": [],
      "source": [
        "# Type your code here"
      ]
    },
    {
      "cell_type": "markdown",
      "metadata": {
        "id": "Nf2P1HUoo8MD"
      },
      "source": [
        "#### Identify whether the string starts with 'if'.\n",
        "\n",
        "-  True\n",
        "-  False"
      ]
    },
    {
      "cell_type": "code",
      "execution_count": null,
      "metadata": {
        "id": "hwSy12VCo8MF",
        "colab": {
          "base_uri": "https://localhost:8080/",
          "height": 36
        },
        "outputId": "47131d5a-bc02-40fa-e43b-692727e4e23e"
      },
      "outputs": [
        {
          "output_type": "execute_result",
          "data": {
            "text/plain": [
              "'OQ'"
            ],
            "application/vnd.google.colaboratory.intrinsic+json": {
              "type": "string"
            }
          },
          "metadata": {},
          "execution_count": 3
        }
      ],
      "source": [
        "# Type your code here\n",
        "string[:2]"
      ]
    },
    {
      "cell_type": "markdown",
      "metadata": {
        "id": "H9Tp5mYno8MG"
      },
      "source": [
        "#### Return the substring starting at index 63 and ending at index 88  [Both the indexes are inclusive]\n",
        "\n",
        "-  'OQYWFClFhFGA'\n",
        "-  'mCfgDYqbaBHAUvIWhMnvwZnEMV'\n",
        "-  'IWYwGKpmZhnJiyzTslSIhSwv'\n",
        "-  'JMEphzmifTkyqOMNpnOtXZ'"
      ]
    },
    {
      "cell_type": "code",
      "execution_count": null,
      "metadata": {
        "collapsed": true,
        "id": "Bd6FsZC3o8MH",
        "outputId": "ee8609ed-7c08-4e09-883f-83cc27dc2074",
        "colab": {
          "base_uri": "https://localhost:8080/",
          "height": 36
        }
      },
      "outputs": [
        {
          "output_type": "execute_result",
          "data": {
            "text/plain": [
              "'mCfgDYqbaBHAUvIWhMnvwZnEMV'"
            ],
            "application/vnd.google.colaboratory.intrinsic+json": {
              "type": "string"
            }
          },
          "metadata": {},
          "execution_count": 4
        }
      ],
      "source": [
        "# Type your code here\n",
        "string[63:89]"
      ]
    },
    {
      "cell_type": "markdown",
      "metadata": {
        "id": "vw-gOIToo8MH"
      },
      "source": [
        "#### Identify the character at index 45\n",
        "\n",
        "-  a\n",
        "-  b\n",
        "-  z\n",
        "-  x"
      ]
    },
    {
      "cell_type": "code",
      "execution_count": null,
      "metadata": {
        "id": "Bq2-FEGAo8MI",
        "colab": {
          "base_uri": "https://localhost:8080/",
          "height": 36
        },
        "outputId": "e6a70d7b-830f-4d2f-c014-6f713bcbefe1"
      },
      "outputs": [
        {
          "output_type": "execute_result",
          "data": {
            "text/plain": [
              "'z'"
            ],
            "application/vnd.google.colaboratory.intrinsic+json": {
              "type": "string"
            }
          },
          "metadata": {},
          "execution_count": 10
        }
      ],
      "source": [
        "# Type your code here\n",
        "string[45]"
      ]
    },
    {
      "cell_type": "code",
      "execution_count": null,
      "metadata": {
        "collapsed": true,
        "id": "WzVNgWB-o8MI"
      },
      "outputs": [],
      "source": [
        "#WSCube\n",
        "#Progam to display name and others.\n",
        "#swap two variables\n",
        "#convert float into int\n",
        "#take input from user and convert it into int"
      ]
    },
    {
      "cell_type": "code",
      "source": [],
      "metadata": {
        "id": "VQGctr3wTP9X"
      },
      "execution_count": null,
      "outputs": []
    },
    {
      "cell_type": "code",
      "source": [
        "name = \"jatin\"\n",
        "age = 24\n",
        "print(name)\n",
        "print(age)\n",
        "\n",
        "print()\n",
        "\n",
        "a = 34\n",
        "b = 33\n",
        "a,b = b,a\n",
        "print(a)\n",
        "print(b)\n",
        "\n",
        "print()\n",
        "\n",
        "a = 1.23\n",
        "a = int(a)\n",
        "print(a)\n",
        "\n",
        "print()\n",
        "\n",
        "n = float(input(\"Enter the float value: \"))\n",
        "print(n)\n",
        "n = int(n)\n",
        "print(n)"
      ],
      "metadata": {
        "colab": {
          "base_uri": "https://localhost:8080/"
        },
        "id": "DhkAh8OjTIp1",
        "outputId": "9b0691ad-607c-4159-b064-1e9ae7d228da"
      },
      "execution_count": null,
      "outputs": [
        {
          "output_type": "stream",
          "name": "stdout",
          "text": [
            "jatin\n",
            "24\n",
            "\n",
            "33\n",
            "34\n",
            "\n",
            "1\n",
            "\n",
            "Enter the float value: 4\n",
            "4.0\n",
            "4\n"
          ]
        }
      ]
    },
    {
      "cell_type": "code",
      "source": [
        "#identity operator\n",
        "a = 123\n",
        "b = \"345\"\n",
        "print(a is b)\n",
        "\n",
        "#membership operator\n",
        "a = 'abcde'\n",
        "print(\"s\" in a)"
      ],
      "metadata": {
        "colab": {
          "base_uri": "https://localhost:8080/"
        },
        "id": "0j0Yba_UUCvQ",
        "outputId": "b6e7b990-8464-48c2-8d41-c88199cb0169"
      },
      "execution_count": null,
      "outputs": [
        {
          "output_type": "stream",
          "name": "stdout",
          "text": [
            "False\n",
            "False\n"
          ]
        }
      ]
    },
    {
      "cell_type": "code",
      "source": [
        "#write a program to check the number is positive.\n",
        "#to check odd or even number\n",
        "#create area calculator\n",
        "#to check whether the passed letter is vowel or not\n",
        "#to check if the passed number is single digit or double digit."
      ],
      "metadata": {
        "id": "jsFGydYUTOci"
      },
      "execution_count": null,
      "outputs": []
    },
    {
      "cell_type": "code",
      "source": [
        "def check(n):\n",
        "  if n >= 1:\n",
        "    print(\"Positive\")\n",
        "  else:\n",
        "    print(\"Negative\")\n",
        "check(-3)\n",
        "\n",
        "def odd_even(n):\n",
        "  if n % 2 == 0:\n",
        "    print(\"It is a even number.\")\n",
        "  else:\n",
        "    print(\"odd number\")\n",
        "odd_even(5)\n",
        "\n",
        "                                         #Area Calculator\n",
        "#press 1 to get the area of the square.\n",
        "#press 2 to get the area of the rectangle\n",
        "\n",
        "# area = int(input(\"Enter the input to find the area: \"))\n",
        "# if area == 1:\n",
        "#   side = float(input(\"Enter the side of the square to get the area: \"))\n",
        "#   area_square = side * side\n",
        "#   print(area_square)\n",
        "# elif area == 2:\n",
        "#   length = float(input(\"Enter the side of the rectangle: \"))\n",
        "#   breadth = float(input(\"Enter the side of the rectangle: \"))\n",
        "#   area_rect = length * breadth\n",
        "#   print(area_rect)\n",
        "# else:\n",
        "#   print(\"INVALID INPUT, Kindly put the valid input to find the area.\")\n",
        "\n",
        "\n",
        "# vow = input(\"Enter the letter to find the vowel\")\n",
        "# if vow in 'AEIOUaeiou':\n",
        "#   print(\"The passed letter is a vowel\")\n",
        "# else:\n",
        "#   print(\"Not a vowel\")\n",
        "\n"
      ],
      "metadata": {
        "colab": {
          "base_uri": "https://localhost:8080/"
        },
        "id": "Bt0kPc2sU3jg",
        "outputId": "13b0ddc4-f708-49c0-8640-f0d2fd8f6986"
      },
      "execution_count": null,
      "outputs": [
        {
          "output_type": "stream",
          "name": "stdout",
          "text": [
            "Negative\n",
            "odd number\n"
          ]
        }
      ]
    },
    {
      "cell_type": "code",
      "source": [
        "#print the table of 5 using for and while loop each.\n",
        "#write a program for nested loop\n",
        "#use continue statement in for loop and while loop\n",
        "#find the sum of all even number upto 50\n",
        "#write first 10 number and their squares.\n",
        "#check how many numbers are divided by 8 and 12 both"
      ],
      "metadata": {
        "id": "4TwkllhRVDfq"
      },
      "execution_count": null,
      "outputs": []
    },
    {
      "cell_type": "code",
      "source": [
        "# n = 5\n",
        "# for i in range(1,11):\n",
        "#   print(n*i)\n",
        "\n",
        "# n = 1\n",
        "# a = 5                        #By the input method can canculate any table:\n",
        "# while n <=10:\n",
        "#   print(a * n)\n",
        "#   n += 1\n",
        "\n",
        "for i in range(1,5):\n",
        "  if i == 3:\n",
        "    print(\"skip this part please.\")\n",
        "    continue\n",
        "  else:\n",
        "    print(i)\n",
        "\n",
        "for i in range(1,5):\n",
        "  if i == 3:\n",
        "    print(\"Song is ended\")\n",
        "    break\n",
        "  else:\n",
        "    print(i)\n",
        "\n",
        "sum = 0\n",
        "for i in range(1,51):\n",
        "  if i % 2 == 0:\n",
        "    sum += i\n",
        "print(sum)\n",
        "\n",
        "for i in range(1,11):\n",
        "  print(\"The square of\", i, \"is\", i*i)\n",
        "\n",
        "\n",
        "for i in range(1,101):\n",
        "  if i % 8 == 0 and i % 12 == 0:\n",
        "    print(i)\n"
      ],
      "metadata": {
        "colab": {
          "base_uri": "https://localhost:8080/"
        },
        "id": "3jwvA2QdaKPV",
        "outputId": "89c3d6ad-e00f-4079-d243-f483f4f29a7b"
      },
      "execution_count": null,
      "outputs": [
        {
          "output_type": "stream",
          "name": "stdout",
          "text": [
            "1\n",
            "2\n",
            "skip this part please.\n",
            "4\n",
            "1\n",
            "2\n",
            "Song is ended\n",
            "650\n",
            "The square of 1 is 1\n",
            "The square of 2 is 4\n",
            "The square of 3 is 9\n",
            "The square of 4 is 16\n",
            "The square of 5 is 25\n",
            "The square of 6 is 36\n",
            "The square of 7 is 49\n",
            "The square of 8 is 64\n",
            "The square of 9 is 81\n",
            "The square of 10 is 100\n",
            "24\n",
            "48\n",
            "72\n",
            "96\n"
          ]
        }
      ]
    },
    {
      "cell_type": "code",
      "source": [
        "#problems on string\n",
        "\n",
        "a = \"why to fit in, when you are born to shine.\"\n",
        "#write the program to find the length of the strng.\n",
        "#write a program to check how many times alphabet o is occuring\n",
        "#write the program to convert the whole string into lower and upper\n",
        "#write the program to convert this string into a single title\n",
        "#write the program to find index of fit"
      ],
      "metadata": {
        "id": "lnw0ij_oackJ"
      },
      "execution_count": null,
      "outputs": []
    },
    {
      "cell_type": "code",
      "source": [
        "print(len(a))\n",
        "\n",
        "print(a.count(\"o\"))\n",
        "\n",
        "print(a.lower())\n",
        "\n",
        "print(a.upper())\n",
        "\n",
        "print(a.title())\n",
        "\n",
        "print(a.index(\"fit\"))\n",
        "\n"
      ],
      "metadata": {
        "colab": {
          "base_uri": "https://localhost:8080/"
        },
        "id": "BKomeHfXc1py",
        "outputId": "4a0e0eed-a99e-4fc5-85a0-83c38cf878d3"
      },
      "execution_count": null,
      "outputs": [
        {
          "output_type": "stream",
          "name": "stdout",
          "text": [
            "42\n",
            "4\n",
            "why to fit in, when you are born to shine.\n",
            "WHY TO FIT IN, WHEN YOU ARE BORN TO SHINE.\n",
            "Why To Fit In, When You Are Born To Shine.\n",
            "7\n"
          ]
        }
      ]
    },
    {
      "cell_type": "code",
      "source": [
        "#fibonacci series\n",
        "#palindrome\n",
        "#check the digit is prime or not"
      ],
      "metadata": {
        "id": "ZkL9sy1GdnIV"
      },
      "execution_count": null,
      "outputs": []
    },
    {
      "cell_type": "code",
      "source": [
        "def fibonacci(n):\n",
        "  a,b = 0,1\n",
        "  for i in range(1,11):\n",
        "    print(a, end = \" \")\n",
        "    c = a + b\n",
        "    a = b\n",
        "    b = c\n",
        "fibonacci(10)\n",
        "\n",
        "print()\n",
        "\n",
        "def palindrome(n):\n",
        "  if n == n[::-1]:\n",
        "    print(\"It is a palindrome.\")\n",
        "  else:\n",
        "    print('Not a palindrome.')\n",
        "palindrome(\"madam\")\n",
        "\n",
        "\n",
        "def check_prime(n):\n",
        "  if n <= 1:\n",
        "    print(\"It is not a prime number.\")\n",
        "  else:\n",
        "    for i in range(2,int(n**0.5)+1):\n",
        "      if n % i == 0:\n",
        "        print(\"Not a prime number.\")\n",
        "        break\n",
        "    else:\n",
        "      print(\"Prime number.\")\n",
        "check_prime(3)"
      ],
      "metadata": {
        "colab": {
          "base_uri": "https://localhost:8080/"
        },
        "id": "E43eswFteayk",
        "outputId": "d67662bd-09f2-4ccb-ad5b-d4362afe6ebe"
      },
      "execution_count": null,
      "outputs": [
        {
          "output_type": "stream",
          "name": "stdout",
          "text": [
            "0 1 1 2 3 5 8 13 21 34 \n",
            "It is a palindrome.\n",
            "Prime number.\n"
          ]
        }
      ]
    },
    {
      "cell_type": "code",
      "source": [],
      "metadata": {
        "id": "M3cBtJAmw4CZ"
      },
      "execution_count": null,
      "outputs": []
    },
    {
      "cell_type": "code",
      "source": [
        "a = \"ootd.yolo.asap\"\n",
        "#write the program to separate the following string into comma separated values\n",
        "#write the program to sort alphabetically in python\n",
        "z = \"F.R.I.E.N.D.S\"\n",
        "#write the program to remove a given character from a string\n",
        "#remove dot(.)"
      ],
      "metadata": {
        "id": "ZTvTMolNeu0K"
      },
      "execution_count": null,
      "outputs": []
    },
    {
      "cell_type": "code",
      "source": [
        "a = \"ootd.yolo.asap\"\n",
        "b = a.replace(\".\",\",\")\n",
        "b\n",
        "\n",
        "\n",
        "s = \"adgde\"\n",
        "s = sorted(s)\n",
        "print(s)\n",
        "\n",
        "z = \"F.R.I.E.N.D.S\"\n",
        "b = z.replace(\".\", \"\")\n",
        "print(b)"
      ],
      "metadata": {
        "colab": {
          "base_uri": "https://localhost:8080/"
        },
        "id": "Qjo1vtF_w5At",
        "outputId": "c6add402-5c86-4a4e-95d6-7025f8ff3b75"
      },
      "execution_count": null,
      "outputs": [
        {
          "output_type": "stream",
          "name": "stdout",
          "text": [
            "['a', 'd', 'd', 'e', 'g']\n",
            "FRIENDS\n"
          ]
        }
      ]
    },
    {
      "cell_type": "code",
      "source": [
        "#take the input from the user and reverse it\n",
        "#write the program to check string contains only digit.\n",
        "#write the program to find the number of vowels in a string\n",
        "#write the program to check if every word in a string begins with a capital letter."
      ],
      "metadata": {
        "id": "vIB_uEIrxbdi"
      },
      "execution_count": null,
      "outputs": []
    },
    {
      "cell_type": "code",
      "source": [
        "# inp = input(\"Enter anything: \")\n",
        "# print(inp[::-1])\n",
        "\n",
        "\n",
        "a = \"345\"\n",
        "print(a.isdigit())\n",
        "\n",
        "a = \"hello brother, where are you.\"\n",
        "vowel = 0\n",
        "for i in a:\n",
        "  if i == \"a\" or i == \"A\" or i == \"e\" or i == \"E\" or i == \"i\" or i == \"I\" or i == \"o\" or i == \"O\" or i == \"u\" or i == \"U\":\n",
        "    vowel += 1\n",
        "print(vowel)\n",
        "\n",
        "\n",
        "a = \"Hello Bhai, how are You\"\n",
        "b = \"Hello Brother, How Are You\"\n",
        "print(a.istitle())\n",
        "print(b.istitle())"
      ],
      "metadata": {
        "colab": {
          "base_uri": "https://localhost:8080/"
        },
        "id": "OxXOA2MLy-Jp",
        "outputId": "58b6e417-81bc-4a7e-ef68-6c0531b4a60d"
      },
      "execution_count": null,
      "outputs": [
        {
          "output_type": "stream",
          "name": "stdout",
          "text": [
            "True\n",
            "10\n",
            "False\n",
            "True\n"
          ]
        }
      ]
    },
    {
      "cell_type": "code",
      "source": [
        "#functions of the list\n",
        "a = [\"hulk\", \"thor\", \"spiderman\", \"batman\"]\n",
        "len(a)\n",
        "a.count(\"hulk\")\n",
        "a.append(\"superman\")\n",
        "a.insert(1,\"krish\")\n",
        "a.remove(\"krish\")"
      ],
      "metadata": {
        "id": "96vTsUUQzNpS"
      },
      "execution_count": null,
      "outputs": []
    },
    {
      "cell_type": "code",
      "source": [
        "a = [\"hulk\", \"thor\", \"spiderman\", \"batman\"]\n",
        "b = [\"boomerman\"]\n",
        "a.extend(b)\n",
        "print(a)\n",
        "\n",
        "print(a.reverse())"
      ],
      "metadata": {
        "colab": {
          "base_uri": "https://localhost:8080/"
        },
        "id": "nUs2QFyQrhAN",
        "outputId": "20c506d0-9fbd-4bdc-f8fc-4d0a5d77bc34"
      },
      "execution_count": null,
      "outputs": [
        {
          "output_type": "stream",
          "name": "stdout",
          "text": [
            "['hulk', 'thor', 'spiderman', 'batman', 'boomerman']\n",
            "None\n"
          ]
        }
      ]
    },
    {
      "cell_type": "code",
      "source": [
        "#list comprehension\n",
        "l1 = [1,2,3,4]\n",
        "l2 = []\n",
        "for i in l1:\n",
        "  l2.append(i)\n",
        "print(l2)"
      ],
      "metadata": {
        "colab": {
          "base_uri": "https://localhost:8080/"
        },
        "id": "8uqKZm6irqto",
        "outputId": "30c780cd-9ae5-4df8-8efb-bf2906da28db"
      },
      "execution_count": null,
      "outputs": [
        {
          "output_type": "stream",
          "name": "stdout",
          "text": [
            "[1, 2, 3, 4]\n"
          ]
        }
      ]
    },
    {
      "cell_type": "code",
      "source": [],
      "metadata": {
        "id": "YLWHazy5_Aky"
      },
      "execution_count": null,
      "outputs": []
    },
    {
      "cell_type": "code",
      "source": [
        "l1 = [30,40,50,60]\n",
        "l2 = []\n",
        "for i in l1:\n",
        "  if l1 > 45:                   #will check later\n",
        "    l2.append(i)\n",
        "print(l2)"
      ],
      "metadata": {
        "colab": {
          "base_uri": "https://localhost:8080/",
          "height": 211
        },
        "id": "CzSgIZQHsERu",
        "outputId": "a32ca007-f9b1-4ae8-f858-30690fe2a40b"
      },
      "execution_count": null,
      "outputs": [
        {
          "output_type": "error",
          "ename": "TypeError",
          "evalue": "'>' not supported between instances of 'list' and 'int'",
          "traceback": [
            "\u001b[0;31m---------------------------------------------------------------------------\u001b[0m",
            "\u001b[0;31mTypeError\u001b[0m                                 Traceback (most recent call last)",
            "\u001b[0;32m<ipython-input-22-75577979917e>\u001b[0m in \u001b[0;36m<cell line: 0>\u001b[0;34m()\u001b[0m\n\u001b[1;32m      2\u001b[0m \u001b[0ml2\u001b[0m \u001b[0;34m=\u001b[0m \u001b[0;34m[\u001b[0m\u001b[0;34m]\u001b[0m\u001b[0;34m\u001b[0m\u001b[0;34m\u001b[0m\u001b[0m\n\u001b[1;32m      3\u001b[0m \u001b[0;32mfor\u001b[0m \u001b[0mi\u001b[0m \u001b[0;32min\u001b[0m \u001b[0ml1\u001b[0m\u001b[0;34m:\u001b[0m\u001b[0;34m\u001b[0m\u001b[0;34m\u001b[0m\u001b[0m\n\u001b[0;32m----> 4\u001b[0;31m   \u001b[0;32mif\u001b[0m \u001b[0ml1\u001b[0m \u001b[0;34m>\u001b[0m \u001b[0;36m45\u001b[0m\u001b[0;34m:\u001b[0m\u001b[0;34m\u001b[0m\u001b[0;34m\u001b[0m\u001b[0m\n\u001b[0m\u001b[1;32m      5\u001b[0m     \u001b[0ml2\u001b[0m\u001b[0;34m.\u001b[0m\u001b[0mappend\u001b[0m\u001b[0;34m(\u001b[0m\u001b[0mi\u001b[0m\u001b[0;34m)\u001b[0m\u001b[0;34m\u001b[0m\u001b[0;34m\u001b[0m\u001b[0m\n\u001b[1;32m      6\u001b[0m \u001b[0mprint\u001b[0m\u001b[0;34m(\u001b[0m\u001b[0ml2\u001b[0m\u001b[0;34m)\u001b[0m\u001b[0;34m\u001b[0m\u001b[0;34m\u001b[0m\u001b[0m\n",
            "\u001b[0;31mTypeError\u001b[0m: '>' not supported between instances of 'list' and 'int'"
          ]
        }
      ]
    },
    {
      "cell_type": "code",
      "source": [
        "#write a program to swap first and fourth element.\n",
        "\n",
        "a = [\"Ross\", \"Rachel\", \"Monica\", \"Joe\"]\n",
        "a[1],a[3] = a[3],a[1]\n",
        "print(a)\n",
        "\n",
        "#write a program to add a new element at second position\n",
        "a.insert(1,\"Phoebe\")\n",
        "print(a)\n",
        "\n",
        "#write a program to delete a values from 3rd position\n",
        "a = [1,2,3,4,5,6]\n",
        "a.remove(a[2])\n",
        "print(a)\n",
        "\n",
        "#write a program to multiply all the numbers in a list\n",
        "a = [1,2,3,4,5,6]\n",
        "mul = 1\n",
        "for i in a:\n",
        "  mul *= i\n",
        "print(mul)\n",
        "\n",
        "\n",
        "#write a program to get the largest number from a list\n",
        "max(a)\n",
        "min(a)"
      ],
      "metadata": {
        "colab": {
          "base_uri": "https://localhost:8080/"
        },
        "id": "cPxXeU7FsYzY",
        "outputId": "6348a00a-493e-4ee2-976b-b1da683653f5"
      },
      "execution_count": null,
      "outputs": [
        {
          "output_type": "stream",
          "name": "stdout",
          "text": [
            "['Ross', 'Joe', 'Monica', 'Rachel']\n",
            "['Ross', 'Phoebe', 'Joe', 'Monica', 'Rachel']\n",
            "[1, 2, 4, 5, 6]\n",
            "720\n"
          ]
        },
        {
          "output_type": "execute_result",
          "data": {
            "text/plain": [
              "1"
            ]
          },
          "metadata": {},
          "execution_count": 29
        }
      ]
    },
    {
      "cell_type": "code",
      "source": [
        "##########                Tuple Questions\n",
        "\n",
        "a = (\"Oneplus\", \"Nokia\", \"Motorola\", \"Vivo\")\n",
        "for i in a:\n",
        "  print(i,end = \" \")\n",
        "\n",
        "print()\n",
        "\n",
        "i = 0\n",
        "while i < len(a):\n",
        "  print(a[i])\n",
        "  i += 1"
      ],
      "metadata": {
        "colab": {
          "base_uri": "https://localhost:8080/"
        },
        "id": "x2xti2rgtGgj",
        "outputId": "e5a0aff2-f5b5-439c-f581-93552ac6f249"
      },
      "execution_count": null,
      "outputs": [
        {
          "output_type": "stream",
          "name": "stdout",
          "text": [
            "Oneplus Nokia Motorola Vivo \n",
            "Oneplus\n",
            "Nokia\n",
            "Motorola\n",
            "Vivo\n"
          ]
        }
      ]
    },
    {
      "cell_type": "code",
      "source": [
        "stu_data = {\"name\": \"David\", \"age\": 34, \"marks\": 65}\n",
        "\n",
        "#write a program to get the student data.\n",
        "stu_data[\"age\"]\n",
        "\n",
        "\n",
        "##### functions of dictionary\n",
        "\n",
        "print(stu_data.keys())\n",
        "print(stu_data.values())\n",
        "print(stu_data.get(\"name\"))\n",
        "print(stu_data[\"name\"])\n"
      ],
      "metadata": {
        "colab": {
          "base_uri": "https://localhost:8080/"
        },
        "id": "5NF0Mw04umf5",
        "outputId": "9139a5e7-0378-4487-cec1-042f4be9615f"
      },
      "execution_count": null,
      "outputs": [
        {
          "output_type": "stream",
          "name": "stdout",
          "text": [
            "dict_keys(['name', 'age', 'marks'])\n",
            "dict_values(['David', 34, 65])\n",
            "David\n",
            "David\n"
          ]
        }
      ]
    },
    {
      "cell_type": "code",
      "source": [
        "#Creating a nested dictionary\n",
        "emp = {1: {\"name\": \"Saroj\", \"age\": 34},\n",
        "       2: {\"name\": \"kritesh\", \"age\": 59}}\n",
        "print(emp)\n",
        "\n",
        "#how can i get age of the saroj\n",
        "emp[1][\"age\"]\n",
        "emp[2][\"name\"]"
      ],
      "metadata": {
        "colab": {
          "base_uri": "https://localhost:8080/",
          "height": 53
        },
        "id": "5m3y0A8BvfJQ",
        "outputId": "35d489e6-d9bc-4fcd-acc7-3b4989f0a0e4"
      },
      "execution_count": null,
      "outputs": [
        {
          "output_type": "stream",
          "name": "stdout",
          "text": [
            "{1: {'name': 'Saroj', 'age': 34}, 2: {'name': 'kritesh', 'age': 59}}\n"
          ]
        },
        {
          "output_type": "execute_result",
          "data": {
            "text/plain": [
              "'kritesh'"
            ],
            "application/vnd.google.colaboratory.intrinsic+json": {
              "type": "string"
            }
          },
          "metadata": {},
          "execution_count": 15
        }
      ]
    },
    {
      "cell_type": "code",
      "source": [
        "stu_data = {\"rank\": 89, \"age\": 34, \"marks\": 65}\n",
        "\n",
        "#write a program to set a dictionary by values\n",
        "stu_data = sorted(stu_data.values())\n",
        "print(stu_data)\n",
        "\n",
        "#write a program to print a dictionary where the keys are the number between 1 and 10 and their values are their squares.\n",
        "mul = {}\n",
        "for i in range(1,11):\n",
        "  mul[i] = i**2\n",
        "print(mul)"
      ],
      "metadata": {
        "colab": {
          "base_uri": "https://localhost:8080/"
        },
        "id": "cEX2VT0Jwhk0",
        "outputId": "6174e2c5-2667-4713-99d5-362bd5790548"
      },
      "execution_count": null,
      "outputs": [
        {
          "output_type": "stream",
          "name": "stdout",
          "text": [
            "[34, 65, 89]\n",
            "{1: 1, 2: 4, 3: 9, 4: 16, 5: 25, 6: 36, 7: 49, 8: 64, 9: 81, 10: 100}\n"
          ]
        }
      ]
    },
    {
      "cell_type": "code",
      "source": [
        "#write a program to multiply all the items in a dictionary.\n",
        "a = {\"a\": 1, \"b\": 2, \"c\": 3, \"d\": 4}\n",
        "mul = 1\n",
        "for i in a:\n",
        "  mul *= a[i]\n",
        "print(mul)\n"
      ],
      "metadata": {
        "colab": {
          "base_uri": "https://localhost:8080/"
        },
        "id": "MCz5FutAxJW7",
        "outputId": "14b8b7e7-d4dc-456c-da59-37e77b29c353"
      },
      "execution_count": null,
      "outputs": [
        {
          "output_type": "stream",
          "name": "stdout",
          "text": [
            "24\n"
          ]
        }
      ]
    },
    {
      "cell_type": "code",
      "source": [
        "#write a program to sort a dictionary by key\n",
        "a = {\"g\": 1, \"b\": 2, \"c\": 3, \"d\": 4}\n",
        "a = sorted(a.keys())\n",
        "print(a)"
      ],
      "metadata": {
        "colab": {
          "base_uri": "https://localhost:8080/"
        },
        "id": "BnQ2pLpkyX6O",
        "outputId": "532c0a2d-7e38-41e7-eccd-56dc4470f79f"
      },
      "execution_count": null,
      "outputs": [
        {
          "output_type": "stream",
          "name": "stdout",
          "text": [
            "['b', 'c', 'd', 'g']\n"
          ]
        }
      ]
    },
    {
      "cell_type": "code",
      "source": [
        "#######                    Sets functions\n",
        "a = {\"Ironman\", \"Hulk\", \"Spiderman\"}\n",
        "a.add(\"Batman\")\n",
        "print(a)\n",
        "\n",
        "a.pop()\n",
        "print(a)\n",
        "\n",
        "a.remove(\"Batman\")\n",
        "print(a)\n",
        "\n",
        "a.discard(\"Spiderman\")\n",
        "print(a)"
      ],
      "metadata": {
        "colab": {
          "base_uri": "https://localhost:8080/"
        },
        "id": "ScLr4ky73zuR",
        "outputId": "346b0810-d2ea-4451-a405-1f21544ba463"
      },
      "execution_count": null,
      "outputs": [
        {
          "output_type": "stream",
          "name": "stdout",
          "text": [
            "{'Hulk', 'Ironman', 'Batman', 'Spiderman'}\n",
            "{'Ironman', 'Batman', 'Spiderman'}\n",
            "{'Ironman', 'Spiderman'}\n",
            "{'Ironman'}\n"
          ]
        }
      ]
    },
    {
      "cell_type": "code",
      "source": [
        "a = {1,2,3,4,2,23232,2,32,4,54,3}\n",
        "\n",
        "\n",
        "##write a program to find the max and minimum values in a set\n",
        "max(a)\n",
        "min(a)\n",
        "\n",
        "a = {1,2,3}\n",
        "b = {3,4,5}\n",
        "c = {3,6,4}\n",
        "\n",
        "\n",
        "##write a program to find common elements in three sets\n",
        "d = a.intersection(b)\n",
        "e = d.intersection(c)\n",
        "\n",
        "print(e)\n",
        "\n",
        "\n",
        "a = {1,2,3}\n",
        "b = {3,4,5}\n",
        "\n",
        "#write a program to find the difference between two sets\n",
        "print(a.difference(b))\n"
      ],
      "metadata": {
        "colab": {
          "base_uri": "https://localhost:8080/"
        },
        "id": "ZtSV_8Ni4DeJ",
        "outputId": "82b513a0-c829-4b4a-9195-bb6fe1765fd9"
      },
      "execution_count": null,
      "outputs": [
        {
          "output_type": "stream",
          "name": "stdout",
          "text": [
            "{3}\n",
            "{1, 2}\n"
          ]
        }
      ]
    },
    {
      "cell_type": "code",
      "source": [
        "###############  Functions\n",
        "\n",
        "#arbitary function\n",
        "\n",
        "def hello(*name):\n",
        "  print(\"My name is\", name[2])\n",
        "hello(\"Jotshna\", \"rakesh\", \"punk\")"
      ],
      "metadata": {
        "colab": {
          "base_uri": "https://localhost:8080/"
        },
        "id": "efIx5gjc4mhU",
        "outputId": "39726566-ce14-4c1a-ddc5-25dbd45d73a1"
      },
      "execution_count": null,
      "outputs": [
        {
          "output_type": "stream",
          "name": "stdout",
          "text": [
            "My name is punk\n"
          ]
        }
      ]
    },
    {
      "cell_type": "code",
      "source": [
        "a = lambda b: b*5\n",
        "a(4)\n",
        "\n",
        "x = lambda a,b,c: (a+b)*c\n",
        "print(x(1,2,3))"
      ],
      "metadata": {
        "colab": {
          "base_uri": "https://localhost:8080/"
        },
        "id": "UKjFSHzD5oKq",
        "outputId": "f4b2f9a5-4b0b-42e9-896a-f64c33fb2de9"
      },
      "execution_count": null,
      "outputs": [
        {
          "output_type": "stream",
          "name": "stdout",
          "text": [
            "9\n"
          ]
        }
      ]
    },
    {
      "cell_type": "code",
      "source": [
        "#write a function to find the maximum of three numbers\n",
        "\n",
        "def max_num(a,b,c):\n",
        "  if a > b and a > c:\n",
        "    print(\"Max number is\", a)\n",
        "  elif b > a and b > c:\n",
        "    print(\"Max number is\", b)\n",
        "  else:\n",
        "    print(\"Max number is\", c)\n",
        "max_num(3,4,2)"
      ],
      "metadata": {
        "colab": {
          "base_uri": "https://localhost:8080/"
        },
        "id": "Ire648np6DvR",
        "outputId": "dd2f1ef6-77fd-4c98-887d-6d84cce5681c"
      },
      "execution_count": null,
      "outputs": [
        {
          "output_type": "stream",
          "name": "stdout",
          "text": [
            "Max number is 4\n"
          ]
        }
      ]
    },
    {
      "cell_type": "code",
      "source": [
        "#write a function to create and print a list where the values are square of numbers between 1 and 15.\n",
        "def creat_list():\n",
        "  l = []\n",
        "  for i in range(1,16):\n",
        "    l.append(i**2)\n",
        "  return l\n",
        "print(creat_list)\n"
      ],
      "metadata": {
        "colab": {
          "base_uri": "https://localhost:8080/"
        },
        "id": "UiryQeJH61FC",
        "outputId": "b98210f4-dbb0-4325-8dd1-1d878c511b98"
      },
      "execution_count": null,
      "outputs": [
        {
          "output_type": "stream",
          "name": "stdout",
          "text": [
            "<function creat_list at 0x78a207801580>\n"
          ]
        }
      ]
    },
    {
      "cell_type": "code",
      "source": [
        "#write a function that takes no as a parameter and check if the number is prime or not.\n",
        "n = int(input(\"Enter the number to check prime or not: \"))\n",
        "def check_prime(n):\n",
        "  if n <= 1:\n",
        "    print(\"Not a prime number.\")\n",
        "  else:\n",
        "    for i in range(2,int(n**0.5)+1):\n",
        "      if n % i == 0:\n",
        "        print(\"Not a prime number.\")\n",
        "        break\n",
        "    else:\n",
        "      print(\"Prime number.\")\n",
        "check_prime(n)"
      ],
      "metadata": {
        "colab": {
          "base_uri": "https://localhost:8080/"
        },
        "id": "cOOCbDcoAR5Z",
        "outputId": "ea0045f3-4484-4c71-a516-b89949c81597"
      },
      "execution_count": null,
      "outputs": [
        {
          "output_type": "stream",
          "name": "stdout",
          "text": [
            "Enter the number to check prime or not: 8\n",
            "Not a prime number.\n"
          ]
        }
      ]
    },
    {
      "cell_type": "code",
      "source": [
        "#write a function to sum all the numbers of a list.\n",
        "def add_num(number):\n",
        "    total = 0\n",
        "    for i in number:\n",
        "        total += i\n",
        "    return total\n",
        "add_num([1,2,3,4,5])"
      ],
      "metadata": {
        "colab": {
          "base_uri": "https://localhost:8080/"
        },
        "id": "CDWMHLA3BVpz",
        "outputId": "41825189-4adc-469c-c400-2ff8647cda15"
      },
      "execution_count": null,
      "outputs": [
        {
          "output_type": "execute_result",
          "data": {
            "text/plain": [
              "15"
            ]
          },
          "metadata": {},
          "execution_count": 70
        }
      ]
    },
    {
      "cell_type": "code",
      "source": [
        "#write a function for fibonacci series\n",
        "def fibonacci(n):\n",
        "  a,b = 0,1\n",
        "  for i in range(n):\n",
        "    print(a, end = \" \")\n",
        "    c = a + b\n",
        "    a = b\n",
        "    b = c\n",
        "fibonacci(10)"
      ],
      "metadata": {
        "colab": {
          "base_uri": "https://localhost:8080/"
        },
        "id": "zrZ0vwh_Cb7i",
        "outputId": "960efff3-ffc1-49a7-a685-a69617b17d1d"
      },
      "execution_count": null,
      "outputs": [
        {
          "output_type": "stream",
          "name": "stdout",
          "text": [
            "0 1 1 2 3 5 8 13 21 34 "
          ]
        }
      ]
    },
    {
      "cell_type": "code",
      "source": [],
      "metadata": {
        "id": "p2L_b51xFh66"
      },
      "execution_count": null,
      "outputs": []
    }
  ],
  "metadata": {
    "kernelspec": {
      "display_name": "Python 3",
      "language": "python",
      "name": "python3"
    },
    "language_info": {
      "codemirror_mode": {
        "name": "ipython",
        "version": 3
      },
      "file_extension": ".py",
      "mimetype": "text/x-python",
      "name": "python",
      "nbconvert_exporter": "python",
      "pygments_lexer": "ipython3",
      "version": "3.7.3"
    },
    "colab": {
      "provenance": [],
      "include_colab_link": true
    }
  },
  "nbformat": 4,
  "nbformat_minor": 0
}