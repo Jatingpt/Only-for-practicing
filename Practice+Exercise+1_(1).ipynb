{
  "cells": [
    {
      "cell_type": "markdown",
      "metadata": {
        "id": "view-in-github",
        "colab_type": "text"
      },
      "source": [
        "<a href=\"https://colab.research.google.com/github/Jatingpt/Only-for-practicing/blob/main/Practice%2BExercise%2B1_(1).ipynb\" target=\"_parent\"><img src=\"https://colab.research.google.com/assets/colab-badge.svg\" alt=\"Open In Colab\"/></a>"
      ]
    },
    {
      "cell_type": "code",
      "execution_count": 1,
      "metadata": {
        "id": "qEMmkSDoo8L5",
        "colab": {
          "base_uri": "https://localhost:8080/"
        },
        "outputId": "143c5a66-c8c7-4f3c-90c7-5481dc1122e7"
      },
      "outputs": [
        {
          "output_type": "execute_result",
          "data": {
            "text/plain": [
              "193"
            ]
          },
          "metadata": {},
          "execution_count": 1
        }
      ],
      "source": [
        "#Consider the string given below and answer the following questions\n",
        "string = \"OQYWFClFhFGAvIWYwGKpmZhnJiyzTslSIhSwvOsqJMEphzmifTkyqOMNpnOtXZxmCfgDYqbaBHAUvIWhMnvwZnEMVDvmEfLrDoQnAZgQEgXQVnmSYkfedpAdhrtpOgORpYLRZYGWdhWYuqQssCUXtTzKRDAhpjUheOzUroZNzWFtZOVwIapzUYtbSbjYNErzQ\"\n",
        "len(string)"
      ]
    },
    {
      "cell_type": "markdown",
      "metadata": {
        "id": "MHaMCZWlo8L7"
      },
      "source": [
        "####  Calculate the number of characters in the string\n",
        "\n",
        "-  193\n",
        "-  200\n",
        "-  300\n",
        "-  500\n"
      ]
    },
    {
      "cell_type": "code",
      "execution_count": null,
      "metadata": {
        "id": "bNZBUOvIo8L-",
        "colab": {
          "base_uri": "https://localhost:8080/"
        },
        "outputId": "d6ae002e-b833-42a9-b085-c52a8fb5ca85"
      },
      "outputs": [
        {
          "output_type": "execute_result",
          "data": {
            "text/plain": [
              "2"
            ]
          },
          "metadata": {},
          "execution_count": 2
        }
      ],
      "source": [
        "# Type your code here\n",
        "string.count(\"a\")"
      ]
    },
    {
      "cell_type": "markdown",
      "metadata": {
        "id": "Go7Ak7Z8o8MA"
      },
      "source": [
        "#### Count the number of occurences of 'a' in the string\n",
        "\n",
        "-  1\n",
        "-  2\n",
        "-  10\n",
        "-  5"
      ]
    },
    {
      "cell_type": "code",
      "execution_count": null,
      "metadata": {
        "id": "ozmu63SPo8MC"
      },
      "outputs": [],
      "source": [
        "# Type your code here"
      ]
    },
    {
      "cell_type": "markdown",
      "metadata": {
        "id": "Nf2P1HUoo8MD"
      },
      "source": [
        "#### Identify whether the string starts with 'if'.\n",
        "\n",
        "-  True\n",
        "-  False"
      ]
    },
    {
      "cell_type": "code",
      "execution_count": null,
      "metadata": {
        "id": "hwSy12VCo8MF",
        "colab": {
          "base_uri": "https://localhost:8080/",
          "height": 36
        },
        "outputId": "47131d5a-bc02-40fa-e43b-692727e4e23e"
      },
      "outputs": [
        {
          "output_type": "execute_result",
          "data": {
            "text/plain": [
              "'OQ'"
            ],
            "application/vnd.google.colaboratory.intrinsic+json": {
              "type": "string"
            }
          },
          "metadata": {},
          "execution_count": 3
        }
      ],
      "source": [
        "# Type your code here\n",
        "string[:2]"
      ]
    },
    {
      "cell_type": "markdown",
      "metadata": {
        "id": "H9Tp5mYno8MG"
      },
      "source": [
        "#### Return the substring starting at index 63 and ending at index 88  [Both the indexes are inclusive]\n",
        "\n",
        "-  'OQYWFClFhFGA'\n",
        "-  'mCfgDYqbaBHAUvIWhMnvwZnEMV'\n",
        "-  'IWYwGKpmZhnJiyzTslSIhSwv'\n",
        "-  'JMEphzmifTkyqOMNpnOtXZ'"
      ]
    },
    {
      "cell_type": "code",
      "execution_count": null,
      "metadata": {
        "collapsed": true,
        "id": "Bd6FsZC3o8MH",
        "outputId": "ee8609ed-7c08-4e09-883f-83cc27dc2074",
        "colab": {
          "base_uri": "https://localhost:8080/",
          "height": 36
        }
      },
      "outputs": [
        {
          "output_type": "execute_result",
          "data": {
            "text/plain": [
              "'mCfgDYqbaBHAUvIWhMnvwZnEMV'"
            ],
            "application/vnd.google.colaboratory.intrinsic+json": {
              "type": "string"
            }
          },
          "metadata": {},
          "execution_count": 4
        }
      ],
      "source": [
        "# Type your code here\n",
        "string[63:89]"
      ]
    },
    {
      "cell_type": "markdown",
      "metadata": {
        "id": "vw-gOIToo8MH"
      },
      "source": [
        "#### Identify the character at index 45\n",
        "\n",
        "-  a\n",
        "-  b\n",
        "-  z\n",
        "-  x"
      ]
    },
    {
      "cell_type": "code",
      "execution_count": null,
      "metadata": {
        "id": "Bq2-FEGAo8MI",
        "colab": {
          "base_uri": "https://localhost:8080/",
          "height": 36
        },
        "outputId": "e6a70d7b-830f-4d2f-c014-6f713bcbefe1"
      },
      "outputs": [
        {
          "output_type": "execute_result",
          "data": {
            "text/plain": [
              "'z'"
            ],
            "application/vnd.google.colaboratory.intrinsic+json": {
              "type": "string"
            }
          },
          "metadata": {},
          "execution_count": 10
        }
      ],
      "source": [
        "# Type your code here\n",
        "string[45]"
      ]
    },
    {
      "cell_type": "code",
      "execution_count": null,
      "metadata": {
        "collapsed": true,
        "id": "WzVNgWB-o8MI"
      },
      "outputs": [],
      "source": [
        "#WSCube\n",
        "#Progam to display name and others.\n",
        "#swap two variables\n",
        "#convert float into int\n",
        "#take input from user and convert it into int"
      ]
    },
    {
      "cell_type": "code",
      "source": [],
      "metadata": {
        "id": "VQGctr3wTP9X"
      },
      "execution_count": null,
      "outputs": []
    },
    {
      "cell_type": "code",
      "source": [
        "name = \"jatin\"\n",
        "age = 24\n",
        "print(name)\n",
        "print(age)\n",
        "\n",
        "print()\n",
        "\n",
        "a = 34\n",
        "b = 33\n",
        "a,b = b,a\n",
        "print(a)\n",
        "print(b)\n",
        "\n",
        "print()\n",
        "\n",
        "a = 1.23\n",
        "a = int(a)\n",
        "print(a)\n",
        "\n",
        "print()\n",
        "\n",
        "n = float(input(\"Enter the float value: \"))\n",
        "print(n)\n",
        "n = int(n)\n",
        "print(n)"
      ],
      "metadata": {
        "colab": {
          "base_uri": "https://localhost:8080/"
        },
        "id": "DhkAh8OjTIp1",
        "outputId": "9b0691ad-607c-4159-b064-1e9ae7d228da"
      },
      "execution_count": null,
      "outputs": [
        {
          "output_type": "stream",
          "name": "stdout",
          "text": [
            "jatin\n",
            "24\n",
            "\n",
            "33\n",
            "34\n",
            "\n",
            "1\n",
            "\n",
            "Enter the float value: 4\n",
            "4.0\n",
            "4\n"
          ]
        }
      ]
    },
    {
      "cell_type": "code",
      "source": [
        "#identity operator\n",
        "a = 123\n",
        "b = \"345\"\n",
        "print(a is b)\n",
        "\n",
        "#membership operator\n",
        "a = 'abcde'\n",
        "print(\"s\" in a)"
      ],
      "metadata": {
        "colab": {
          "base_uri": "https://localhost:8080/"
        },
        "id": "0j0Yba_UUCvQ",
        "outputId": "b6e7b990-8464-48c2-8d41-c88199cb0169"
      },
      "execution_count": null,
      "outputs": [
        {
          "output_type": "stream",
          "name": "stdout",
          "text": [
            "False\n",
            "False\n"
          ]
        }
      ]
    },
    {
      "cell_type": "code",
      "source": [
        "#write a program to check the number is positive.\n",
        "#to check odd or even number\n",
        "#create area calculator\n",
        "#to check whether the passed letter is vowel or not\n",
        "#to check if the passed number is single digit or double digit."
      ],
      "metadata": {
        "id": "jsFGydYUTOci"
      },
      "execution_count": null,
      "outputs": []
    },
    {
      "cell_type": "code",
      "source": [
        "def check(n):\n",
        "  if n >= 1:\n",
        "    print(\"Positive\")\n",
        "  else:\n",
        "    print(\"Negative\")\n",
        "check(-3)\n",
        "\n",
        "def odd_even(n):\n",
        "  if n % 2 == 0:\n",
        "    print(\"It is a even number.\")\n",
        "  else:\n",
        "    print(\"odd number\")\n",
        "odd_even(5)\n",
        "\n",
        "                                         #Area Calculator\n",
        "#press 1 to get the area of the square.\n",
        "#press 2 to get the area of the rectangle\n",
        "\n",
        "# area = int(input(\"Enter the input to find the area: \"))\n",
        "# if area == 1:\n",
        "#   side = float(input(\"Enter the side of the square to get the area: \"))\n",
        "#   area_square = side * side\n",
        "#   print(area_square)\n",
        "# elif area == 2:\n",
        "#   length = float(input(\"Enter the side of the rectangle: \"))\n",
        "#   breadth = float(input(\"Enter the side of the rectangle: \"))\n",
        "#   area_rect = length * breadth\n",
        "#   print(area_rect)\n",
        "# else:\n",
        "#   print(\"INVALID INPUT, Kindly put the valid input to find the area.\")\n",
        "\n",
        "\n",
        "# vow = input(\"Enter the letter to find the vowel\")\n",
        "# if vow in 'AEIOUaeiou':\n",
        "#   print(\"The passed letter is a vowel\")\n",
        "# else:\n",
        "#   print(\"Not a vowel\")\n",
        "\n"
      ],
      "metadata": {
        "colab": {
          "base_uri": "https://localhost:8080/"
        },
        "id": "Bt0kPc2sU3jg",
        "outputId": "13b0ddc4-f708-49c0-8640-f0d2fd8f6986"
      },
      "execution_count": null,
      "outputs": [
        {
          "output_type": "stream",
          "name": "stdout",
          "text": [
            "Negative\n",
            "odd number\n"
          ]
        }
      ]
    },
    {
      "cell_type": "code",
      "source": [
        "#print the table of 5 using for and while loop each.\n",
        "#write a program for nested loop\n",
        "#use continue statement in for loop and while loop\n",
        "#find the sum of all even number upto 50\n",
        "#write first 10 number and their squares.\n",
        "#check how many numbers are divided by 8 and 12 both"
      ],
      "metadata": {
        "id": "4TwkllhRVDfq"
      },
      "execution_count": null,
      "outputs": []
    },
    {
      "cell_type": "code",
      "source": [
        "# n = 5\n",
        "# for i in range(1,11):\n",
        "#   print(n*i)\n",
        "\n",
        "# n = 1\n",
        "# a = 5                        #By the input method can canculate any table:\n",
        "# while n <=10:\n",
        "#   print(a * n)\n",
        "#   n += 1\n",
        "\n",
        "for i in range(1,5):\n",
        "  if i == 3:\n",
        "    print(\"skip this part please.\")\n",
        "    continue\n",
        "  else:\n",
        "    print(i)\n",
        "\n",
        "for i in range(1,5):\n",
        "  if i == 3:\n",
        "    print(\"Song is ended\")\n",
        "    break\n",
        "  else:\n",
        "    print(i)\n",
        "\n",
        "sum = 0\n",
        "for i in range(1,51):\n",
        "  if i % 2 == 0:\n",
        "    sum += i\n",
        "print(sum)\n",
        "\n",
        "for i in range(1,11):\n",
        "  print(\"The square of\", i, \"is\", i*i)\n",
        "\n",
        "\n",
        "for i in range(1,101):\n",
        "  if i % 8 == 0 and i % 12 == 0:\n",
        "    print(i)\n"
      ],
      "metadata": {
        "colab": {
          "base_uri": "https://localhost:8080/"
        },
        "id": "3jwvA2QdaKPV",
        "outputId": "89c3d6ad-e00f-4079-d243-f483f4f29a7b"
      },
      "execution_count": null,
      "outputs": [
        {
          "output_type": "stream",
          "name": "stdout",
          "text": [
            "1\n",
            "2\n",
            "skip this part please.\n",
            "4\n",
            "1\n",
            "2\n",
            "Song is ended\n",
            "650\n",
            "The square of 1 is 1\n",
            "The square of 2 is 4\n",
            "The square of 3 is 9\n",
            "The square of 4 is 16\n",
            "The square of 5 is 25\n",
            "The square of 6 is 36\n",
            "The square of 7 is 49\n",
            "The square of 8 is 64\n",
            "The square of 9 is 81\n",
            "The square of 10 is 100\n",
            "24\n",
            "48\n",
            "72\n",
            "96\n"
          ]
        }
      ]
    },
    {
      "cell_type": "code",
      "source": [
        "#problems on string\n",
        "\n",
        "a = \"why to fit in, when you are born to shine.\"\n",
        "#write the program to find the length of the strng.\n",
        "#write a program to check how many times alphabet o is occuring\n",
        "#write the program to convert the whole string into lower and upper\n",
        "#write the program to convert this string into a single title\n",
        "#write the program to find index of fit"
      ],
      "metadata": {
        "id": "lnw0ij_oackJ"
      },
      "execution_count": null,
      "outputs": []
    },
    {
      "cell_type": "code",
      "source": [
        "print(len(a))\n",
        "\n",
        "print(a.count(\"o\"))\n",
        "\n",
        "print(a.lower())\n",
        "\n",
        "print(a.upper())\n",
        "\n",
        "print(a.title())\n",
        "\n",
        "print(a.index(\"fit\"))\n",
        "\n"
      ],
      "metadata": {
        "colab": {
          "base_uri": "https://localhost:8080/"
        },
        "id": "BKomeHfXc1py",
        "outputId": "4a0e0eed-a99e-4fc5-85a0-83c38cf878d3"
      },
      "execution_count": null,
      "outputs": [
        {
          "output_type": "stream",
          "name": "stdout",
          "text": [
            "42\n",
            "4\n",
            "why to fit in, when you are born to shine.\n",
            "WHY TO FIT IN, WHEN YOU ARE BORN TO SHINE.\n",
            "Why To Fit In, When You Are Born To Shine.\n",
            "7\n"
          ]
        }
      ]
    },
    {
      "cell_type": "code",
      "source": [
        "#fibonacci series\n",
        "#palindrome\n",
        "#check the digit is prime or not"
      ],
      "metadata": {
        "id": "ZkL9sy1GdnIV"
      },
      "execution_count": null,
      "outputs": []
    },
    {
      "cell_type": "code",
      "source": [
        "def fibonacci(n):\n",
        "  a,b = 0,1\n",
        "  for i in range(1,11):\n",
        "    print(a, end = \" \")\n",
        "    c = a + b\n",
        "    a = b\n",
        "    b = c\n",
        "fibonacci(10)\n",
        "\n",
        "print()\n",
        "\n",
        "def palindrome(n):\n",
        "  if n == n[::-1]:\n",
        "    print(\"It is a palindrome.\")\n",
        "  else:\n",
        "    print('Not a palindrome.')\n",
        "palindrome(\"madam\")\n",
        "\n",
        "\n",
        "def check_prime(n):\n",
        "  if n <= 1:\n",
        "    print(\"It is not a prime number.\")\n",
        "  else:\n",
        "    for i in range(2,int(n**0.5)+1):\n",
        "      if n % i == 0:\n",
        "        print(\"Not a prime number.\")\n",
        "        break\n",
        "    else:\n",
        "      print(\"Prime number.\")\n",
        "check_prime(3)"
      ],
      "metadata": {
        "colab": {
          "base_uri": "https://localhost:8080/"
        },
        "id": "E43eswFteayk",
        "outputId": "d67662bd-09f2-4ccb-ad5b-d4362afe6ebe"
      },
      "execution_count": null,
      "outputs": [
        {
          "output_type": "stream",
          "name": "stdout",
          "text": [
            "0 1 1 2 3 5 8 13 21 34 \n",
            "It is a palindrome.\n",
            "Prime number.\n"
          ]
        }
      ]
    },
    {
      "cell_type": "code",
      "source": [],
      "metadata": {
        "id": "M3cBtJAmw4CZ"
      },
      "execution_count": null,
      "outputs": []
    },
    {
      "cell_type": "code",
      "source": [
        "a = \"ootd.yolo.asap\"\n",
        "#write the program to separate the following string into comma separated values\n",
        "#write the program to sort alphabetically in python\n",
        "z = \"F.R.I.E.N.D.S\"\n",
        "#write the program to remove a given character from a string\n",
        "#remove dot(.)"
      ],
      "metadata": {
        "id": "ZTvTMolNeu0K"
      },
      "execution_count": null,
      "outputs": []
    },
    {
      "cell_type": "code",
      "source": [
        "a = \"ootd.yolo.asap\"\n",
        "b = a.replace(\".\",\",\")\n",
        "b\n",
        "\n",
        "\n",
        "s = \"adgde\"\n",
        "s = sorted(s)\n",
        "print(s)\n",
        "\n",
        "z = \"F.R.I.E.N.D.S\"\n",
        "b = z.replace(\".\", \"\")\n",
        "print(b)"
      ],
      "metadata": {
        "colab": {
          "base_uri": "https://localhost:8080/"
        },
        "id": "Qjo1vtF_w5At",
        "outputId": "c6add402-5c86-4a4e-95d6-7025f8ff3b75"
      },
      "execution_count": null,
      "outputs": [
        {
          "output_type": "stream",
          "name": "stdout",
          "text": [
            "['a', 'd', 'd', 'e', 'g']\n",
            "FRIENDS\n"
          ]
        }
      ]
    },
    {
      "cell_type": "code",
      "source": [
        "#take the input from the user and reverse it\n",
        "#write the program to check string contains only digit.\n",
        "#write the program to find the number of vowels in a string\n",
        "#write the program to check if every word in a string begins with a capital letter."
      ],
      "metadata": {
        "id": "vIB_uEIrxbdi"
      },
      "execution_count": null,
      "outputs": []
    },
    {
      "cell_type": "code",
      "source": [
        "# inp = input(\"Enter anything: \")\n",
        "# print(inp[::-1])\n",
        "\n",
        "\n",
        "a = \"345\"\n",
        "print(a.isdigit())\n",
        "\n",
        "a = \"hello brother, where are you.\"\n",
        "vowel = 0\n",
        "for i in a:\n",
        "  if i == \"a\" or i == \"A\" or i == \"e\" or i == \"E\" or i == \"i\" or i == \"I\" or i == \"o\" or i == \"O\" or i == \"u\" or i == \"U\":\n",
        "    vowel += 1\n",
        "print(vowel)\n",
        "\n",
        "\n",
        "a = \"Hello Bhai, how are You\"\n",
        "b = \"Hello Brother, How Are You\"\n",
        "print(a.istitle())\n",
        "print(b.istitle())"
      ],
      "metadata": {
        "colab": {
          "base_uri": "https://localhost:8080/"
        },
        "id": "OxXOA2MLy-Jp",
        "outputId": "58b6e417-81bc-4a7e-ef68-6c0531b4a60d"
      },
      "execution_count": null,
      "outputs": [
        {
          "output_type": "stream",
          "name": "stdout",
          "text": [
            "True\n",
            "10\n",
            "False\n",
            "True\n"
          ]
        }
      ]
    },
    {
      "cell_type": "code",
      "source": [
        "#functions of the list\n",
        "a = [\"hulk\", \"thor\", \"spiderman\", \"batman\"]\n",
        "len(a)\n",
        "a.count(\"hulk\")\n",
        "a.append(\"superman\")\n",
        "a.insert(1,\"krish\")\n",
        "a.remove(\"krish\")"
      ],
      "metadata": {
        "id": "96vTsUUQzNpS"
      },
      "execution_count": null,
      "outputs": []
    },
    {
      "cell_type": "code",
      "source": [
        "a = [\"hulk\", \"thor\", \"spiderman\", \"batman\"]\n",
        "b = [\"boomerman\"]\n",
        "a.extend(b)\n",
        "print(a)\n",
        "\n",
        "print(a.reverse())"
      ],
      "metadata": {
        "colab": {
          "base_uri": "https://localhost:8080/"
        },
        "id": "nUs2QFyQrhAN",
        "outputId": "20c506d0-9fbd-4bdc-f8fc-4d0a5d77bc34"
      },
      "execution_count": null,
      "outputs": [
        {
          "output_type": "stream",
          "name": "stdout",
          "text": [
            "['hulk', 'thor', 'spiderman', 'batman', 'boomerman']\n",
            "None\n"
          ]
        }
      ]
    },
    {
      "cell_type": "code",
      "source": [
        "#list comprehension\n",
        "l1 = [1,2,3,4]\n",
        "l2 = []\n",
        "for i in l1:\n",
        "  l2.append(i)\n",
        "print(l2)"
      ],
      "metadata": {
        "colab": {
          "base_uri": "https://localhost:8080/"
        },
        "id": "8uqKZm6irqto",
        "outputId": "30c780cd-9ae5-4df8-8efb-bf2906da28db"
      },
      "execution_count": null,
      "outputs": [
        {
          "output_type": "stream",
          "name": "stdout",
          "text": [
            "[1, 2, 3, 4]\n"
          ]
        }
      ]
    },
    {
      "cell_type": "code",
      "source": [],
      "metadata": {
        "id": "YLWHazy5_Aky"
      },
      "execution_count": null,
      "outputs": []
    },
    {
      "cell_type": "code",
      "source": [
        "l1 = [30,40,50,60]\n",
        "l2 = []\n",
        "for i in l1:\n",
        "  if l1 > 45:                   #will check later\n",
        "    l2.append(i)\n",
        "print(l2)"
      ],
      "metadata": {
        "colab": {
          "base_uri": "https://localhost:8080/",
          "height": 211
        },
        "id": "CzSgIZQHsERu",
        "outputId": "a32ca007-f9b1-4ae8-f858-30690fe2a40b"
      },
      "execution_count": null,
      "outputs": [
        {
          "output_type": "error",
          "ename": "TypeError",
          "evalue": "'>' not supported between instances of 'list' and 'int'",
          "traceback": [
            "\u001b[0;31m---------------------------------------------------------------------------\u001b[0m",
            "\u001b[0;31mTypeError\u001b[0m                                 Traceback (most recent call last)",
            "\u001b[0;32m<ipython-input-22-75577979917e>\u001b[0m in \u001b[0;36m<cell line: 0>\u001b[0;34m()\u001b[0m\n\u001b[1;32m      2\u001b[0m \u001b[0ml2\u001b[0m \u001b[0;34m=\u001b[0m \u001b[0;34m[\u001b[0m\u001b[0;34m]\u001b[0m\u001b[0;34m\u001b[0m\u001b[0;34m\u001b[0m\u001b[0m\n\u001b[1;32m      3\u001b[0m \u001b[0;32mfor\u001b[0m \u001b[0mi\u001b[0m \u001b[0;32min\u001b[0m \u001b[0ml1\u001b[0m\u001b[0;34m:\u001b[0m\u001b[0;34m\u001b[0m\u001b[0;34m\u001b[0m\u001b[0m\n\u001b[0;32m----> 4\u001b[0;31m   \u001b[0;32mif\u001b[0m \u001b[0ml1\u001b[0m \u001b[0;34m>\u001b[0m \u001b[0;36m45\u001b[0m\u001b[0;34m:\u001b[0m\u001b[0;34m\u001b[0m\u001b[0;34m\u001b[0m\u001b[0m\n\u001b[0m\u001b[1;32m      5\u001b[0m     \u001b[0ml2\u001b[0m\u001b[0;34m.\u001b[0m\u001b[0mappend\u001b[0m\u001b[0;34m(\u001b[0m\u001b[0mi\u001b[0m\u001b[0;34m)\u001b[0m\u001b[0;34m\u001b[0m\u001b[0;34m\u001b[0m\u001b[0m\n\u001b[1;32m      6\u001b[0m \u001b[0mprint\u001b[0m\u001b[0;34m(\u001b[0m\u001b[0ml2\u001b[0m\u001b[0;34m)\u001b[0m\u001b[0;34m\u001b[0m\u001b[0;34m\u001b[0m\u001b[0m\n",
            "\u001b[0;31mTypeError\u001b[0m: '>' not supported between instances of 'list' and 'int'"
          ]
        }
      ]
    },
    {
      "cell_type": "code",
      "source": [
        "#write a program to swap first and fourth element.\n",
        "\n",
        "a = [\"Ross\", \"Rachel\", \"Monica\", \"Joe\"]\n",
        "a[1],a[3] = a[3],a[1]\n",
        "print(a)\n",
        "\n",
        "#write a program to add a new element at second position\n",
        "a.insert(1,\"Phoebe\")\n",
        "print(a)\n",
        "\n",
        "#write a program to delete a values from 3rd position\n",
        "a = [1,2,3,4,5,6]\n",
        "a.remove(a[2])\n",
        "print(a)\n",
        "\n",
        "#write a program to multiply all the numbers in a list\n",
        "a = [1,2,3,4,5,6]\n",
        "mul = 1\n",
        "for i in a:\n",
        "  mul *= i\n",
        "print(mul)\n",
        "\n",
        "\n",
        "#write a program to get the largest number from a list\n",
        "max(a)\n",
        "min(a)"
      ],
      "metadata": {
        "colab": {
          "base_uri": "https://localhost:8080/"
        },
        "id": "cPxXeU7FsYzY",
        "outputId": "6348a00a-493e-4ee2-976b-b1da683653f5"
      },
      "execution_count": null,
      "outputs": [
        {
          "output_type": "stream",
          "name": "stdout",
          "text": [
            "['Ross', 'Joe', 'Monica', 'Rachel']\n",
            "['Ross', 'Phoebe', 'Joe', 'Monica', 'Rachel']\n",
            "[1, 2, 4, 5, 6]\n",
            "720\n"
          ]
        },
        {
          "output_type": "execute_result",
          "data": {
            "text/plain": [
              "1"
            ]
          },
          "metadata": {},
          "execution_count": 29
        }
      ]
    },
    {
      "cell_type": "code",
      "source": [
        "##########                Tuple Questions\n",
        "\n",
        "a = (\"Oneplus\", \"Nokia\", \"Motorola\", \"Vivo\")\n",
        "for i in a:\n",
        "  print(i,end = \" \")\n",
        "\n",
        "print()\n",
        "\n",
        "i = 0\n",
        "while i < len(a):\n",
        "  print(a[i])\n",
        "  i += 1"
      ],
      "metadata": {
        "colab": {
          "base_uri": "https://localhost:8080/"
        },
        "id": "x2xti2rgtGgj",
        "outputId": "e5a0aff2-f5b5-439c-f581-93552ac6f249"
      },
      "execution_count": null,
      "outputs": [
        {
          "output_type": "stream",
          "name": "stdout",
          "text": [
            "Oneplus Nokia Motorola Vivo \n",
            "Oneplus\n",
            "Nokia\n",
            "Motorola\n",
            "Vivo\n"
          ]
        }
      ]
    },
    {
      "cell_type": "code",
      "source": [
        "stu_data = {\"name\": \"David\", \"age\": 34, \"marks\": 65}\n",
        "\n",
        "#write a program to get the student data.\n",
        "stu_data[\"age\"]\n",
        "\n",
        "\n",
        "##### functions of dictionary\n",
        "\n",
        "print(stu_data.keys())\n",
        "print(stu_data.values())\n",
        "print(stu_data.get(\"name\"))\n",
        "print(stu_data[\"name\"])\n"
      ],
      "metadata": {
        "colab": {
          "base_uri": "https://localhost:8080/"
        },
        "id": "5NF0Mw04umf5",
        "outputId": "9139a5e7-0378-4487-cec1-042f4be9615f"
      },
      "execution_count": null,
      "outputs": [
        {
          "output_type": "stream",
          "name": "stdout",
          "text": [
            "dict_keys(['name', 'age', 'marks'])\n",
            "dict_values(['David', 34, 65])\n",
            "David\n",
            "David\n"
          ]
        }
      ]
    },
    {
      "cell_type": "code",
      "source": [
        "#Creating a nested dictionary\n",
        "emp = {1: {\"name\": \"Saroj\", \"age\": 34},\n",
        "       2: {\"name\": \"kritesh\", \"age\": 59}}\n",
        "print(emp)\n",
        "\n",
        "#how can i get age of the saroj\n",
        "emp[1][\"age\"]\n",
        "emp[2][\"name\"]"
      ],
      "metadata": {
        "colab": {
          "base_uri": "https://localhost:8080/",
          "height": 53
        },
        "id": "5m3y0A8BvfJQ",
        "outputId": "35d489e6-d9bc-4fcd-acc7-3b4989f0a0e4"
      },
      "execution_count": null,
      "outputs": [
        {
          "output_type": "stream",
          "name": "stdout",
          "text": [
            "{1: {'name': 'Saroj', 'age': 34}, 2: {'name': 'kritesh', 'age': 59}}\n"
          ]
        },
        {
          "output_type": "execute_result",
          "data": {
            "text/plain": [
              "'kritesh'"
            ],
            "application/vnd.google.colaboratory.intrinsic+json": {
              "type": "string"
            }
          },
          "metadata": {},
          "execution_count": 15
        }
      ]
    },
    {
      "cell_type": "code",
      "source": [
        "stu_data = {\"rank\": 89, \"age\": 34, \"marks\": 65}\n",
        "\n",
        "#write a program to set a dictionary by values\n",
        "stu_data = sorted(stu_data.values())\n",
        "print(stu_data)\n",
        "\n",
        "#write a program to print a dictionary where the keys are the number between 1 and 10 and their values are their squares.\n",
        "mul = {}\n",
        "for i in range(1,11):\n",
        "  mul[i] = i**2\n",
        "print(mul)"
      ],
      "metadata": {
        "colab": {
          "base_uri": "https://localhost:8080/"
        },
        "id": "cEX2VT0Jwhk0",
        "outputId": "6174e2c5-2667-4713-99d5-362bd5790548"
      },
      "execution_count": null,
      "outputs": [
        {
          "output_type": "stream",
          "name": "stdout",
          "text": [
            "[34, 65, 89]\n",
            "{1: 1, 2: 4, 3: 9, 4: 16, 5: 25, 6: 36, 7: 49, 8: 64, 9: 81, 10: 100}\n"
          ]
        }
      ]
    },
    {
      "cell_type": "code",
      "source": [
        "#write a program to multiply all the items in a dictionary.\n",
        "a = {\"a\": 1, \"b\": 2, \"c\": 3, \"d\": 4}\n",
        "mul = 1\n",
        "for i in a:\n",
        "  mul *= a[i]\n",
        "print(mul)\n"
      ],
      "metadata": {
        "colab": {
          "base_uri": "https://localhost:8080/"
        },
        "id": "MCz5FutAxJW7",
        "outputId": "14b8b7e7-d4dc-456c-da59-37e77b29c353"
      },
      "execution_count": null,
      "outputs": [
        {
          "output_type": "stream",
          "name": "stdout",
          "text": [
            "24\n"
          ]
        }
      ]
    },
    {
      "cell_type": "code",
      "source": [
        "#write a program to sort a dictionary by key\n",
        "a = {\"g\": 1, \"b\": 2, \"c\": 3, \"d\": 4}\n",
        "a = sorted(a.keys())\n",
        "print(a)"
      ],
      "metadata": {
        "colab": {
          "base_uri": "https://localhost:8080/"
        },
        "id": "BnQ2pLpkyX6O",
        "outputId": "532c0a2d-7e38-41e7-eccd-56dc4470f79f"
      },
      "execution_count": null,
      "outputs": [
        {
          "output_type": "stream",
          "name": "stdout",
          "text": [
            "['b', 'c', 'd', 'g']\n"
          ]
        }
      ]
    },
    {
      "cell_type": "code",
      "source": [
        "#######                    Sets functions\n",
        "a = {\"Ironman\", \"Hulk\", \"Spiderman\"}\n",
        "a.add(\"Batman\")\n",
        "print(a)\n",
        "\n",
        "a.pop()\n",
        "print(a)\n",
        "\n",
        "a.remove(\"Batman\")\n",
        "print(a)\n",
        "\n",
        "a.discard(\"Spiderman\")\n",
        "print(a)"
      ],
      "metadata": {
        "colab": {
          "base_uri": "https://localhost:8080/"
        },
        "id": "ScLr4ky73zuR",
        "outputId": "346b0810-d2ea-4451-a405-1f21544ba463"
      },
      "execution_count": null,
      "outputs": [
        {
          "output_type": "stream",
          "name": "stdout",
          "text": [
            "{'Hulk', 'Ironman', 'Batman', 'Spiderman'}\n",
            "{'Ironman', 'Batman', 'Spiderman'}\n",
            "{'Ironman', 'Spiderman'}\n",
            "{'Ironman'}\n"
          ]
        }
      ]
    },
    {
      "cell_type": "code",
      "source": [
        "a = {1,2,3,4,2,23232,2,32,4,54,3}\n",
        "\n",
        "\n",
        "##write a program to find the max and minimum values in a set\n",
        "max(a)\n",
        "min(a)\n",
        "\n",
        "a = {1,2,3}\n",
        "b = {3,4,5}\n",
        "c = {3,6,4}\n",
        "\n",
        "\n",
        "##write a program to find common elements in three sets\n",
        "d = a.intersection(b)\n",
        "e = d.intersection(c)\n",
        "\n",
        "print(e)\n",
        "\n",
        "\n",
        "a = {1,2,3}\n",
        "b = {3,4,5}\n",
        "\n",
        "#write a program to find the difference between two sets\n",
        "print(a.difference(b))\n"
      ],
      "metadata": {
        "colab": {
          "base_uri": "https://localhost:8080/"
        },
        "id": "ZtSV_8Ni4DeJ",
        "outputId": "82b513a0-c829-4b4a-9195-bb6fe1765fd9"
      },
      "execution_count": null,
      "outputs": [
        {
          "output_type": "stream",
          "name": "stdout",
          "text": [
            "{3}\n",
            "{1, 2}\n"
          ]
        }
      ]
    },
    {
      "cell_type": "code",
      "source": [
        "###############  Functions\n",
        "\n",
        "#arbitary function\n",
        "\n",
        "def hello(*name):\n",
        "  print(\"My name is\", name[2])\n",
        "hello(\"Jotshna\", \"rakesh\", \"punk\")"
      ],
      "metadata": {
        "colab": {
          "base_uri": "https://localhost:8080/"
        },
        "id": "efIx5gjc4mhU",
        "outputId": "39726566-ce14-4c1a-ddc5-25dbd45d73a1"
      },
      "execution_count": null,
      "outputs": [
        {
          "output_type": "stream",
          "name": "stdout",
          "text": [
            "My name is punk\n"
          ]
        }
      ]
    },
    {
      "cell_type": "code",
      "source": [
        "a = lambda b: b*5\n",
        "a(4)\n",
        "\n",
        "x = lambda a,b,c: (a+b)*c\n",
        "print(x(1,2,3))"
      ],
      "metadata": {
        "colab": {
          "base_uri": "https://localhost:8080/"
        },
        "id": "UKjFSHzD5oKq",
        "outputId": "f4b2f9a5-4b0b-42e9-896a-f64c33fb2de9"
      },
      "execution_count": null,
      "outputs": [
        {
          "output_type": "stream",
          "name": "stdout",
          "text": [
            "9\n"
          ]
        }
      ]
    },
    {
      "cell_type": "code",
      "source": [
        "#write a function to find the maximum of three numbers\n",
        "\n",
        "def max_num(a,b,c):\n",
        "  if a > b and a > c:\n",
        "    print(\"Max number is\", a)\n",
        "  elif b > a and b > c:\n",
        "    print(\"Max number is\", b)\n",
        "  else:\n",
        "    print(\"Max number is\", c)\n",
        "max_num(3,4,2)"
      ],
      "metadata": {
        "colab": {
          "base_uri": "https://localhost:8080/"
        },
        "id": "Ire648np6DvR",
        "outputId": "dd2f1ef6-77fd-4c98-887d-6d84cce5681c"
      },
      "execution_count": null,
      "outputs": [
        {
          "output_type": "stream",
          "name": "stdout",
          "text": [
            "Max number is 4\n"
          ]
        }
      ]
    },
    {
      "cell_type": "code",
      "source": [
        "#write a function to create and print a list where the values are square of numbers between 1 and 15.\n",
        "def creat_list():\n",
        "  l = []\n",
        "  for i in range(1,16):\n",
        "    l.append(i**2)\n",
        "  return l\n",
        "print(creat_list)\n"
      ],
      "metadata": {
        "colab": {
          "base_uri": "https://localhost:8080/"
        },
        "id": "UiryQeJH61FC",
        "outputId": "b98210f4-dbb0-4325-8dd1-1d878c511b98"
      },
      "execution_count": null,
      "outputs": [
        {
          "output_type": "stream",
          "name": "stdout",
          "text": [
            "<function creat_list at 0x78a207801580>\n"
          ]
        }
      ]
    },
    {
      "cell_type": "code",
      "source": [
        "#write a function that takes no as a parameter and check if the number is prime or not.\n",
        "n = int(input(\"Enter the number to check prime or not: \"))\n",
        "def check_prime(n):\n",
        "  if n <= 1:\n",
        "    print(\"Not a prime number.\")\n",
        "  else:\n",
        "    for i in range(2,int(n**0.5)+1):\n",
        "      if n % i == 0:\n",
        "        print(\"Not a prime number.\")\n",
        "        break\n",
        "    else:\n",
        "      print(\"Prime number.\")\n",
        "check_prime(n)"
      ],
      "metadata": {
        "colab": {
          "base_uri": "https://localhost:8080/"
        },
        "id": "cOOCbDcoAR5Z",
        "outputId": "ea0045f3-4484-4c71-a516-b89949c81597"
      },
      "execution_count": null,
      "outputs": [
        {
          "output_type": "stream",
          "name": "stdout",
          "text": [
            "Enter the number to check prime or not: 8\n",
            "Not a prime number.\n"
          ]
        }
      ]
    },
    {
      "cell_type": "code",
      "source": [
        "#write a function to sum all the numbers of a list.\n",
        "def add_num(number):\n",
        "    total = 0\n",
        "    for i in number:\n",
        "        total += i\n",
        "    return total\n",
        "add_num([1,2,3,4,5])"
      ],
      "metadata": {
        "colab": {
          "base_uri": "https://localhost:8080/"
        },
        "id": "CDWMHLA3BVpz",
        "outputId": "41825189-4adc-469c-c400-2ff8647cda15"
      },
      "execution_count": null,
      "outputs": [
        {
          "output_type": "execute_result",
          "data": {
            "text/plain": [
              "15"
            ]
          },
          "metadata": {},
          "execution_count": 70
        }
      ]
    },
    {
      "cell_type": "code",
      "source": [
        "#write a function for fibonacci series\n",
        "def fibonacci(n):\n",
        "  a,b = 0,1\n",
        "  for i in range(n):\n",
        "    print(a, end = \" \")\n",
        "    c = a + b\n",
        "    a = b\n",
        "    b = c\n",
        "fibonacci(10)"
      ],
      "metadata": {
        "colab": {
          "base_uri": "https://localhost:8080/"
        },
        "id": "zrZ0vwh_Cb7i",
        "outputId": "960efff3-ffc1-49a7-a685-a69617b17d1d"
      },
      "execution_count": null,
      "outputs": [
        {
          "output_type": "stream",
          "name": "stdout",
          "text": [
            "0 1 1 2 3 5 8 13 21 34 "
          ]
        }
      ]
    },
    {
      "cell_type": "code",
      "source": [],
      "metadata": {
        "id": "p2L_b51xFh66"
      },
      "execution_count": null,
      "outputs": []
    }
  ],
  "metadata": {
    "kernelspec": {
      "display_name": "Python 3",
      "language": "python",
      "name": "python3"
    },
    "language_info": {
      "codemirror_mode": {
        "name": "ipython",
        "version": 3
      },
      "file_extension": ".py",
      "mimetype": "text/x-python",
      "name": "python",
      "nbconvert_exporter": "python",
      "pygments_lexer": "ipython3",
      "version": "3.7.3"
    },
    "colab": {
      "provenance": [],
      "include_colab_link": true
    }
  },
  "nbformat": 4,
  "nbformat_minor": 0
}