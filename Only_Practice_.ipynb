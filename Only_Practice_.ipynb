{
  "nbformat": 4,
  "nbformat_minor": 0,
  "metadata": {
    "colab": {
      "provenance": [],
      "authorship_tag": "ABX9TyPqc6g5W/IIOxUXj5GhIM7p",
      "include_colab_link": true
    },
    "kernelspec": {
      "name": "python3",
      "display_name": "Python 3"
    },
    "language_info": {
      "name": "python"
    }
  },
  "cells": [
    {
      "cell_type": "markdown",
      "metadata": {
        "id": "view-in-github",
        "colab_type": "text"
      },
      "source": [
        "<a href=\"https://colab.research.google.com/github/Jatingpt/Only-for-practicing/blob/main/Only_Practice_.ipynb\" target=\"_parent\"><img src=\"https://colab.research.google.com/assets/colab-badge.svg\" alt=\"Open In Colab\"/></a>"
      ]
    },
    {
      "cell_type": "code",
      "execution_count": null,
      "metadata": {
        "id": "aFP2c-7HFJ5E",
        "outputId": "c5d63c44-1768-419f-a046-08ee1df4f36c",
        "colab": {
          "base_uri": "https://localhost:8080/"
        }
      },
      "outputs": [
        {
          "output_type": "stream",
          "name": "stdout",
          "text": [
            "You will go for a trip\n"
          ]
        }
      ],
      "source": [
        "#If else statement\n",
        "marks = 89\n",
        "if marks>85:\n",
        "  print(\"You will go for a trip\")\n",
        "elif marks>75 and marks<85:\n",
        "  print(\"You are a good student\")\n",
        "else:\n",
        "  print(\"Needs improvement\")"
      ]
    },
    {
      "cell_type": "code",
      "source": [
        "def marks(num):\n",
        "  if num>80:\n",
        "    print(\"You will get a mobile\")\n",
        "  else:\n",
        "    print(\"You really need an improvement.\")\n",
        "\n",
        "marks(89)\n"
      ],
      "metadata": {
        "id": "OeQN58RvFyX1",
        "outputId": "6dd4a8c0-1928-4c80-d92e-6a52c04466e5",
        "colab": {
          "base_uri": "https://localhost:8080/"
        }
      },
      "execution_count": null,
      "outputs": [
        {
          "output_type": "stream",
          "name": "stdout",
          "text": [
            "You will get a mobile\n"
          ]
        }
      ]
    },
    {
      "cell_type": "code",
      "source": [
        "for i in range(1,11):\n",
        "  print(i)"
      ],
      "metadata": {
        "id": "FARenxPQGarc",
        "outputId": "077a32e1-874a-42b7-9e3f-0e2cd9596aa1",
        "colab": {
          "base_uri": "https://localhost:8080/"
        }
      },
      "execution_count": null,
      "outputs": [
        {
          "output_type": "stream",
          "name": "stdout",
          "text": [
            "1\n",
            "2\n",
            "3\n",
            "4\n",
            "5\n",
            "6\n",
            "7\n",
            "8\n",
            "9\n",
            "10\n"
          ]
        }
      ]
    },
    {
      "cell_type": "code",
      "source": [
        "for i in range(1,11):\n",
        "  if i == 5:\n",
        "    print(\"You are dismissed\")\n",
        "  else:\n",
        "    print(i)"
      ],
      "metadata": {
        "id": "qAHoF8UMG9TP",
        "outputId": "102c0aed-3264-41eb-8fcf-87ed32037ef1",
        "colab": {
          "base_uri": "https://localhost:8080/"
        }
      },
      "execution_count": null,
      "outputs": [
        {
          "output_type": "stream",
          "name": "stdout",
          "text": [
            "1\n",
            "2\n",
            "3\n",
            "4\n",
            "You are dismissed\n",
            "6\n",
            "7\n",
            "8\n",
            "9\n",
            "10\n"
          ]
        }
      ]
    },
    {
      "cell_type": "code",
      "source": [
        "def add(x,y):\n",
        "  print(x+y)\n",
        "\n",
        "add(3,4)"
      ],
      "metadata": {
        "id": "PkHiUUm4HGC7",
        "outputId": "75b6e7ae-6c22-4622-e571-240db0ee7e91",
        "colab": {
          "base_uri": "https://localhost:8080/"
        }
      },
      "execution_count": null,
      "outputs": [
        {
          "output_type": "stream",
          "name": "stdout",
          "text": [
            "7\n"
          ]
        }
      ]
    },
    {
      "cell_type": "code",
      "source": [
        "a = [\"Rohit\", \"Sohan\", \"Mohan\", \"Priya\", \"Greena\"]\n",
        "print(a)"
      ],
      "metadata": {
        "id": "9VZwK2ZBHPzS",
        "outputId": "7b5ee81e-6595-46bc-b3be-29ccd04f908e",
        "colab": {
          "base_uri": "https://localhost:8080/"
        }
      },
      "execution_count": null,
      "outputs": [
        {
          "output_type": "stream",
          "name": "stdout",
          "text": [
            "['Rohit', 'Sohan', 'Mohan', 'Priya', 'Greena']\n"
          ]
        }
      ]
    },
    {
      "cell_type": "code",
      "source": [
        "print(a[1])"
      ],
      "metadata": {
        "id": "NYqaUjSjHZ6N",
        "outputId": "e21105fc-398c-441b-ccbe-1dfb24f98e23",
        "colab": {
          "base_uri": "https://localhost:8080/"
        }
      },
      "execution_count": null,
      "outputs": [
        {
          "output_type": "stream",
          "name": "stdout",
          "text": [
            "Sohan\n"
          ]
        }
      ]
    },
    {
      "cell_type": "code",
      "source": [
        "print(a[::-1])\n",
        "print()\n",
        "print(a[:2])\n",
        "print(a[-3:-1])"
      ],
      "metadata": {
        "id": "LS4gvK6AHdJn",
        "outputId": "95ac597c-ae7b-44c2-a2fd-273f45398c2d",
        "colab": {
          "base_uri": "https://localhost:8080/"
        }
      },
      "execution_count": null,
      "outputs": [
        {
          "output_type": "stream",
          "name": "stdout",
          "text": [
            "['Greena', 'Priya', 'Mohan', 'Sohan', 'Rohit']\n",
            "\n",
            "['Rohit', 'Sohan']\n",
            "['Mohan', 'Priya']\n"
          ]
        }
      ]
    },
    {
      "cell_type": "code",
      "source": [
        "print(a[1:3])"
      ],
      "metadata": {
        "id": "1vkjPIC0Hhto",
        "outputId": "517d2ede-7916-466a-8307-136a824e5b36",
        "colab": {
          "base_uri": "https://localhost:8080/"
        }
      },
      "execution_count": null,
      "outputs": [
        {
          "output_type": "stream",
          "name": "stdout",
          "text": [
            "['Sohan', 'Mohan']\n"
          ]
        }
      ]
    },
    {
      "cell_type": "code",
      "source": [
        "for i in range(1,101):\n",
        "  if i%8==0 and i%12==0:\n",
        "    print(i)"
      ],
      "metadata": {
        "id": "DnRroQDNIHiu",
        "outputId": "63d9e4ca-c28d-49b7-98e8-dfe395388748",
        "colab": {
          "base_uri": "https://localhost:8080/"
        }
      },
      "execution_count": null,
      "outputs": [
        {
          "output_type": "stream",
          "name": "stdout",
          "text": [
            "24\n",
            "48\n",
            "72\n",
            "96\n"
          ]
        }
      ]
    },
    {
      "cell_type": "code",
      "source": [
        "#2*3.14*r\n",
        "def area(r):\n",
        "  print(2*3.14*r)\n",
        "\n",
        "area(7)\n"
      ],
      "metadata": {
        "id": "aoNu_N-lIUtV",
        "outputId": "d711be15-7353-4939-ae65-267090474101",
        "colab": {
          "base_uri": "https://localhost:8080/"
        }
      },
      "execution_count": null,
      "outputs": [
        {
          "output_type": "stream",
          "name": "stdout",
          "text": [
            "43.96\n"
          ]
        }
      ]
    },
    {
      "cell_type": "code",
      "source": [
        "def rect_area(length,breath):\n",
        "  print(length*breath)\n",
        "\n",
        "rect_area(4,3)"
      ],
      "metadata": {
        "id": "tW_WS2ZZIzVb",
        "outputId": "00e78c2a-5e01-47d2-9db3-28719e24a4a9",
        "colab": {
          "base_uri": "https://localhost:8080/"
        }
      },
      "execution_count": null,
      "outputs": [
        {
          "output_type": "stream",
          "name": "stdout",
          "text": [
            "12\n"
          ]
        }
      ]
    },
    {
      "cell_type": "code",
      "source": [
        "a = 1,2,3\n",
        "b = \"1,2,3\"\n",
        "a is b"
      ],
      "metadata": {
        "id": "fpVleJOZJB7j",
        "outputId": "9614d585-9c8d-47c0-a02b-2dd2143dc75a",
        "colab": {
          "base_uri": "https://localhost:8080/"
        }
      },
      "execution_count": null,
      "outputs": [
        {
          "output_type": "execute_result",
          "data": {
            "text/plain": [
              "False"
            ]
          },
          "metadata": {},
          "execution_count": 25
        }
      ]
    },
    {
      "cell_type": "code",
      "source": [
        "def mul(n):\n",
        "  print(7*n)\n",
        "\n",
        "mul(7)"
      ],
      "metadata": {
        "id": "AXn31hIZJNv6",
        "outputId": "6957b0f3-e082-4221-ae2f-0abac60da110",
        "colab": {
          "base_uri": "https://localhost:8080/"
        }
      },
      "execution_count": null,
      "outputs": [
        {
          "output_type": "stream",
          "name": "stdout",
          "text": [
            "49\n"
          ]
        }
      ]
    },
    {
      "cell_type": "code",
      "source": [
        "n = 7\n",
        "for i in range(1,11):\n",
        "  print(7*i)"
      ],
      "metadata": {
        "id": "k03VZ4LgJZFZ",
        "outputId": "05e3d2a3-88a5-4218-cbe7-53c81ccd54e8",
        "colab": {
          "base_uri": "https://localhost:8080/"
        }
      },
      "execution_count": null,
      "outputs": [
        {
          "output_type": "stream",
          "name": "stdout",
          "text": [
            "7\n",
            "14\n",
            "21\n",
            "28\n",
            "35\n",
            "42\n",
            "49\n",
            "56\n",
            "63\n",
            "70\n"
          ]
        }
      ]
    },
    {
      "cell_type": "code",
      "source": [
        "marks = 98\n",
        "print(\"You are a good student\") if marks>90 else print(\"You are an average student\")"
      ],
      "metadata": {
        "id": "__gmLf2uJjCz",
        "outputId": "5c7a5f08-712a-45b9-8771-31f8d632f21a",
        "colab": {
          "base_uri": "https://localhost:8080/"
        }
      },
      "execution_count": null,
      "outputs": [
        {
          "output_type": "stream",
          "name": "stdout",
          "text": [
            "You are a good student\n"
          ]
        }
      ]
    },
    {
      "cell_type": "code",
      "source": [
        "a = 7\n",
        "b = 1\n",
        "while b<=10:\n",
        "  print(a*b)\n",
        "  b+=1"
      ],
      "metadata": {
        "id": "fXOmukZIJ6FV",
        "outputId": "d314e789-e56f-42d7-97bf-8bb9e0c29914",
        "colab": {
          "base_uri": "https://localhost:8080/"
        }
      },
      "execution_count": null,
      "outputs": [
        {
          "output_type": "stream",
          "name": "stdout",
          "text": [
            "7\n",
            "14\n",
            "21\n",
            "28\n",
            "35\n",
            "42\n",
            "49\n",
            "56\n",
            "63\n",
            "70\n"
          ]
        }
      ]
    },
    {
      "cell_type": "code",
      "source": [
        "#Numpy stands for numeric python.\n",
        "#deals with array.\n",
        "#a library of python.\n",
        "#numpy stores less memory.\n",
        "#directly apply the math functions.\n",
        "#performing faster.\n",
        "\n",
        "import numpy as np\n",
        "\n",
        "a = np.array([1,2,3,4])\n",
        "print(a)\n",
        "\n",
        "print(type(a))\n",
        "\n",
        "print()\n",
        "\n",
        "#Math operation in list\n",
        "a = [1,2,3,4,5]\n",
        "b = [1,2,3,4,5]\n",
        "print(a+b)\n",
        "\n",
        "print()\n",
        "\n",
        "\n",
        "a = np.array([1,2,3,4,5])\n",
        "b = np.array([1,2,3,4,5])\n",
        "\n",
        "print(a+b)"
      ],
      "metadata": {
        "id": "b9rz4ig7KNqS",
        "outputId": "024619ce-3201-453d-c939-e5992a3e84b2",
        "colab": {
          "base_uri": "https://localhost:8080/"
        }
      },
      "execution_count": null,
      "outputs": [
        {
          "output_type": "stream",
          "name": "stdout",
          "text": [
            "[1 2 3 4]\n",
            "<class 'numpy.ndarray'>\n",
            "\n",
            "[1, 2, 3, 4, 5, 1, 2, 3, 4, 5]\n",
            "\n",
            "[ 2  4  6  8 10]\n"
          ]
        }
      ]
    },
    {
      "cell_type": "code",
      "source": [
        "arr = np.array([10, 23, 24, 25, 53, 53, 53])\n",
        "print(arr)\n",
        "\n",
        "\n",
        "print(arr[1])"
      ],
      "metadata": {
        "id": "mGTIrqbYPSnc",
        "outputId": "4ef0d838-ce03-4430-f480-546cb9f44604",
        "colab": {
          "base_uri": "https://localhost:8080/"
        }
      },
      "execution_count": null,
      "outputs": [
        {
          "output_type": "stream",
          "name": "stdout",
          "text": [
            "[10 23 24 25 53 53 53]\n",
            "23\n"
          ]
        }
      ]
    },
    {
      "cell_type": "code",
      "source": [
        "#One-Dimensional Array.\n",
        "\n",
        "a = np.array([3,4,5,2,3,6])\n",
        "print(a)\n",
        "\n",
        "\n",
        "#Slicing in one dimensional array.\n",
        "a = np.array([3,4,5,2,3,6])\n",
        "a[::-1]"
      ],
      "metadata": {
        "id": "X01Z1gruQYtl",
        "outputId": "6fced178-094e-423d-c25d-7e3b4994faaa",
        "colab": {
          "base_uri": "https://localhost:8080/"
        }
      },
      "execution_count": null,
      "outputs": [
        {
          "output_type": "stream",
          "name": "stdout",
          "text": [
            "[3 4 5 2 3 6]\n"
          ]
        },
        {
          "output_type": "execute_result",
          "data": {
            "text/plain": [
              "array([6, 3, 2, 5, 4, 3])"
            ]
          },
          "metadata": {},
          "execution_count": 18
        }
      ]
    },
    {
      "cell_type": "code",
      "source": [
        "#2-dimensional array.\n",
        "\n",
        "a = np.array([[1,2],\n",
        "             [3,4]])\n",
        "print(a)\n",
        "\n",
        "#slicing in 2-dimensional array.\n",
        "a = np.array([[1,2],\n",
        "             [3,4]])\n",
        "\n",
        "print(a[1])\n",
        "\n",
        "print()\n",
        "\n",
        "print(a[0])\n",
        "\n",
        "print()\n",
        "\n",
        "print(a[0:1])\n",
        "\n",
        "print()\n",
        "\n",
        "print(a[0:2])\n",
        "\n",
        "print()\n",
        "\n",
        "print(a[1][1])"
      ],
      "metadata": {
        "id": "PmF19o45QBuD",
        "outputId": "2e3cdab1-db7b-4d78-c90f-c294dadace7e",
        "colab": {
          "base_uri": "https://localhost:8080/"
        }
      },
      "execution_count": null,
      "outputs": [
        {
          "output_type": "stream",
          "name": "stdout",
          "text": [
            "[[1 2]\n",
            " [3 4]]\n",
            "[3 4]\n",
            "\n",
            "[1 2]\n",
            "\n",
            "[[1 2]]\n",
            "\n",
            "[[1 2]\n",
            " [3 4]]\n",
            "\n",
            "4\n"
          ]
        }
      ]
    },
    {
      "cell_type": "code",
      "source": [
        "#3-dimensional array.\n",
        "\n",
        "a = np.array([[[12,13,14],\n",
        "               [12,13,14],\n",
        "               [12,13,14]]])\n",
        "print(a)"
      ],
      "metadata": {
        "id": "Sea2GNH7QUb9",
        "outputId": "f318b59d-5b46-4d10-a32b-a33814de44f4",
        "colab": {
          "base_uri": "https://localhost:8080/"
        }
      },
      "execution_count": null,
      "outputs": [
        {
          "output_type": "stream",
          "name": "stdout",
          "text": [
            "[[[12 13 14]\n",
            "  [12 13 14]\n",
            "  [12 13 14]]]\n"
          ]
        }
      ]
    },
    {
      "cell_type": "code",
      "source": [
        "#Slicing in the 3-dimensional numpy array.\n",
        "import numpy as np\n",
        "a = np.array([[[12,13,14],\n",
        "               [12,13,14],\n",
        "               [12,13,14]]])\n",
        "print(np.ndim(a))"
      ],
      "metadata": {
        "id": "QaRYFH31RGXN",
        "outputId": "ce66264f-4a77-4c25-e030-eacab38e004d",
        "colab": {
          "base_uri": "https://localhost:8080/"
        }
      },
      "execution_count": null,
      "outputs": [
        {
          "output_type": "stream",
          "name": "stdout",
          "text": [
            "3\n"
          ]
        }
      ]
    },
    {
      "cell_type": "code",
      "source": [
        "a = np.array([[1,2],\n",
        "             [3,4]])\n",
        "print(np.ndim(a))"
      ],
      "metadata": {
        "id": "GDKqdZFPTpAg",
        "outputId": "78285f4e-888c-4500-d717-0d5c584fcdd9",
        "colab": {
          "base_uri": "https://localhost:8080/"
        }
      },
      "execution_count": null,
      "outputs": [
        {
          "output_type": "stream",
          "name": "stdout",
          "text": [
            "2\n"
          ]
        }
      ]
    },
    {
      "cell_type": "code",
      "source": [
        "import numpy as np\n",
        "a = np.array([[[12,3,4],\n",
        "               [12,1,1],\n",
        "               [12,3,1]]])\n",
        "\n",
        "print(a[0][1])\n",
        "print()\n",
        "print(a[0][2])\n",
        "print()\n",
        "print(a[0][1])\n",
        "print()\n",
        "print(a[0][1][1])\n",
        "print()\n",
        "print(a[0][2][1])"
      ],
      "metadata": {
        "id": "pCQBvLE8VxqM",
        "outputId": "21c1e83a-6731-4c06-dc72-b5143d87dae4",
        "colab": {
          "base_uri": "https://localhost:8080/"
        }
      },
      "execution_count": null,
      "outputs": [
        {
          "output_type": "stream",
          "name": "stdout",
          "text": [
            "[12  1  1]\n",
            "\n",
            "[12  3  1]\n",
            "\n",
            "[12  1  1]\n",
            "\n",
            "1\n",
            "\n",
            "3\n"
          ]
        }
      ]
    },
    {
      "cell_type": "code",
      "source": [
        "import numpy as np"
      ],
      "metadata": {
        "id": "LjJ73ee_V5Sq"
      },
      "execution_count": null,
      "outputs": []
    },
    {
      "cell_type": "code",
      "source": [
        "a = np.array([1,2,3,4,5])\n",
        "print(a)\n",
        "\n",
        "print(type(a))\n",
        "print()\n",
        "print(a.astype(int))\n",
        "print()\n",
        "print(len(a))\n",
        "print()\n",
        "print(a.shape)\n",
        "print()\n",
        "print(a.size)\n",
        "print()\n",
        "print(a.ndim)"
      ],
      "metadata": {
        "colab": {
          "base_uri": "https://localhost:8080/"
        },
        "id": "eqrplWpmjsKR",
        "outputId": "81eb3e50-a63e-4a01-88b9-bd3490805edc"
      },
      "execution_count": null,
      "outputs": [
        {
          "output_type": "stream",
          "name": "stdout",
          "text": [
            "[1 2 3 4 5]\n",
            "<class 'numpy.ndarray'>\n",
            "\n",
            "[1 2 3 4 5]\n",
            "\n",
            "5\n",
            "\n",
            "(5,)\n",
            "\n",
            "5\n",
            "\n",
            "1\n"
          ]
        }
      ]
    },
    {
      "cell_type": "code",
      "source": [
        "a = np.array([[1,2],[3,4]])\n",
        "print(type(a))\n",
        "print(a.ndim)\n",
        "print(a.size)\n",
        "print(a.dtype)\n",
        "print(len(a))"
      ],
      "metadata": {
        "colab": {
          "base_uri": "https://localhost:8080/"
        },
        "id": "yX5S_mxlj0K2",
        "outputId": "6d7ce79c-45c7-4504-be6d-bb3750c00f5a"
      },
      "execution_count": null,
      "outputs": [
        {
          "output_type": "stream",
          "name": "stdout",
          "text": [
            "<class 'numpy.ndarray'>\n",
            "2\n",
            "4\n",
            "int64\n",
            "2\n"
          ]
        }
      ]
    },
    {
      "cell_type": "code",
      "source": [
        "arr1 = np.array([[1,2],[3,4]])\n",
        "arr2 = np.array([[5,6],[7,8]])\n",
        "\n",
        "print(arr1+arr2)"
      ],
      "metadata": {
        "colab": {
          "base_uri": "https://localhost:8080/"
        },
        "id": "XLi1Lo1akwAW",
        "outputId": "b96c0bd2-e128-4279-dade-c12e9ec91df3"
      },
      "execution_count": null,
      "outputs": [
        {
          "output_type": "stream",
          "name": "stdout",
          "text": [
            "[[ 6  8]\n",
            " [10 12]]\n"
          ]
        }
      ]
    },
    {
      "cell_type": "code",
      "source": [
        "b = np.concatenate([arr1,arr2])\n",
        "print(len(b))\n",
        "print(b)\n"
      ],
      "metadata": {
        "colab": {
          "base_uri": "https://localhost:8080/"
        },
        "id": "3pX12xNllDSy",
        "outputId": "cac374d7-6d21-40ec-8df6-310e4b7a1066"
      },
      "execution_count": null,
      "outputs": [
        {
          "output_type": "stream",
          "name": "stdout",
          "text": [
            "4\n",
            "[[1 2]\n",
            " [3 4]\n",
            " [5 6]\n",
            " [7 8]]\n"
          ]
        }
      ]
    },
    {
      "cell_type": "code",
      "source": [
        "print(b[3][1])"
      ],
      "metadata": {
        "colab": {
          "base_uri": "https://localhost:8080/"
        },
        "id": "TKGru7AvlMkb",
        "outputId": "a58a11a5-7ab8-419c-944b-fb89ff3e89ed"
      },
      "execution_count": null,
      "outputs": [
        {
          "output_type": "stream",
          "name": "stdout",
          "text": [
            "8\n"
          ]
        }
      ]
    },
    {
      "cell_type": "code",
      "source": [
        "#spliting in array\n",
        "arry = np.array([1,2,3,4,5,6])\n",
        "print(np.array_split(arry,3))"
      ],
      "metadata": {
        "colab": {
          "base_uri": "https://localhost:8080/"
        },
        "id": "c10WwZ3xl62F",
        "outputId": "223d5759-3d89-4ec7-9adf-9eb6a45c488e"
      },
      "execution_count": null,
      "outputs": [
        {
          "output_type": "stream",
          "name": "stdout",
          "text": [
            "[array([1, 2]), array([3, 4]), array([5, 6])]\n"
          ]
        }
      ]
    },
    {
      "cell_type": "code",
      "source": [
        "c = np.array([1,2,3,4,5,6,7,8,9])\n",
        "d = np.array_split(c,5)"
      ],
      "metadata": {
        "id": "GwbtLHYUmOl7"
      },
      "execution_count": null,
      "outputs": []
    },
    {
      "cell_type": "code",
      "source": [
        "print(d[1])"
      ],
      "metadata": {
        "colab": {
          "base_uri": "https://localhost:8080/"
        },
        "id": "WUzj817ImxIH",
        "outputId": "7b3013c3-57f2-460d-e78a-ecd419b7b29e"
      },
      "execution_count": null,
      "outputs": [
        {
          "output_type": "stream",
          "name": "stdout",
          "text": [
            "[3 4]\n"
          ]
        }
      ]
    },
    {
      "cell_type": "code",
      "source": [
        "a = np.array([1,2,3,4,5])\n",
        "np.append(a,6)"
      ],
      "metadata": {
        "colab": {
          "base_uri": "https://localhost:8080/"
        },
        "id": "sOhctLyVm8uU",
        "outputId": "e5096786-bcc9-46fd-e938-9986ce1afdbc"
      },
      "execution_count": null,
      "outputs": [
        {
          "output_type": "execute_result",
          "data": {
            "text/plain": [
              "array([1, 2, 3, 4, 5, 6])"
            ]
          },
          "metadata": {},
          "execution_count": 34
        }
      ]
    },
    {
      "cell_type": "code",
      "source": [
        "np.insert(a,1,8)"
      ],
      "metadata": {
        "colab": {
          "base_uri": "https://localhost:8080/"
        },
        "id": "gkFZhgGSnfbL",
        "outputId": "2df1a212-e5cf-467b-c56a-ff8563c0dae7"
      },
      "execution_count": null,
      "outputs": [
        {
          "output_type": "execute_result",
          "data": {
            "text/plain": [
              "array([1, 8, 2, 3, 4, 5])"
            ]
          },
          "metadata": {},
          "execution_count": 35
        }
      ]
    },
    {
      "cell_type": "code",
      "source": [
        "np.delete(a,[1])"
      ],
      "metadata": {
        "colab": {
          "base_uri": "https://localhost:8080/"
        },
        "id": "GjWsx3ftnqWp",
        "outputId": "14152cb9-7e34-4d44-e55d-f29f28662008"
      },
      "execution_count": null,
      "outputs": [
        {
          "output_type": "execute_result",
          "data": {
            "text/plain": [
              "array([1, 3, 4, 5])"
            ]
          },
          "metadata": {},
          "execution_count": 38
        }
      ]
    },
    {
      "cell_type": "code",
      "source": [
        "arr = np.array([1,2,3,4,5,6,7,8])\n",
        "print(arr)"
      ],
      "metadata": {
        "id": "W7yoQQ5QoJ5Z",
        "outputId": "35dbec5f-c87c-4715-a934-0d9900a71e57",
        "colab": {
          "base_uri": "https://localhost:8080/"
        }
      },
      "execution_count": null,
      "outputs": [
        {
          "output_type": "stream",
          "name": "stdout",
          "text": [
            "[1 2 3 4 5 6 7 8]\n"
          ]
        }
      ]
    },
    {
      "cell_type": "code",
      "source": [
        "type(arr)"
      ],
      "metadata": {
        "id": "78Tahns3oJ31",
        "outputId": "6f2b87bc-5e49-4e61-a346-5a964c2d572b",
        "colab": {
          "base_uri": "https://localhost:8080/"
        }
      },
      "execution_count": null,
      "outputs": [
        {
          "output_type": "execute_result",
          "data": {
            "text/plain": [
              "numpy.ndarray"
            ]
          },
          "metadata": {},
          "execution_count": 41
        }
      ]
    },
    {
      "cell_type": "code",
      "source": [
        "arr.dtype"
      ],
      "metadata": {
        "id": "jzvJ0RXboJ1I",
        "outputId": "4be1754b-af8f-4682-be93-be5f84a8858c",
        "colab": {
          "base_uri": "https://localhost:8080/"
        }
      },
      "execution_count": null,
      "outputs": [
        {
          "output_type": "execute_result",
          "data": {
            "text/plain": [
              "dtype('int64')"
            ]
          },
          "metadata": {},
          "execution_count": 42
        }
      ]
    },
    {
      "cell_type": "code",
      "source": [
        "arr.ndim"
      ],
      "metadata": {
        "id": "uUPbj5bToJx8",
        "outputId": "7222b5f6-c3d0-4aa4-ebe1-7fa73eaa8998",
        "colab": {
          "base_uri": "https://localhost:8080/"
        }
      },
      "execution_count": null,
      "outputs": [
        {
          "output_type": "execute_result",
          "data": {
            "text/plain": [
              "1"
            ]
          },
          "metadata": {},
          "execution_count": 43
        }
      ]
    },
    {
      "cell_type": "code",
      "source": [
        "len(arr)"
      ],
      "metadata": {
        "id": "LDf99yRXoJwF",
        "outputId": "3057468a-cb5a-4d7c-c136-7722214ffa3e",
        "colab": {
          "base_uri": "https://localhost:8080/"
        }
      },
      "execution_count": null,
      "outputs": [
        {
          "output_type": "execute_result",
          "data": {
            "text/plain": [
              "8"
            ]
          },
          "metadata": {},
          "execution_count": 44
        }
      ]
    },
    {
      "cell_type": "code",
      "source": [
        "arr.size"
      ],
      "metadata": {
        "id": "Sos873ZuokDO",
        "outputId": "6f946d4b-f2a9-465b-8663-ed73bb5b252a",
        "colab": {
          "base_uri": "https://localhost:8080/"
        }
      },
      "execution_count": null,
      "outputs": [
        {
          "output_type": "execute_result",
          "data": {
            "text/plain": [
              "8"
            ]
          },
          "metadata": {},
          "execution_count": 45
        }
      ]
    },
    {
      "cell_type": "code",
      "source": [
        "arr.shape"
      ],
      "metadata": {
        "id": "9HIY8f34oo5G",
        "outputId": "fc170f07-3f1e-4db6-82b6-24d95ec6c6b3",
        "colab": {
          "base_uri": "https://localhost:8080/"
        }
      },
      "execution_count": null,
      "outputs": [
        {
          "output_type": "execute_result",
          "data": {
            "text/plain": [
              "(8,)"
            ]
          },
          "metadata": {},
          "execution_count": 46
        }
      ]
    },
    {
      "cell_type": "code",
      "source": [
        "a = np.array([[1,2],[3,4]])\n",
        "a.shape"
      ],
      "metadata": {
        "id": "T174M5wmovMF",
        "outputId": "0f00df4d-be8b-4fe1-e015-c80a3050e345",
        "colab": {
          "base_uri": "https://localhost:8080/"
        }
      },
      "execution_count": null,
      "outputs": [
        {
          "output_type": "execute_result",
          "data": {
            "text/plain": [
              "(2, 2)"
            ]
          },
          "metadata": {},
          "execution_count": 47
        }
      ]
    },
    {
      "cell_type": "code",
      "source": [
        "arr = np.array([1,2,3,4,5,6])\n",
        "np.append(arr,2)"
      ],
      "metadata": {
        "id": "pi3IeVytos5a",
        "outputId": "08673b0f-a412-4f0c-b419-17a13c6defa9",
        "colab": {
          "base_uri": "https://localhost:8080/"
        }
      },
      "execution_count": null,
      "outputs": [
        {
          "output_type": "execute_result",
          "data": {
            "text/plain": [
              "array([1, 2, 3, 4, 5, 6, 2])"
            ]
          },
          "metadata": {},
          "execution_count": 48
        }
      ]
    },
    {
      "cell_type": "code",
      "source": [
        "np.insert(arr,1,9)"
      ],
      "metadata": {
        "id": "pMr2cRVEpH_5",
        "outputId": "a5dcf0bd-baba-4580-a689-fe2bb9e8747f",
        "colab": {
          "base_uri": "https://localhost:8080/"
        }
      },
      "execution_count": null,
      "outputs": [
        {
          "output_type": "execute_result",
          "data": {
            "text/plain": [
              "array([1, 9, 2, 3, 4, 5, 6])"
            ]
          },
          "metadata": {},
          "execution_count": 49
        }
      ]
    },
    {
      "cell_type": "code",
      "source": [
        "np.delete(arr,[1])"
      ],
      "metadata": {
        "id": "81O6wIFppM1N",
        "outputId": "31f1557b-ad0e-4b84-a318-ad6a465211e1",
        "colab": {
          "base_uri": "https://localhost:8080/"
        }
      },
      "execution_count": null,
      "outputs": [
        {
          "output_type": "execute_result",
          "data": {
            "text/plain": [
              "array([1, 3, 4, 5, 6])"
            ]
          },
          "metadata": {},
          "execution_count": 50
        }
      ]
    },
    {
      "cell_type": "code",
      "source": [
        "print(arr.size)\n",
        "print(arr.dtype)\n",
        "print(arr.ndim)\n",
        "print(arr.astype(int))\n",
        "print(len(arr))"
      ],
      "metadata": {
        "id": "AYpfEMx2pW6F",
        "outputId": "f4934676-6be4-4bb0-838d-cae5096a7fc4",
        "colab": {
          "base_uri": "https://localhost:8080/"
        }
      },
      "execution_count": null,
      "outputs": [
        {
          "output_type": "stream",
          "name": "stdout",
          "text": [
            "6\n",
            "int64\n",
            "1\n",
            "[1 2 3 4 5 6]\n",
            "6\n"
          ]
        }
      ]
    },
    {
      "cell_type": "code",
      "source": [
        "hel = np.array([23,4,53,2,5,3,6,72])\n",
        "print(np.sort(hel))"
      ],
      "metadata": {
        "id": "deBbk_UJpmyd",
        "outputId": "f23cbb7a-a527-489b-8274-f0c88d58959b",
        "colab": {
          "base_uri": "https://localhost:8080/"
        }
      },
      "execution_count": null,
      "outputs": [
        {
          "output_type": "stream",
          "name": "stdout",
          "text": [
            "[ 2  3  4  5  6 23 53 72]\n"
          ]
        }
      ]
    },
    {
      "cell_type": "code",
      "source": [
        "a = np.array([1,2,3,4])\n",
        "np.where(a==2)"
      ],
      "metadata": {
        "id": "EBTLZzgIp1nH",
        "outputId": "a21866f5-2910-4170-93c8-b359f1884db7",
        "colab": {
          "base_uri": "https://localhost:8080/"
        }
      },
      "execution_count": null,
      "outputs": [
        {
          "output_type": "execute_result",
          "data": {
            "text/plain": [
              "(array([1]),)"
            ]
          },
          "metadata": {},
          "execution_count": 56
        }
      ]
    },
    {
      "cell_type": "code",
      "source": [
        "np.where(arr==4)"
      ],
      "metadata": {
        "id": "39JjfohOqVli",
        "outputId": "09eed4af-0615-4be0-edcb-2e496bba5bf3",
        "colab": {
          "base_uri": "https://localhost:8080/"
        }
      },
      "execution_count": null,
      "outputs": [
        {
          "output_type": "execute_result",
          "data": {
            "text/plain": [
              "(array([3]),)"
            ]
          },
          "metadata": {},
          "execution_count": 57
        }
      ]
    },
    {
      "cell_type": "code",
      "source": [
        "#filtering the array manually\n",
        "arry = np.array([1,2,3,4])\n",
        "fa = [True,False,True,False]\n",
        "new = arry[fa]\n",
        "print(new)"
      ],
      "metadata": {
        "id": "l50LX0iTq2MT",
        "outputId": "4fa022da-0c55-4365-dea6-e5cf6d784a13",
        "colab": {
          "base_uri": "https://localhost:8080/"
        }
      },
      "execution_count": null,
      "outputs": [
        {
          "output_type": "stream",
          "name": "stdout",
          "text": [
            "[1 3]\n"
          ]
        }
      ]
    },
    {
      "cell_type": "code",
      "source": [
        "elem = np.array([1,2,3,4,5,6])\n",
        "s = np.where(elem%2==0)\n",
        "print(s)"
      ],
      "metadata": {
        "id": "FvenclE0rRxu",
        "outputId": "11f036bb-5070-4072-a209-fb492c7511cc",
        "colab": {
          "base_uri": "https://localhost:8080/"
        }
      },
      "execution_count": null,
      "outputs": [
        {
          "output_type": "stream",
          "name": "stdout",
          "text": [
            "(array([1, 3, 5]),)\n"
          ]
        }
      ]
    },
    {
      "cell_type": "code",
      "source": [
        "#Creating a dictionary.\n",
        "#Dictionary allows the user to write the data in the form of key and its values.\n",
        "#The keys and values are separated by semicolon.\n",
        "#We are using a curly brackets to create a dictionary.\n",
        "\n",
        "employee = {\"Name\": \"John\", \"Age\": 34, \"Gender\": \"Male\"}\n",
        "print(employee)"
      ],
      "metadata": {
        "id": "tgsg4U9FrxbF",
        "outputId": "626c0076-9e14-42cb-8c87-daefd689e06e",
        "colab": {
          "base_uri": "https://localhost:8080/"
        }
      },
      "execution_count": null,
      "outputs": [
        {
          "output_type": "stream",
          "name": "stdout",
          "text": [
            "{'Name': 'John', 'Age': 34, 'Gender': 'Male'}\n"
          ]
        }
      ]
    },
    {
      "cell_type": "code",
      "source": [
        "print(employee[\"Name\"])\n",
        "print(employee[\"Age\"])\n",
        "print(employee[\"Gender\"])"
      ],
      "metadata": {
        "id": "9B-V9FuUklWM",
        "outputId": "404b002c-e5ed-4539-92b4-2c5ed4751df0",
        "colab": {
          "base_uri": "https://localhost:8080/"
        }
      },
      "execution_count": null,
      "outputs": [
        {
          "output_type": "stream",
          "name": "stdout",
          "text": [
            "John\n",
            "34\n",
            "Male\n"
          ]
        }
      ]
    },
    {
      "cell_type": "code",
      "source": [
        "import pandas as pd"
      ],
      "metadata": {
        "id": "ESzdubguk-wT"
      },
      "execution_count": null,
      "outputs": []
    },
    {
      "cell_type": "code",
      "source": [
        "employee = {\"Name\": [\"John\"], \"Age\": [34], \"Gender\": [\"Male\"]}\n",
        "df = pd.DataFrame(employee)\n",
        "df"
      ],
      "metadata": {
        "id": "XLgTiHqslZXh",
        "outputId": "1e1a992d-6a52-4de4-b375-ca92d1f6a90a",
        "colab": {
          "base_uri": "https://localhost:8080/",
          "height": 89
        }
      },
      "execution_count": null,
      "outputs": [
        {
          "output_type": "execute_result",
          "data": {
            "text/plain": [
              "   Name  Age Gender\n",
              "0  John   34   Male"
            ],
            "text/html": [
              "\n",
              "  <div id=\"df-1675579d-908c-4369-85bc-18046501bc7b\" class=\"colab-df-container\">\n",
              "    <div>\n",
              "<style scoped>\n",
              "    .dataframe tbody tr th:only-of-type {\n",
              "        vertical-align: middle;\n",
              "    }\n",
              "\n",
              "    .dataframe tbody tr th {\n",
              "        vertical-align: top;\n",
              "    }\n",
              "\n",
              "    .dataframe thead th {\n",
              "        text-align: right;\n",
              "    }\n",
              "</style>\n",
              "<table border=\"1\" class=\"dataframe\">\n",
              "  <thead>\n",
              "    <tr style=\"text-align: right;\">\n",
              "      <th></th>\n",
              "      <th>Name</th>\n",
              "      <th>Age</th>\n",
              "      <th>Gender</th>\n",
              "    </tr>\n",
              "  </thead>\n",
              "  <tbody>\n",
              "    <tr>\n",
              "      <th>0</th>\n",
              "      <td>John</td>\n",
              "      <td>34</td>\n",
              "      <td>Male</td>\n",
              "    </tr>\n",
              "  </tbody>\n",
              "</table>\n",
              "</div>\n",
              "    <div class=\"colab-df-buttons\">\n",
              "\n",
              "  <div class=\"colab-df-container\">\n",
              "    <button class=\"colab-df-convert\" onclick=\"convertToInteractive('df-1675579d-908c-4369-85bc-18046501bc7b')\"\n",
              "            title=\"Convert this dataframe to an interactive table.\"\n",
              "            style=\"display:none;\">\n",
              "\n",
              "  <svg xmlns=\"http://www.w3.org/2000/svg\" height=\"24px\" viewBox=\"0 -960 960 960\">\n",
              "    <path d=\"M120-120v-720h720v720H120Zm60-500h600v-160H180v160Zm220 220h160v-160H400v160Zm0 220h160v-160H400v160ZM180-400h160v-160H180v160Zm440 0h160v-160H620v160ZM180-180h160v-160H180v160Zm440 0h160v-160H620v160Z\"/>\n",
              "  </svg>\n",
              "    </button>\n",
              "\n",
              "  <style>\n",
              "    .colab-df-container {\n",
              "      display:flex;\n",
              "      gap: 12px;\n",
              "    }\n",
              "\n",
              "    .colab-df-convert {\n",
              "      background-color: #E8F0FE;\n",
              "      border: none;\n",
              "      border-radius: 50%;\n",
              "      cursor: pointer;\n",
              "      display: none;\n",
              "      fill: #1967D2;\n",
              "      height: 32px;\n",
              "      padding: 0 0 0 0;\n",
              "      width: 32px;\n",
              "    }\n",
              "\n",
              "    .colab-df-convert:hover {\n",
              "      background-color: #E2EBFA;\n",
              "      box-shadow: 0px 1px 2px rgba(60, 64, 67, 0.3), 0px 1px 3px 1px rgba(60, 64, 67, 0.15);\n",
              "      fill: #174EA6;\n",
              "    }\n",
              "\n",
              "    .colab-df-buttons div {\n",
              "      margin-bottom: 4px;\n",
              "    }\n",
              "\n",
              "    [theme=dark] .colab-df-convert {\n",
              "      background-color: #3B4455;\n",
              "      fill: #D2E3FC;\n",
              "    }\n",
              "\n",
              "    [theme=dark] .colab-df-convert:hover {\n",
              "      background-color: #434B5C;\n",
              "      box-shadow: 0px 1px 3px 1px rgba(0, 0, 0, 0.15);\n",
              "      filter: drop-shadow(0px 1px 2px rgba(0, 0, 0, 0.3));\n",
              "      fill: #FFFFFF;\n",
              "    }\n",
              "  </style>\n",
              "\n",
              "    <script>\n",
              "      const buttonEl =\n",
              "        document.querySelector('#df-1675579d-908c-4369-85bc-18046501bc7b button.colab-df-convert');\n",
              "      buttonEl.style.display =\n",
              "        google.colab.kernel.accessAllowed ? 'block' : 'none';\n",
              "\n",
              "      async function convertToInteractive(key) {\n",
              "        const element = document.querySelector('#df-1675579d-908c-4369-85bc-18046501bc7b');\n",
              "        const dataTable =\n",
              "          await google.colab.kernel.invokeFunction('convertToInteractive',\n",
              "                                                    [key], {});\n",
              "        if (!dataTable) return;\n",
              "\n",
              "        const docLinkHtml = 'Like what you see? Visit the ' +\n",
              "          '<a target=\"_blank\" href=https://colab.research.google.com/notebooks/data_table.ipynb>data table notebook</a>'\n",
              "          + ' to learn more about interactive tables.';\n",
              "        element.innerHTML = '';\n",
              "        dataTable['output_type'] = 'display_data';\n",
              "        await google.colab.output.renderOutput(dataTable, element);\n",
              "        const docLink = document.createElement('div');\n",
              "        docLink.innerHTML = docLinkHtml;\n",
              "        element.appendChild(docLink);\n",
              "      }\n",
              "    </script>\n",
              "  </div>\n",
              "\n",
              "\n",
              "  <div id=\"id_98f8b192-0231-4e06-b949-f30bbdc5b132\">\n",
              "    <style>\n",
              "      .colab-df-generate {\n",
              "        background-color: #E8F0FE;\n",
              "        border: none;\n",
              "        border-radius: 50%;\n",
              "        cursor: pointer;\n",
              "        display: none;\n",
              "        fill: #1967D2;\n",
              "        height: 32px;\n",
              "        padding: 0 0 0 0;\n",
              "        width: 32px;\n",
              "      }\n",
              "\n",
              "      .colab-df-generate:hover {\n",
              "        background-color: #E2EBFA;\n",
              "        box-shadow: 0px 1px 2px rgba(60, 64, 67, 0.3), 0px 1px 3px 1px rgba(60, 64, 67, 0.15);\n",
              "        fill: #174EA6;\n",
              "      }\n",
              "\n",
              "      [theme=dark] .colab-df-generate {\n",
              "        background-color: #3B4455;\n",
              "        fill: #D2E3FC;\n",
              "      }\n",
              "\n",
              "      [theme=dark] .colab-df-generate:hover {\n",
              "        background-color: #434B5C;\n",
              "        box-shadow: 0px 1px 3px 1px rgba(0, 0, 0, 0.15);\n",
              "        filter: drop-shadow(0px 1px 2px rgba(0, 0, 0, 0.3));\n",
              "        fill: #FFFFFF;\n",
              "      }\n",
              "    </style>\n",
              "    <button class=\"colab-df-generate\" onclick=\"generateWithVariable('df')\"\n",
              "            title=\"Generate code using this dataframe.\"\n",
              "            style=\"display:none;\">\n",
              "\n",
              "  <svg xmlns=\"http://www.w3.org/2000/svg\" height=\"24px\"viewBox=\"0 0 24 24\"\n",
              "       width=\"24px\">\n",
              "    <path d=\"M7,19H8.4L18.45,9,17,7.55,7,17.6ZM5,21V16.75L18.45,3.32a2,2,0,0,1,2.83,0l1.4,1.43a1.91,1.91,0,0,1,.58,1.4,1.91,1.91,0,0,1-.58,1.4L9.25,21ZM18.45,9,17,7.55Zm-12,3A5.31,5.31,0,0,0,4.9,8.1,5.31,5.31,0,0,0,1,6.5,5.31,5.31,0,0,0,4.9,4.9,5.31,5.31,0,0,0,6.5,1,5.31,5.31,0,0,0,8.1,4.9,5.31,5.31,0,0,0,12,6.5,5.46,5.46,0,0,0,6.5,12Z\"/>\n",
              "  </svg>\n",
              "    </button>\n",
              "    <script>\n",
              "      (() => {\n",
              "      const buttonEl =\n",
              "        document.querySelector('#id_98f8b192-0231-4e06-b949-f30bbdc5b132 button.colab-df-generate');\n",
              "      buttonEl.style.display =\n",
              "        google.colab.kernel.accessAllowed ? 'block' : 'none';\n",
              "\n",
              "      buttonEl.onclick = () => {\n",
              "        google.colab.notebook.generateWithVariable('df');\n",
              "      }\n",
              "      })();\n",
              "    </script>\n",
              "  </div>\n",
              "\n",
              "    </div>\n",
              "  </div>\n"
            ],
            "application/vnd.google.colaboratory.intrinsic+json": {
              "type": "dataframe",
              "variable_name": "df",
              "summary": "{\n  \"name\": \"df\",\n  \"rows\": 1,\n  \"fields\": [\n    {\n      \"column\": \"Name\",\n      \"properties\": {\n        \"dtype\": \"string\",\n        \"num_unique_values\": 1,\n        \"samples\": [\n          \"John\"\n        ],\n        \"semantic_type\": \"\",\n        \"description\": \"\"\n      }\n    },\n    {\n      \"column\": \"Age\",\n      \"properties\": {\n        \"dtype\": \"number\",\n        \"std\": null,\n        \"min\": 34,\n        \"max\": 34,\n        \"num_unique_values\": 1,\n        \"samples\": [\n          34\n        ],\n        \"semantic_type\": \"\",\n        \"description\": \"\"\n      }\n    },\n    {\n      \"column\": \"Gender\",\n      \"properties\": {\n        \"dtype\": \"string\",\n        \"num_unique_values\": 1,\n        \"samples\": [\n          \"Male\"\n        ],\n        \"semantic_type\": \"\",\n        \"description\": \"\"\n      }\n    }\n  ]\n}"
            }
          },
          "metadata": {},
          "execution_count": 15
        }
      ]
    },
    {
      "cell_type": "code",
      "source": [
        "employee = {\"name\": [\"john\", \"robin\", \"kailash\"],\n",
        "            \"age\": [23, 45, 56],\n",
        "            \"Gender\": [\"Male\", \"Male\", \"Male\"]}\n",
        "df = pd.DataFrame(employee)\n",
        "df"
      ],
      "metadata": {
        "id": "NBPW2fWlllTL",
        "outputId": "f9f34e94-c32e-418f-924b-dfcf9310b332",
        "colab": {
          "base_uri": "https://localhost:8080/",
          "height": 143
        }
      },
      "execution_count": null,
      "outputs": [
        {
          "output_type": "execute_result",
          "data": {
            "text/plain": [
              "      name  age Gender\n",
              "0     john   23   Male\n",
              "1    robin   45   Male\n",
              "2  kailash   56   Male"
            ],
            "text/html": [
              "\n",
              "  <div id=\"df-aca30640-eeda-4728-bf0c-652c4e6d9335\" class=\"colab-df-container\">\n",
              "    <div>\n",
              "<style scoped>\n",
              "    .dataframe tbody tr th:only-of-type {\n",
              "        vertical-align: middle;\n",
              "    }\n",
              "\n",
              "    .dataframe tbody tr th {\n",
              "        vertical-align: top;\n",
              "    }\n",
              "\n",
              "    .dataframe thead th {\n",
              "        text-align: right;\n",
              "    }\n",
              "</style>\n",
              "<table border=\"1\" class=\"dataframe\">\n",
              "  <thead>\n",
              "    <tr style=\"text-align: right;\">\n",
              "      <th></th>\n",
              "      <th>name</th>\n",
              "      <th>age</th>\n",
              "      <th>Gender</th>\n",
              "    </tr>\n",
              "  </thead>\n",
              "  <tbody>\n",
              "    <tr>\n",
              "      <th>0</th>\n",
              "      <td>john</td>\n",
              "      <td>23</td>\n",
              "      <td>Male</td>\n",
              "    </tr>\n",
              "    <tr>\n",
              "      <th>1</th>\n",
              "      <td>robin</td>\n",
              "      <td>45</td>\n",
              "      <td>Male</td>\n",
              "    </tr>\n",
              "    <tr>\n",
              "      <th>2</th>\n",
              "      <td>kailash</td>\n",
              "      <td>56</td>\n",
              "      <td>Male</td>\n",
              "    </tr>\n",
              "  </tbody>\n",
              "</table>\n",
              "</div>\n",
              "    <div class=\"colab-df-buttons\">\n",
              "\n",
              "  <div class=\"colab-df-container\">\n",
              "    <button class=\"colab-df-convert\" onclick=\"convertToInteractive('df-aca30640-eeda-4728-bf0c-652c4e6d9335')\"\n",
              "            title=\"Convert this dataframe to an interactive table.\"\n",
              "            style=\"display:none;\">\n",
              "\n",
              "  <svg xmlns=\"http://www.w3.org/2000/svg\" height=\"24px\" viewBox=\"0 -960 960 960\">\n",
              "    <path d=\"M120-120v-720h720v720H120Zm60-500h600v-160H180v160Zm220 220h160v-160H400v160Zm0 220h160v-160H400v160ZM180-400h160v-160H180v160Zm440 0h160v-160H620v160ZM180-180h160v-160H180v160Zm440 0h160v-160H620v160Z\"/>\n",
              "  </svg>\n",
              "    </button>\n",
              "\n",
              "  <style>\n",
              "    .colab-df-container {\n",
              "      display:flex;\n",
              "      gap: 12px;\n",
              "    }\n",
              "\n",
              "    .colab-df-convert {\n",
              "      background-color: #E8F0FE;\n",
              "      border: none;\n",
              "      border-radius: 50%;\n",
              "      cursor: pointer;\n",
              "      display: none;\n",
              "      fill: #1967D2;\n",
              "      height: 32px;\n",
              "      padding: 0 0 0 0;\n",
              "      width: 32px;\n",
              "    }\n",
              "\n",
              "    .colab-df-convert:hover {\n",
              "      background-color: #E2EBFA;\n",
              "      box-shadow: 0px 1px 2px rgba(60, 64, 67, 0.3), 0px 1px 3px 1px rgba(60, 64, 67, 0.15);\n",
              "      fill: #174EA6;\n",
              "    }\n",
              "\n",
              "    .colab-df-buttons div {\n",
              "      margin-bottom: 4px;\n",
              "    }\n",
              "\n",
              "    [theme=dark] .colab-df-convert {\n",
              "      background-color: #3B4455;\n",
              "      fill: #D2E3FC;\n",
              "    }\n",
              "\n",
              "    [theme=dark] .colab-df-convert:hover {\n",
              "      background-color: #434B5C;\n",
              "      box-shadow: 0px 1px 3px 1px rgba(0, 0, 0, 0.15);\n",
              "      filter: drop-shadow(0px 1px 2px rgba(0, 0, 0, 0.3));\n",
              "      fill: #FFFFFF;\n",
              "    }\n",
              "  </style>\n",
              "\n",
              "    <script>\n",
              "      const buttonEl =\n",
              "        document.querySelector('#df-aca30640-eeda-4728-bf0c-652c4e6d9335 button.colab-df-convert');\n",
              "      buttonEl.style.display =\n",
              "        google.colab.kernel.accessAllowed ? 'block' : 'none';\n",
              "\n",
              "      async function convertToInteractive(key) {\n",
              "        const element = document.querySelector('#df-aca30640-eeda-4728-bf0c-652c4e6d9335');\n",
              "        const dataTable =\n",
              "          await google.colab.kernel.invokeFunction('convertToInteractive',\n",
              "                                                    [key], {});\n",
              "        if (!dataTable) return;\n",
              "\n",
              "        const docLinkHtml = 'Like what you see? Visit the ' +\n",
              "          '<a target=\"_blank\" href=https://colab.research.google.com/notebooks/data_table.ipynb>data table notebook</a>'\n",
              "          + ' to learn more about interactive tables.';\n",
              "        element.innerHTML = '';\n",
              "        dataTable['output_type'] = 'display_data';\n",
              "        await google.colab.output.renderOutput(dataTable, element);\n",
              "        const docLink = document.createElement('div');\n",
              "        docLink.innerHTML = docLinkHtml;\n",
              "        element.appendChild(docLink);\n",
              "      }\n",
              "    </script>\n",
              "  </div>\n",
              "\n",
              "\n",
              "<div id=\"df-9792a462-350e-4412-bfbf-82dbb1dfda7d\">\n",
              "  <button class=\"colab-df-quickchart\" onclick=\"quickchart('df-9792a462-350e-4412-bfbf-82dbb1dfda7d')\"\n",
              "            title=\"Suggest charts\"\n",
              "            style=\"display:none;\">\n",
              "\n",
              "<svg xmlns=\"http://www.w3.org/2000/svg\" height=\"24px\"viewBox=\"0 0 24 24\"\n",
              "     width=\"24px\">\n",
              "    <g>\n",
              "        <path d=\"M19 3H5c-1.1 0-2 .9-2 2v14c0 1.1.9 2 2 2h14c1.1 0 2-.9 2-2V5c0-1.1-.9-2-2-2zM9 17H7v-7h2v7zm4 0h-2V7h2v10zm4 0h-2v-4h2v4z\"/>\n",
              "    </g>\n",
              "</svg>\n",
              "  </button>\n",
              "\n",
              "<style>\n",
              "  .colab-df-quickchart {\n",
              "      --bg-color: #E8F0FE;\n",
              "      --fill-color: #1967D2;\n",
              "      --hover-bg-color: #E2EBFA;\n",
              "      --hover-fill-color: #174EA6;\n",
              "      --disabled-fill-color: #AAA;\n",
              "      --disabled-bg-color: #DDD;\n",
              "  }\n",
              "\n",
              "  [theme=dark] .colab-df-quickchart {\n",
              "      --bg-color: #3B4455;\n",
              "      --fill-color: #D2E3FC;\n",
              "      --hover-bg-color: #434B5C;\n",
              "      --hover-fill-color: #FFFFFF;\n",
              "      --disabled-bg-color: #3B4455;\n",
              "      --disabled-fill-color: #666;\n",
              "  }\n",
              "\n",
              "  .colab-df-quickchart {\n",
              "    background-color: var(--bg-color);\n",
              "    border: none;\n",
              "    border-radius: 50%;\n",
              "    cursor: pointer;\n",
              "    display: none;\n",
              "    fill: var(--fill-color);\n",
              "    height: 32px;\n",
              "    padding: 0;\n",
              "    width: 32px;\n",
              "  }\n",
              "\n",
              "  .colab-df-quickchart:hover {\n",
              "    background-color: var(--hover-bg-color);\n",
              "    box-shadow: 0 1px 2px rgba(60, 64, 67, 0.3), 0 1px 3px 1px rgba(60, 64, 67, 0.15);\n",
              "    fill: var(--button-hover-fill-color);\n",
              "  }\n",
              "\n",
              "  .colab-df-quickchart-complete:disabled,\n",
              "  .colab-df-quickchart-complete:disabled:hover {\n",
              "    background-color: var(--disabled-bg-color);\n",
              "    fill: var(--disabled-fill-color);\n",
              "    box-shadow: none;\n",
              "  }\n",
              "\n",
              "  .colab-df-spinner {\n",
              "    border: 2px solid var(--fill-color);\n",
              "    border-color: transparent;\n",
              "    border-bottom-color: var(--fill-color);\n",
              "    animation:\n",
              "      spin 1s steps(1) infinite;\n",
              "  }\n",
              "\n",
              "  @keyframes spin {\n",
              "    0% {\n",
              "      border-color: transparent;\n",
              "      border-bottom-color: var(--fill-color);\n",
              "      border-left-color: var(--fill-color);\n",
              "    }\n",
              "    20% {\n",
              "      border-color: transparent;\n",
              "      border-left-color: var(--fill-color);\n",
              "      border-top-color: var(--fill-color);\n",
              "    }\n",
              "    30% {\n",
              "      border-color: transparent;\n",
              "      border-left-color: var(--fill-color);\n",
              "      border-top-color: var(--fill-color);\n",
              "      border-right-color: var(--fill-color);\n",
              "    }\n",
              "    40% {\n",
              "      border-color: transparent;\n",
              "      border-right-color: var(--fill-color);\n",
              "      border-top-color: var(--fill-color);\n",
              "    }\n",
              "    60% {\n",
              "      border-color: transparent;\n",
              "      border-right-color: var(--fill-color);\n",
              "    }\n",
              "    80% {\n",
              "      border-color: transparent;\n",
              "      border-right-color: var(--fill-color);\n",
              "      border-bottom-color: var(--fill-color);\n",
              "    }\n",
              "    90% {\n",
              "      border-color: transparent;\n",
              "      border-bottom-color: var(--fill-color);\n",
              "    }\n",
              "  }\n",
              "</style>\n",
              "\n",
              "  <script>\n",
              "    async function quickchart(key) {\n",
              "      const quickchartButtonEl =\n",
              "        document.querySelector('#' + key + ' button');\n",
              "      quickchartButtonEl.disabled = true;  // To prevent multiple clicks.\n",
              "      quickchartButtonEl.classList.add('colab-df-spinner');\n",
              "      try {\n",
              "        const charts = await google.colab.kernel.invokeFunction(\n",
              "            'suggestCharts', [key], {});\n",
              "      } catch (error) {\n",
              "        console.error('Error during call to suggestCharts:', error);\n",
              "      }\n",
              "      quickchartButtonEl.classList.remove('colab-df-spinner');\n",
              "      quickchartButtonEl.classList.add('colab-df-quickchart-complete');\n",
              "    }\n",
              "    (() => {\n",
              "      let quickchartButtonEl =\n",
              "        document.querySelector('#df-9792a462-350e-4412-bfbf-82dbb1dfda7d button');\n",
              "      quickchartButtonEl.style.display =\n",
              "        google.colab.kernel.accessAllowed ? 'block' : 'none';\n",
              "    })();\n",
              "  </script>\n",
              "</div>\n",
              "\n",
              "  <div id=\"id_2bb7d2a1-2f72-4523-a6c4-e32183929161\">\n",
              "    <style>\n",
              "      .colab-df-generate {\n",
              "        background-color: #E8F0FE;\n",
              "        border: none;\n",
              "        border-radius: 50%;\n",
              "        cursor: pointer;\n",
              "        display: none;\n",
              "        fill: #1967D2;\n",
              "        height: 32px;\n",
              "        padding: 0 0 0 0;\n",
              "        width: 32px;\n",
              "      }\n",
              "\n",
              "      .colab-df-generate:hover {\n",
              "        background-color: #E2EBFA;\n",
              "        box-shadow: 0px 1px 2px rgba(60, 64, 67, 0.3), 0px 1px 3px 1px rgba(60, 64, 67, 0.15);\n",
              "        fill: #174EA6;\n",
              "      }\n",
              "\n",
              "      [theme=dark] .colab-df-generate {\n",
              "        background-color: #3B4455;\n",
              "        fill: #D2E3FC;\n",
              "      }\n",
              "\n",
              "      [theme=dark] .colab-df-generate:hover {\n",
              "        background-color: #434B5C;\n",
              "        box-shadow: 0px 1px 3px 1px rgba(0, 0, 0, 0.15);\n",
              "        filter: drop-shadow(0px 1px 2px rgba(0, 0, 0, 0.3));\n",
              "        fill: #FFFFFF;\n",
              "      }\n",
              "    </style>\n",
              "    <button class=\"colab-df-generate\" onclick=\"generateWithVariable('df')\"\n",
              "            title=\"Generate code using this dataframe.\"\n",
              "            style=\"display:none;\">\n",
              "\n",
              "  <svg xmlns=\"http://www.w3.org/2000/svg\" height=\"24px\"viewBox=\"0 0 24 24\"\n",
              "       width=\"24px\">\n",
              "    <path d=\"M7,19H8.4L18.45,9,17,7.55,7,17.6ZM5,21V16.75L18.45,3.32a2,2,0,0,1,2.83,0l1.4,1.43a1.91,1.91,0,0,1,.58,1.4,1.91,1.91,0,0,1-.58,1.4L9.25,21ZM18.45,9,17,7.55Zm-12,3A5.31,5.31,0,0,0,4.9,8.1,5.31,5.31,0,0,0,1,6.5,5.31,5.31,0,0,0,4.9,4.9,5.31,5.31,0,0,0,6.5,1,5.31,5.31,0,0,0,8.1,4.9,5.31,5.31,0,0,0,12,6.5,5.46,5.46,0,0,0,6.5,12Z\"/>\n",
              "  </svg>\n",
              "    </button>\n",
              "    <script>\n",
              "      (() => {\n",
              "      const buttonEl =\n",
              "        document.querySelector('#id_2bb7d2a1-2f72-4523-a6c4-e32183929161 button.colab-df-generate');\n",
              "      buttonEl.style.display =\n",
              "        google.colab.kernel.accessAllowed ? 'block' : 'none';\n",
              "\n",
              "      buttonEl.onclick = () => {\n",
              "        google.colab.notebook.generateWithVariable('df');\n",
              "      }\n",
              "      })();\n",
              "    </script>\n",
              "  </div>\n",
              "\n",
              "    </div>\n",
              "  </div>\n"
            ],
            "application/vnd.google.colaboratory.intrinsic+json": {
              "type": "dataframe",
              "variable_name": "df",
              "summary": "{\n  \"name\": \"df\",\n  \"rows\": 3,\n  \"fields\": [\n    {\n      \"column\": \"name\",\n      \"properties\": {\n        \"dtype\": \"string\",\n        \"num_unique_values\": 3,\n        \"samples\": [\n          \"john\",\n          \"robin\",\n          \"kailash\"\n        ],\n        \"semantic_type\": \"\",\n        \"description\": \"\"\n      }\n    },\n    {\n      \"column\": \"age\",\n      \"properties\": {\n        \"dtype\": \"number\",\n        \"std\": 16,\n        \"min\": 23,\n        \"max\": 56,\n        \"num_unique_values\": 3,\n        \"samples\": [\n          23,\n          45,\n          56\n        ],\n        \"semantic_type\": \"\",\n        \"description\": \"\"\n      }\n    },\n    {\n      \"column\": \"Gender\",\n      \"properties\": {\n        \"dtype\": \"category\",\n        \"num_unique_values\": 1,\n        \"samples\": [\n          \"Male\"\n        ],\n        \"semantic_type\": \"\",\n        \"description\": \"\"\n      }\n    }\n  ]\n}"
            }
          },
          "metadata": {},
          "execution_count": 18
        }
      ]
    },
    {
      "cell_type": "code",
      "source": [
        "for i in employee:\n",
        "  print(i)"
      ],
      "metadata": {
        "id": "BVxjoH-TnLuI",
        "outputId": "4388fd0f-1114-440b-fefb-1b28546695cd",
        "colab": {
          "base_uri": "https://localhost:8080/"
        }
      },
      "execution_count": null,
      "outputs": [
        {
          "output_type": "stream",
          "name": "stdout",
          "text": [
            "name\n",
            "age\n",
            "Gender\n"
          ]
        }
      ]
    },
    {
      "cell_type": "code",
      "source": [
        "for i in employee:\n",
        "  print(employee[i])"
      ],
      "metadata": {
        "id": "gYWNulVpnQcx",
        "outputId": "4cc90c65-6222-45c7-a6e1-0411a6df2937",
        "colab": {
          "base_uri": "https://localhost:8080/"
        }
      },
      "execution_count": null,
      "outputs": [
        {
          "output_type": "stream",
          "name": "stdout",
          "text": [
            "['john', 'robin', 'kailash']\n",
            "[23, 45, 56]\n",
            "['Male', 'Male', 'Male']\n"
          ]
        }
      ]
    },
    {
      "cell_type": "code",
      "source": [
        "print(employee.items())"
      ],
      "metadata": {
        "id": "bKmkb-mPnhre",
        "outputId": "13959418-6d80-44d3-9f6d-6b45b38d0599",
        "colab": {
          "base_uri": "https://localhost:8080/"
        }
      },
      "execution_count": null,
      "outputs": [
        {
          "output_type": "stream",
          "name": "stdout",
          "text": [
            "dict_items([('name', ['john', 'robin', 'kailash']), ('age', [23, 45, 56]), ('Gender', ['Male', 'Male', 'Male'])])\n"
          ]
        }
      ]
    },
    {
      "cell_type": "code",
      "source": [
        "print(employee[\"name\"])"
      ],
      "metadata": {
        "id": "vNPgnlsXoZoj",
        "outputId": "1cf99e56-81d3-4bb2-b633-385424c7376f",
        "colab": {
          "base_uri": "https://localhost:8080/"
        }
      },
      "execution_count": null,
      "outputs": [
        {
          "output_type": "stream",
          "name": "stdout",
          "text": [
            "['john', 'robin', 'kailash']\n"
          ]
        }
      ]
    },
    {
      "cell_type": "code",
      "source": [
        "for x,y in employee.items():\n",
        "  print(x,y)"
      ],
      "metadata": {
        "id": "ylTVLkrCogZV",
        "outputId": "a2957001-7ff9-4dab-be79-1e44485a3fd0",
        "colab": {
          "base_uri": "https://localhost:8080/"
        }
      },
      "execution_count": null,
      "outputs": [
        {
          "output_type": "stream",
          "name": "stdout",
          "text": [
            "name ['john', 'robin', 'kailash']\n",
            "age [23, 45, 56]\n",
            "Gender ['Male', 'Male', 'Male']\n"
          ]
        }
      ]
    },
    {
      "cell_type": "code",
      "source": [
        "for x in employee.values():\n",
        "  print(x)"
      ],
      "metadata": {
        "id": "8LFIyLDPolC3",
        "outputId": "9bb3a979-0d85-4aa0-bbc2-a904f6f47e21",
        "colab": {
          "base_uri": "https://localhost:8080/"
        }
      },
      "execution_count": null,
      "outputs": [
        {
          "output_type": "stream",
          "name": "stdout",
          "text": [
            "['john', 'robin', 'kailash']\n",
            "[23, 45, 56]\n",
            "['Male', 'Male', 'Male']\n"
          ]
        }
      ]
    },
    {
      "cell_type": "code",
      "source": [
        "for x in employee.keys():\n",
        "  print(x)"
      ],
      "metadata": {
        "id": "CLSEt7IEoyv2",
        "outputId": "7feb36d0-3eba-437c-d31e-ee66037b4098",
        "colab": {
          "base_uri": "https://localhost:8080/"
        }
      },
      "execution_count": null,
      "outputs": [
        {
          "output_type": "stream",
          "name": "stdout",
          "text": [
            "name\n",
            "age\n",
            "Gender\n"
          ]
        }
      ]
    },
    {
      "cell_type": "code",
      "source": [
        "for i in range(1,202):\n",
        "  if i%8==0 and i%12==0:\n",
        "    print(i)"
      ],
      "metadata": {
        "id": "GN9To5xCo3ji",
        "outputId": "e3efb595-5528-474a-88db-7fe42c05a78a",
        "colab": {
          "base_uri": "https://localhost:8080/"
        }
      },
      "execution_count": null,
      "outputs": [
        {
          "output_type": "stream",
          "name": "stdout",
          "text": [
            "24\n",
            "48\n",
            "72\n",
            "96\n",
            "120\n",
            "144\n",
            "168\n",
            "192\n"
          ]
        }
      ]
    },
    {
      "cell_type": "code",
      "source": [
        "def add(x,y):\n",
        "  print(x+y)\n",
        "\n",
        "add(2,3)"
      ],
      "metadata": {
        "id": "Vbdvr8-VpH27",
        "outputId": "55f4b366-6df1-481a-eaf5-49be5a50f2e2",
        "colab": {
          "base_uri": "https://localhost:8080/"
        }
      },
      "execution_count": null,
      "outputs": [
        {
          "output_type": "stream",
          "name": "stdout",
          "text": [
            "5\n"
          ]
        }
      ]
    },
    {
      "cell_type": "code",
      "source": [
        "def area_square(side):\n",
        "  print(side*side)\n",
        "\n",
        "area_square(4)"
      ],
      "metadata": {
        "id": "s9ScKFbPppXO",
        "outputId": "6cc4621e-57fe-4833-ef46-e3639257a42b",
        "colab": {
          "base_uri": "https://localhost:8080/"
        }
      },
      "execution_count": null,
      "outputs": [
        {
          "output_type": "stream",
          "name": "stdout",
          "text": [
            "16\n"
          ]
        }
      ]
    },
    {
      "cell_type": "code",
      "source": [
        "for i in range(1,3):\n",
        "  for j in range(1,5):\n",
        "    print(j)"
      ],
      "metadata": {
        "id": "lcp_p0YcqK7y",
        "outputId": "95268b28-7814-4835-ba7c-7f8365accbe7",
        "colab": {
          "base_uri": "https://localhost:8080/"
        }
      },
      "execution_count": null,
      "outputs": [
        {
          "output_type": "stream",
          "name": "stdout",
          "text": [
            "1\n",
            "2\n",
            "3\n",
            "4\n",
            "1\n",
            "2\n",
            "3\n",
            "4\n"
          ]
        }
      ]
    },
    {
      "cell_type": "code",
      "source": [
        "#Sets = sets are the collections of unique datas.\n"
      ],
      "metadata": {
        "id": "H4N36tqPqSM0"
      },
      "execution_count": null,
      "outputs": []
    },
    {
      "cell_type": "code",
      "source": [
        "num1 = int(input(\"Enter a number here: \"))\n",
        "num2 = int(input(\"Enter another number here: \"))\n",
        "print(num1+num2)"
      ],
      "metadata": {
        "id": "L_5PuVosq21C",
        "outputId": "131ad7b0-8eae-43a1-80b6-c58e8a58c63a",
        "colab": {
          "base_uri": "https://localhost:8080/"
        }
      },
      "execution_count": null,
      "outputs": [
        {
          "output_type": "stream",
          "name": "stdout",
          "text": [
            "Enter a number here: 8\n",
            "Enter another number here: 8\n",
            "16\n"
          ]
        }
      ]
    },
    {
      "cell_type": "code",
      "source": [
        "def add():\n",
        "  num1 = int(input('Enter a number here: '))\n",
        "  num2 = int(input('Enter another number here: '))\n",
        "  print(num1+num2)\n",
        "\n",
        "add()"
      ],
      "metadata": {
        "id": "QHPWzUdmrG3c",
        "outputId": "228b89dc-f47d-4e9f-964f-3588e4c6055d",
        "colab": {
          "base_uri": "https://localhost:8080/"
        }
      },
      "execution_count": null,
      "outputs": [
        {
          "output_type": "stream",
          "name": "stdout",
          "text": [
            "Enter a number here: 7\n",
            "Enter another number here: 7\n",
            "14\n"
          ]
        }
      ]
    },
    {
      "cell_type": "code",
      "source": [
        "a = 1.23\n",
        "b = int(a)\n",
        "b"
      ],
      "metadata": {
        "id": "AgZ-fQYmrpu4",
        "outputId": "361ad1e9-c0c8-46d6-d020-87776bf7c1ba",
        "colab": {
          "base_uri": "https://localhost:8080/"
        }
      },
      "execution_count": null,
      "outputs": [
        {
          "output_type": "execute_result",
          "data": {
            "text/plain": [
              "1"
            ]
          },
          "metadata": {},
          "execution_count": 46
        }
      ]
    },
    {
      "cell_type": "code",
      "source": [
        "type(b)"
      ],
      "metadata": {
        "id": "Yzrrky6QsNBa",
        "outputId": "65b2ad24-0c46-497a-a1c7-471e2db9fe9e",
        "colab": {
          "base_uri": "https://localhost:8080/"
        }
      },
      "execution_count": null,
      "outputs": [
        {
          "output_type": "execute_result",
          "data": {
            "text/plain": [
              "int"
            ]
          },
          "metadata": {},
          "execution_count": 47
        }
      ]
    },
    {
      "cell_type": "code",
      "source": [
        "name = input(\"Enter your name here: \")\n",
        "age = int(input(\"Enter your age here: \"))\n",
        "roll_no = int(input(\"Enter your roll number here: \"))\n",
        "gender = input(\"Enter your gender here: \")"
      ],
      "metadata": {
        "id": "3oUTnkRJsOhS",
        "outputId": "baf5dad6-aea0-4f66-d058-d46a15d04cc1",
        "colab": {
          "base_uri": "https://localhost:8080/"
        }
      },
      "execution_count": null,
      "outputs": [
        {
          "name": "stdout",
          "output_type": "stream",
          "text": [
            "Enter your name here: Jasleen\n",
            "Enter your age here: 23\n",
            "Enter your roll number here: 21\n",
            "Enter your gender here: Male\n"
          ]
        }
      ]
    },
    {
      "cell_type": "code",
      "source": [
        "#creating a nested dictionary.\n",
        "dict = {1: {\"Name\": \"John\", \"Age\": 23, \"Gender\": \"Male\"},\n",
        "        2: {\"Name\": \"Preeti\", \"Age\": 32, \"Gender\": \"Female\"}}\n",
        "print(dict)"
      ],
      "metadata": {
        "id": "F_ul5A3IsnwZ",
        "colab": {
          "base_uri": "https://localhost:8080/"
        },
        "outputId": "61f2670b-1998-4b08-a647-d4214e217055"
      },
      "execution_count": null,
      "outputs": [
        {
          "output_type": "stream",
          "name": "stdout",
          "text": [
            "{1: {'Name': 'John', 'Age': 23, 'Gender': 'Male'}, 2: {'Name': 'Preeti', 'Age': 32, 'Gender': 'Female'}}\n"
          ]
        }
      ]
    },
    {
      "cell_type": "code",
      "source": [
        "print(dict[1])"
      ],
      "metadata": {
        "colab": {
          "base_uri": "https://localhost:8080/"
        },
        "id": "g71UX7AExqG7",
        "outputId": "5cd43209-1577-426e-e97c-eec013caf51a"
      },
      "execution_count": null,
      "outputs": [
        {
          "output_type": "stream",
          "name": "stdout",
          "text": [
            "{'Name': 'John', 'Age': 23, 'Gender': 'Male'}\n"
          ]
        }
      ]
    },
    {
      "cell_type": "code",
      "source": [
        "print(dict[1][\"Name\"])"
      ],
      "metadata": {
        "colab": {
          "base_uri": "https://localhost:8080/"
        },
        "id": "fj-2cEbpx5Sa",
        "outputId": "b260b2d9-5877-497b-94fd-cc3a37d54c5e"
      },
      "execution_count": null,
      "outputs": [
        {
          "output_type": "stream",
          "name": "stdout",
          "text": [
            "John\n"
          ]
        }
      ]
    },
    {
      "cell_type": "code",
      "source": [
        "dict = {\"Name\": \"John\", \"Age\": 23, \"Gender\": \"Male\"}\n",
        "print(dict)"
      ],
      "metadata": {
        "colab": {
          "base_uri": "https://localhost:8080/"
        },
        "id": "lIB0T51xx8ra",
        "outputId": "2688f8fa-8f66-4fa5-ba39-5953f0e2c7e3"
      },
      "execution_count": null,
      "outputs": [
        {
          "output_type": "stream",
          "name": "stdout",
          "text": [
            "{'Name': 'John', 'Age': 23, 'Gender': 'Male'}\n"
          ]
        }
      ]
    },
    {
      "cell_type": "code",
      "source": [
        "dict.keys()"
      ],
      "metadata": {
        "colab": {
          "base_uri": "https://localhost:8080/"
        },
        "id": "YRRYioaJyMqf",
        "outputId": "96993398-74cd-49cd-a6ca-40f7210165d4"
      },
      "execution_count": null,
      "outputs": [
        {
          "output_type": "execute_result",
          "data": {
            "text/plain": [
              "dict_keys(['Name', 'Age', 'Gender'])"
            ]
          },
          "metadata": {},
          "execution_count": 8
        }
      ]
    },
    {
      "cell_type": "code",
      "source": [
        "dict.values()"
      ],
      "metadata": {
        "colab": {
          "base_uri": "https://localhost:8080/"
        },
        "id": "4x_LibdlyQeP",
        "outputId": "4a5ef393-a599-44b7-c131-546710159d86"
      },
      "execution_count": null,
      "outputs": [
        {
          "output_type": "execute_result",
          "data": {
            "text/plain": [
              "dict_values(['John', 23, 'Male'])"
            ]
          },
          "metadata": {},
          "execution_count": 9
        }
      ]
    },
    {
      "cell_type": "code",
      "source": [
        "dict.get(\"Name\")"
      ],
      "metadata": {
        "colab": {
          "base_uri": "https://localhost:8080/",
          "height": 36
        },
        "id": "lAAhlVJxySX_",
        "outputId": "95dcd640-4586-45e4-dfce-59419edf5070"
      },
      "execution_count": null,
      "outputs": [
        {
          "output_type": "execute_result",
          "data": {
            "text/plain": [
              "'John'"
            ],
            "application/vnd.google.colaboratory.intrinsic+json": {
              "type": "string"
            }
          },
          "metadata": {},
          "execution_count": 10
        }
      ]
    },
    {
      "cell_type": "code",
      "source": [
        "dict.items()"
      ],
      "metadata": {
        "colab": {
          "base_uri": "https://localhost:8080/"
        },
        "id": "dGXGuiOjyUj7",
        "outputId": "9074fb1c-4764-4975-fca0-6dbc3f5aa81c"
      },
      "execution_count": null,
      "outputs": [
        {
          "output_type": "execute_result",
          "data": {
            "text/plain": [
              "dict_items([('Name', 'John'), ('Age', 23), ('Gender', 'Male')])"
            ]
          },
          "metadata": {},
          "execution_count": 11
        }
      ]
    },
    {
      "cell_type": "code",
      "source": [
        "dict.setdefault(\"Age\",24)"
      ],
      "metadata": {
        "colab": {
          "base_uri": "https://localhost:8080/"
        },
        "id": "KhyXRL_GyWj4",
        "outputId": "38cc1855-6c84-478e-a41a-cc3b816af501"
      },
      "execution_count": null,
      "outputs": [
        {
          "output_type": "execute_result",
          "data": {
            "text/plain": [
              "23"
            ]
          },
          "metadata": {},
          "execution_count": 13
        }
      ]
    },
    {
      "cell_type": "code",
      "source": [
        "print(dict[\"Age\"])"
      ],
      "metadata": {
        "colab": {
          "base_uri": "https://localhost:8080/"
        },
        "id": "nhZOrBeDygbN",
        "outputId": "d4e9b548-1b63-4ae6-e9b7-6400815299a8"
      },
      "execution_count": null,
      "outputs": [
        {
          "output_type": "stream",
          "name": "stdout",
          "text": [
            "23\n"
          ]
        }
      ]
    },
    {
      "cell_type": "code",
      "source": [
        "#Iteration in dictionary.\n",
        "a = {1,2,3,4,5}\n",
        "for i in a:\n",
        "  print(i, end = \" \")"
      ],
      "metadata": {
        "colab": {
          "base_uri": "https://localhost:8080/"
        },
        "id": "5AlfElcjym3p",
        "outputId": "ddb7e874-326f-49a6-d278-e77b3d9fa728"
      },
      "execution_count": null,
      "outputs": [
        {
          "output_type": "stream",
          "name": "stdout",
          "text": [
            "1 2 3 4 5 "
          ]
        }
      ]
    },
    {
      "cell_type": "code",
      "source": [
        "dict = {\"Name\": \"John\", \"Age\": 23, \"Gender\": \"Male\"}\n",
        "\n",
        "for x in dict.values():\n",
        "  print(x)"
      ],
      "metadata": {
        "colab": {
          "base_uri": "https://localhost:8080/"
        },
        "id": "4dtsv4CIzAp3",
        "outputId": "905a248f-6dd1-45c8-e90f-3e3c5c9306bd"
      },
      "execution_count": null,
      "outputs": [
        {
          "output_type": "stream",
          "name": "stdout",
          "text": [
            "John\n",
            "23\n",
            "Male\n"
          ]
        }
      ]
    },
    {
      "cell_type": "code",
      "source": [
        "for x in dict.keys():\n",
        "  print(x)"
      ],
      "metadata": {
        "colab": {
          "base_uri": "https://localhost:8080/"
        },
        "id": "nvfKAao5zS3Q",
        "outputId": "70bbe088-016e-441d-b310-ab9c2cf6c0fd"
      },
      "execution_count": null,
      "outputs": [
        {
          "output_type": "stream",
          "name": "stdout",
          "text": [
            "Name\n",
            "Age\n",
            "Gender\n"
          ]
        }
      ]
    },
    {
      "cell_type": "code",
      "source": [
        "for x,y in dict.items():\n",
        "  print(x,y)"
      ],
      "metadata": {
        "colab": {
          "base_uri": "https://localhost:8080/"
        },
        "id": "zlx5Fn0MzjWk",
        "outputId": "e4c62e50-7159-4cde-9dc9-6c5ed9b3d530"
      },
      "execution_count": null,
      "outputs": [
        {
          "output_type": "stream",
          "name": "stdout",
          "text": [
            "Name John\n",
            "Age 23\n",
            "Gender Male\n"
          ]
        }
      ]
    },
    {
      "cell_type": "code",
      "source": [
        "#Sets\n",
        "a = {\"Ironman\", \"Thor\", \"Bahubali\", \"Superman\"}\n"
      ],
      "metadata": {
        "id": "kjYM5Z09zqJV"
      },
      "execution_count": null,
      "outputs": []
    },
    {
      "cell_type": "code",
      "source": [
        "a.pop()\n",
        "print(a)"
      ],
      "metadata": {
        "id": "6w2sK20b0bw-",
        "outputId": "a5d082de-4356-4085-cfe3-c286f1273f60",
        "colab": {
          "base_uri": "https://localhost:8080/"
        }
      },
      "execution_count": null,
      "outputs": [
        {
          "output_type": "stream",
          "name": "stdout",
          "text": [
            "{'Bahubali', 'Superman', 'Thor'}\n"
          ]
        }
      ]
    },
    {
      "cell_type": "code",
      "source": [
        "a"
      ],
      "metadata": {
        "id": "QJczAgci0DB2",
        "outputId": "4d4d0c14-accb-424b-c139-1f96fcde8dbb",
        "colab": {
          "base_uri": "https://localhost:8080/"
        }
      },
      "execution_count": null,
      "outputs": [
        {
          "output_type": "execute_result",
          "data": {
            "text/plain": [
              "{'Bahubali', 'Superman', 'Thor'}"
            ]
          },
          "metadata": {},
          "execution_count": 39
        }
      ]
    },
    {
      "cell_type": "code",
      "source": [
        "a.add(\"Batman\")"
      ],
      "metadata": {
        "id": "EDTdNfRi0g3z"
      },
      "execution_count": null,
      "outputs": []
    },
    {
      "cell_type": "code",
      "source": [
        "a"
      ],
      "metadata": {
        "id": "gZHH0hca0opS",
        "outputId": "8daca5b7-f45b-453d-eae6-dff1565d610c",
        "colab": {
          "base_uri": "https://localhost:8080/"
        }
      },
      "execution_count": null,
      "outputs": [
        {
          "output_type": "execute_result",
          "data": {
            "text/plain": [
              "{'Bahubali', 'Batman', 'Superman', 'Thor'}"
            ]
          },
          "metadata": {},
          "execution_count": 43
        }
      ]
    },
    {
      "cell_type": "code",
      "source": [
        "a.remove(\"Superman\")\n",
        "print(a)"
      ],
      "metadata": {
        "id": "aol1n7rJ0piT",
        "outputId": "2d9ec637-0859-4e9b-956e-898684e2302b",
        "colab": {
          "base_uri": "https://localhost:8080/"
        }
      },
      "execution_count": null,
      "outputs": [
        {
          "output_type": "stream",
          "name": "stdout",
          "text": [
            "{'Bahubali', 'Thor', 'Batman'}\n"
          ]
        }
      ]
    },
    {
      "cell_type": "code",
      "source": [
        "a.discard(\"Thor\")\n",
        "a"
      ],
      "metadata": {
        "id": "i274oVB-0zDp",
        "outputId": "01a877e9-439d-43cb-c241-4e6d868d10c4",
        "colab": {
          "base_uri": "https://localhost:8080/"
        }
      },
      "execution_count": null,
      "outputs": [
        {
          "output_type": "execute_result",
          "data": {
            "text/plain": [
              "{'Bahubali', 'Batman'}"
            ]
          },
          "metadata": {},
          "execution_count": 45
        }
      ]
    },
    {
      "cell_type": "code",
      "source": [
        "b = a.copy()\n",
        "print(b)"
      ],
      "metadata": {
        "id": "lyVXW4Ui05fc",
        "outputId": "cee5e22b-47db-40ff-9539-b317d559a4f1",
        "colab": {
          "base_uri": "https://localhost:8080/"
        }
      },
      "execution_count": null,
      "outputs": [
        {
          "output_type": "stream",
          "name": "stdout",
          "text": [
            "{'Bahubali', 'Batman'}\n"
          ]
        }
      ]
    },
    {
      "cell_type": "code",
      "source": [
        "list1 = [1,2,3,4,5]\n",
        "list1.append(6)\n",
        "print(list1)"
      ],
      "metadata": {
        "id": "XUuE6GZn09i0",
        "outputId": "ec6262b8-d76b-47e8-8ff1-f7ff9e694042",
        "colab": {
          "base_uri": "https://localhost:8080/"
        }
      },
      "execution_count": null,
      "outputs": [
        {
          "output_type": "stream",
          "name": "stdout",
          "text": [
            "[1, 2, 3, 4, 5, 6]\n"
          ]
        }
      ]
    },
    {
      "cell_type": "code",
      "source": [
        "list1.remove(6)\n",
        "print(list1)"
      ],
      "metadata": {
        "id": "kxCy0VXwIh8y",
        "outputId": "d5029ffb-d805-4492-ff64-9c3ac0b8fb04",
        "colab": {
          "base_uri": "https://localhost:8080/"
        }
      },
      "execution_count": null,
      "outputs": [
        {
          "output_type": "stream",
          "name": "stdout",
          "text": [
            "[1, 2, 3, 4, 5]\n"
          ]
        }
      ]
    },
    {
      "cell_type": "code",
      "source": [
        "list1.pop()"
      ],
      "metadata": {
        "id": "oI0efJO8IyRy",
        "outputId": "cf51ea19-6ad7-4b56-c72e-dddd36f4f300",
        "colab": {
          "base_uri": "https://localhost:8080/"
        }
      },
      "execution_count": null,
      "outputs": [
        {
          "output_type": "execute_result",
          "data": {
            "text/plain": [
              "5"
            ]
          },
          "metadata": {},
          "execution_count": 4
        }
      ]
    },
    {
      "cell_type": "code",
      "source": [
        "list1"
      ],
      "metadata": {
        "id": "kFS4BNS9I0oT",
        "outputId": "9b13ae7b-837e-48a4-9c50-7872eaa16d32",
        "colab": {
          "base_uri": "https://localhost:8080/"
        }
      },
      "execution_count": null,
      "outputs": [
        {
          "output_type": "execute_result",
          "data": {
            "text/plain": [
              "[1, 2, 3, 4]"
            ]
          },
          "metadata": {},
          "execution_count": 5
        }
      ]
    },
    {
      "cell_type": "code",
      "source": [
        "list1.append(5)\n",
        "print(list1)"
      ],
      "metadata": {
        "id": "9FSbrvihI2HF",
        "outputId": "462d1d33-667c-40c7-fa6c-35e5889f58ed",
        "colab": {
          "base_uri": "https://localhost:8080/"
        }
      },
      "execution_count": null,
      "outputs": [
        {
          "output_type": "stream",
          "name": "stdout",
          "text": [
            "[1, 2, 3, 4, 5, 5]\n"
          ]
        }
      ]
    },
    {
      "cell_type": "code",
      "source": [
        "list1.count(2)  #to count the occurence of the element in the list."
      ],
      "metadata": {
        "id": "X_P9F6syI50d",
        "outputId": "7fba9f9d-22d3-427f-8441-a10967d0b912",
        "colab": {
          "base_uri": "https://localhost:8080/"
        }
      },
      "execution_count": null,
      "outputs": [
        {
          "output_type": "execute_result",
          "data": {
            "text/plain": [
              "1"
            ]
          },
          "metadata": {},
          "execution_count": 12
        }
      ]
    },
    {
      "cell_type": "code",
      "source": [
        "list1.insert(1,7)\n",
        "print(list1)"
      ],
      "metadata": {
        "id": "nubTZ5OUJMKE",
        "outputId": "f86757c6-6211-44a6-d397-0472dbb2cc8e",
        "colab": {
          "base_uri": "https://localhost:8080/"
        }
      },
      "execution_count": null,
      "outputs": [
        {
          "output_type": "stream",
          "name": "stdout",
          "text": [
            "[1, 7, 7, 7, 7, 2, 3, 4, 5, 5]\n"
          ]
        }
      ]
    },
    {
      "cell_type": "code",
      "source": [
        "list1.pop(2)"
      ],
      "metadata": {
        "id": "09Ulny-mJWIC",
        "outputId": "b93ebf39-a4df-41e8-f4c0-e3b81bd20ffa",
        "colab": {
          "base_uri": "https://localhost:8080/"
        }
      },
      "execution_count": null,
      "outputs": [
        {
          "output_type": "execute_result",
          "data": {
            "text/plain": [
              "7"
            ]
          },
          "metadata": {},
          "execution_count": 19
        }
      ]
    },
    {
      "cell_type": "code",
      "source": [
        "avengers = [\"Spiderman\", \"Batman\", \"Krish\"]\n",
        "avengers[0]"
      ],
      "metadata": {
        "id": "X6DQoEtgJkUY",
        "outputId": "8b6d7dd5-7770-46eb-c333-79bb93a324af",
        "colab": {
          "base_uri": "https://localhost:8080/",
          "height": 36
        }
      },
      "execution_count": null,
      "outputs": [
        {
          "output_type": "execute_result",
          "data": {
            "text/plain": [
              "'Spiderman'"
            ],
            "application/vnd.google.colaboratory.intrinsic+json": {
              "type": "string"
            }
          },
          "metadata": {},
          "execution_count": 20
        }
      ]
    },
    {
      "cell_type": "code",
      "source": [
        "avengers.append(\"Hulk\")\n",
        "print(avengers)"
      ],
      "metadata": {
        "id": "EUxPOY-NJ24S",
        "outputId": "d1419fc5-8da4-40de-8ad2-c1e50d7bdf3b",
        "colab": {
          "base_uri": "https://localhost:8080/"
        }
      },
      "execution_count": null,
      "outputs": [
        {
          "output_type": "stream",
          "name": "stdout",
          "text": [
            "['Spiderman', 'Batman', 'Krish', 'Hulk', 'Hulk']\n"
          ]
        }
      ]
    },
    {
      "cell_type": "code",
      "source": [
        "avengers.remove(\"Hulk\")"
      ],
      "metadata": {
        "id": "90TOELVqJ7YJ"
      },
      "execution_count": null,
      "outputs": []
    },
    {
      "cell_type": "code",
      "source": [
        "print(avengers)"
      ],
      "metadata": {
        "id": "omO7Y0t0KE8Z",
        "outputId": "1d8d730f-4b1f-49c9-d380-981bd913dacd",
        "colab": {
          "base_uri": "https://localhost:8080/"
        }
      },
      "execution_count": null,
      "outputs": [
        {
          "output_type": "stream",
          "name": "stdout",
          "text": [
            "['Spiderman', 'Batman', 'Krish', 'Hulk']\n"
          ]
        }
      ]
    },
    {
      "cell_type": "code",
      "source": [
        "#write a program to find a sum of all even numbers upto 50.\n",
        "sum = 0\n",
        "for i in range(1,51):\n",
        "  if num % 2== 0:\n",
        "    sum+=i\n",
        "print(\"The sum of the even numbers upto 50 is \", sum)"
      ],
      "metadata": {
        "id": "uNO8batUKG8K",
        "outputId": "0210f781-c9db-49a7-e916-acaf886b8832",
        "colab": {
          "base_uri": "https://localhost:8080/"
        }
      },
      "execution_count": null,
      "outputs": [
        {
          "output_type": "stream",
          "name": "stdout",
          "text": [
            "The sum of the even numbers upto 50 is  1275\n"
          ]
        }
      ]
    },
    {
      "cell_type": "code",
      "source": [
        "a = [\"Jammu\", \"New Delhi\", \"Mumbai\"]\n",
        "b = [\"Madhya Pradesh\", \"Shimla\"]\n",
        "print(a+b)"
      ],
      "metadata": {
        "id": "sP_s6rt9KkMc",
        "colab": {
          "base_uri": "https://localhost:8080/"
        },
        "outputId": "520da9bb-cbee-4d97-cf20-2ac403b64ef1"
      },
      "execution_count": null,
      "outputs": [
        {
          "output_type": "stream",
          "name": "stdout",
          "text": [
            "['Jammu', 'New Delhi', 'Mumbai', 'Madhya Pradesh', 'Shimla']\n"
          ]
        }
      ]
    },
    {
      "cell_type": "code",
      "source": [
        "a = [\"Jammu\", \"New Delhi\", \"Mumbai\"]\n",
        "b = [\"Madhya Pradesh\", \"Shimla\"]\n",
        "print(a[1])\n",
        "print()\n",
        "print(a.index(\"Jammu\"))"
      ],
      "metadata": {
        "colab": {
          "base_uri": "https://localhost:8080/"
        },
        "id": "3sgRN2v9W9Ih",
        "outputId": "f463d4b0-5ce3-4f4d-f7e4-633deef70697"
      },
      "execution_count": null,
      "outputs": [
        {
          "output_type": "stream",
          "name": "stdout",
          "text": [
            "New Delhi\n",
            "\n",
            "0\n",
            "None\n"
          ]
        }
      ]
    },
    {
      "cell_type": "code",
      "source": [
        "a = [\"Jammu\", \"New Delhi\", \"Mumbai\"]\n",
        "b = [\"Madhya Pradesh\", \"Shimla\"]\n",
        "a.extend(b)\n",
        "print(a)"
      ],
      "metadata": {
        "colab": {
          "base_uri": "https://localhost:8080/"
        },
        "id": "3VQ7cbw_XXL3",
        "outputId": "f8cd328e-8208-4444-a706-4510fbf38ec3"
      },
      "execution_count": null,
      "outputs": [
        {
          "output_type": "stream",
          "name": "stdout",
          "text": [
            "['Jammu', 'New Delhi', 'Mumbai', 'Madhya Pradesh', 'Shimla']\n"
          ]
        }
      ]
    },
    {
      "cell_type": "code",
      "source": [
        "a.index(\"New Delhi\")"
      ],
      "metadata": {
        "colab": {
          "base_uri": "https://localhost:8080/"
        },
        "id": "gLgZZQVMYAGL",
        "outputId": "fc036c38-3677-4b95-fc11-b338a0709753"
      },
      "execution_count": null,
      "outputs": [
        {
          "output_type": "execute_result",
          "data": {
            "text/plain": [
              "1"
            ]
          },
          "metadata": {},
          "execution_count": 15
        }
      ]
    },
    {
      "cell_type": "code",
      "source": [
        "num = []\n",
        "for num in range(1,51):\n",
        "  if i%2==0:\n",
        "    num=i\n",
        "print(num)"
      ],
      "metadata": {
        "colab": {
          "base_uri": "https://localhost:8080/"
        },
        "id": "DcfJ61cJYPiN",
        "outputId": "441587a3-419c-4e7c-9cf4-d183a2ffb35b"
      },
      "execution_count": null,
      "outputs": [
        {
          "output_type": "stream",
          "name": "stdout",
          "text": [
            "100\n"
          ]
        }
      ]
    },
    {
      "cell_type": "code",
      "source": [
        "sum = 0\n",
        "for i in range(1,51):\n",
        "  if num % 2== 0:\n",
        "    sum+=i\n",
        "print(sum)"
      ],
      "metadata": {
        "id": "Ip6IvL9AaJTE",
        "outputId": "672322f9-aecd-457c-ed84-bb518e7f654d",
        "colab": {
          "base_uri": "https://localhost:8080/"
        }
      },
      "execution_count": null,
      "outputs": [
        {
          "output_type": "stream",
          "name": "stdout",
          "text": [
            "1275\n"
          ]
        }
      ]
    },
    {
      "cell_type": "code",
      "source": [
        "name = \"Jasmine\"\n",
        "age = 23\n",
        "address = \"L-83 Border Street New Delhi-110033\"\n",
        "print(name)\n",
        "print(age)\n",
        "print(address)"
      ],
      "metadata": {
        "id": "IVSQfw2hbBp-",
        "outputId": "b684de23-be69-408c-e4e4-798265c31d6b",
        "colab": {
          "base_uri": "https://localhost:8080/"
        }
      },
      "execution_count": null,
      "outputs": [
        {
          "output_type": "stream",
          "name": "stdout",
          "text": [
            "Jasmine\n",
            "23\n",
            "L-83 Border Street New Delhi-110033\n"
          ]
        }
      ]
    },
    {
      "cell_type": "code",
      "source": [
        "a = \"Rohit, Raj\"\n",
        "b = \"Rani, Shalini\"\n",
        "a,b = b,a"
      ],
      "metadata": {
        "id": "xyhBGKDtbquC"
      },
      "execution_count": null,
      "outputs": []
    },
    {
      "cell_type": "code",
      "source": [
        "print(a)"
      ],
      "metadata": {
        "id": "Tqpsy1Q5bylH",
        "outputId": "3cda0669-46a2-41e5-c79c-36bce10b7f30",
        "colab": {
          "base_uri": "https://localhost:8080/"
        }
      },
      "execution_count": null,
      "outputs": [
        {
          "output_type": "stream",
          "name": "stdout",
          "text": [
            "Rani, Shalini\n"
          ]
        }
      ]
    },
    {
      "cell_type": "code",
      "source": [
        "a = 1.23\n",
        "b = int(a)\n",
        "print(b)"
      ],
      "metadata": {
        "id": "bEX6Ytgeb7-O",
        "outputId": "3370ef4d-b74a-4ea0-d611-77be1380f1dc",
        "colab": {
          "base_uri": "https://localhost:8080/"
        }
      },
      "execution_count": null,
      "outputs": [
        {
          "output_type": "stream",
          "name": "stdout",
          "text": [
            "1\n"
          ]
        }
      ]
    },
    {
      "cell_type": "code",
      "source": [
        "name = input(\"Enter a name here: \")\n",
        "age = int(input(\"Enter your age here: \"))\n",
        "gender = input(\"Enter your gender here: \")"
      ],
      "metadata": {
        "id": "Gm-l5ZIFcBGt",
        "outputId": "a5e2eecc-7f51-4465-de2c-115aeb0d0984",
        "colab": {
          "base_uri": "https://localhost:8080/"
        }
      },
      "execution_count": null,
      "outputs": [
        {
          "name": "stdout",
          "output_type": "stream",
          "text": [
            "Enter a name here: Hira Lal\n",
            "Enter your age here: 43\n",
            "Enter your gender here: Male\n"
          ]
        }
      ]
    },
    {
      "cell_type": "code",
      "source": [
        "user_input = int(input(\"Enter number here: \"))\n",
        "user_input = float(user_input)\n",
        "print(user_input)"
      ],
      "metadata": {
        "id": "tTUngmB5cDo3",
        "outputId": "d2dd5547-5406-4656-98c7-5cc30b65dee4",
        "colab": {
          "base_uri": "https://localhost:8080/"
        }
      },
      "execution_count": null,
      "outputs": [
        {
          "output_type": "stream",
          "name": "stdout",
          "text": [
            "Enter number here: 3\n",
            "3.0\n"
          ]
        }
      ]
    },
    {
      "cell_type": "code",
      "source": [
        "#Logical operators- AND, OR, NOT\n",
        "3>2 and 2<4"
      ],
      "metadata": {
        "id": "S3zIAs7fctxe",
        "outputId": "6a491019-fbf5-454a-de23-7ead233467f4",
        "colab": {
          "base_uri": "https://localhost:8080/"
        }
      },
      "execution_count": null,
      "outputs": [
        {
          "output_type": "execute_result",
          "data": {
            "text/plain": [
              "True"
            ]
          },
          "metadata": {},
          "execution_count": 47
        }
      ]
    },
    {
      "cell_type": "code",
      "source": [
        "3>1 or 3<4"
      ],
      "metadata": {
        "id": "fx028jr0c60E",
        "outputId": "010cb843-f6c8-42fe-8482-449cbda534a4",
        "colab": {
          "base_uri": "https://localhost:8080/"
        }
      },
      "execution_count": null,
      "outputs": [
        {
          "output_type": "execute_result",
          "data": {
            "text/plain": [
              "True"
            ]
          },
          "metadata": {},
          "execution_count": 48
        }
      ]
    },
    {
      "cell_type": "code",
      "source": [
        "not(3>1 or 3<1)"
      ],
      "metadata": {
        "id": "g1EZr_74dAQr",
        "outputId": "71610d51-242b-4858-abe1-858ec49640ee",
        "colab": {
          "base_uri": "https://localhost:8080/"
        }
      },
      "execution_count": null,
      "outputs": [
        {
          "output_type": "execute_result",
          "data": {
            "text/plain": [
              "False"
            ]
          },
          "metadata": {},
          "execution_count": 49
        }
      ]
    },
    {
      "cell_type": "code",
      "source": [
        "not(1>2 and 0>1)"
      ],
      "metadata": {
        "id": "Ta7Ypf6ydGHe",
        "outputId": "778aea09-97a1-4453-b966-e11ed834965a",
        "colab": {
          "base_uri": "https://localhost:8080/"
        }
      },
      "execution_count": null,
      "outputs": [
        {
          "output_type": "execute_result",
          "data": {
            "text/plain": [
              "True"
            ]
          },
          "metadata": {},
          "execution_count": 52
        }
      ]
    },
    {
      "cell_type": "code",
      "source": [
        "a = 123\n",
        "b = \"123\"\n",
        "print(a is b)\n",
        "print(a is not b)"
      ],
      "metadata": {
        "id": "Bs3axgu3dPMH",
        "outputId": "641dc3cf-f1f5-47ab-e71a-06b98134668f",
        "colab": {
          "base_uri": "https://localhost:8080/"
        }
      },
      "execution_count": null,
      "outputs": [
        {
          "output_type": "stream",
          "name": "stdout",
          "text": [
            "False\n",
            "True\n"
          ]
        }
      ]
    },
    {
      "cell_type": "code",
      "source": [
        "a = \"aeiou\"\n",
        "\"i\" in a\n",
        "\"ei\" in a"
      ],
      "metadata": {
        "id": "E9gMNMFkdZKL",
        "outputId": "dbe0c6f5-0d0c-4f99-b583-3d1a5f05c07c",
        "colab": {
          "base_uri": "https://localhost:8080/"
        }
      },
      "execution_count": null,
      "outputs": [
        {
          "output_type": "execute_result",
          "data": {
            "text/plain": [
              "True"
            ]
          },
          "metadata": {},
          "execution_count": 57
        }
      ]
    },
    {
      "cell_type": "code",
      "source": [
        "amount = 45\n",
        "if amount >50:\n",
        "  print(\"He is a rich person\")\n",
        "elif amount > 40:\n",
        "  print(\"He is going to be rice\")\n",
        "else:\n",
        "  print(\"He is a happy person.\")"
      ],
      "metadata": {
        "id": "hYhgnfvsdj3a",
        "outputId": "3a5ee928-1b45-4cb3-aade-31a190c175ff",
        "colab": {
          "base_uri": "https://localhost:8080/"
        }
      },
      "execution_count": null,
      "outputs": [
        {
          "output_type": "stream",
          "name": "stdout",
          "text": [
            "He is going to be rice\n"
          ]
        }
      ]
    },
    {
      "cell_type": "code",
      "source": [
        "for i in range(1,5):\n",
        "  if i == 2:\n",
        "    continue\n",
        "  else:\n",
        "    print(i)"
      ],
      "metadata": {
        "id": "dYdT3mgWd_1D",
        "colab": {
          "base_uri": "https://localhost:8080/"
        },
        "outputId": "274ae9f3-6006-4d5f-ec17-95e49c11f583"
      },
      "execution_count": null,
      "outputs": [
        {
          "output_type": "stream",
          "name": "stdout",
          "text": [
            "1\n",
            "3\n",
            "4\n"
          ]
        }
      ]
    },
    {
      "cell_type": "code",
      "source": [
        "for i in range(1,11):\n",
        "  if i == 5:\n",
        "    break\n",
        "  else:\n",
        "    print(i)"
      ],
      "metadata": {
        "colab": {
          "base_uri": "https://localhost:8080/"
        },
        "id": "Aama--lNhUE_",
        "outputId": "ed00d6b1-7262-4bd8-a063-87d2f3f37066"
      },
      "execution_count": null,
      "outputs": [
        {
          "output_type": "stream",
          "name": "stdout",
          "text": [
            "1\n",
            "2\n",
            "3\n",
            "4\n"
          ]
        }
      ]
    },
    {
      "cell_type": "code",
      "source": [
        "x = lambda a,b,c: (a+b)*c\n",
        "x(1,2,3)"
      ],
      "metadata": {
        "colab": {
          "base_uri": "https://localhost:8080/"
        },
        "id": "bcq2pz_8hdxS",
        "outputId": "c0547827-a221-4e3c-c98e-5e020f705a4b"
      },
      "execution_count": null,
      "outputs": [
        {
          "output_type": "execute_result",
          "data": {
            "text/plain": [
              "9"
            ]
          },
          "metadata": {},
          "execution_count": 8
        }
      ]
    },
    {
      "cell_type": "code",
      "source": [
        "[i for i in range(1,11)]"
      ],
      "metadata": {
        "colab": {
          "base_uri": "https://localhost:8080/"
        },
        "id": "2jdSVc5hjGga",
        "outputId": "f87d7a0a-aa09-497f-c060-61bcb05e467e"
      },
      "execution_count": null,
      "outputs": [
        {
          "output_type": "execute_result",
          "data": {
            "text/plain": [
              "[1, 2, 3, 4, 5, 6, 7, 8, 9, 10]"
            ]
          },
          "metadata": {},
          "execution_count": 9
        }
      ]
    },
    {
      "cell_type": "code",
      "source": [
        "count = 1\n",
        "while count<=5:\n",
        "  print(count)\n",
        "  count+=1"
      ],
      "metadata": {
        "colab": {
          "base_uri": "https://localhost:8080/"
        },
        "id": "FTmwYVhLldGX",
        "outputId": "81e9c61a-9509-476f-8fdc-2df5ea2e563c"
      },
      "execution_count": null,
      "outputs": [
        {
          "output_type": "stream",
          "name": "stdout",
          "text": [
            "1\n",
            "2\n",
            "3\n",
            "4\n",
            "5\n"
          ]
        }
      ]
    },
    {
      "cell_type": "code",
      "source": [
        "\n",
        "student = {\"name\": \"Rashi\", \"age\": 34, \"roll no\": 23, \"gender\": \"female\"}\n",
        "for x in student:\n",
        "  print(x)"
      ],
      "metadata": {
        "colab": {
          "base_uri": "https://localhost:8080/"
        },
        "id": "Ql84Jo1gmDTk",
        "outputId": "f09b0669-2f2f-4b17-f7ec-31f94044f38e"
      },
      "execution_count": null,
      "outputs": [
        {
          "output_type": "stream",
          "name": "stdout",
          "text": [
            "name\n",
            "age\n",
            "roll no\n",
            "gender\n"
          ]
        }
      ]
    },
    {
      "cell_type": "code",
      "source": [
        "student = {\"name\": \"Rashi\", \"age\": 34, \"roll no\": 23, \"gender\": \"female\"}\n",
        "for x in student.items():\n",
        "  print(x)"
      ],
      "metadata": {
        "id": "eHDBx42fodvv",
        "outputId": "2b8bf20d-139d-45e4-e8ec-0290b3f08bf8",
        "colab": {
          "base_uri": "https://localhost:8080/"
        }
      },
      "execution_count": null,
      "outputs": [
        {
          "output_type": "stream",
          "name": "stdout",
          "text": [
            "('name', 'Rashi')\n",
            "('age', 34)\n",
            "('roll no', 23)\n",
            "('gender', 'female')\n"
          ]
        }
      ]
    },
    {
      "cell_type": "code",
      "source": [
        "student = {\"name\": \"Rashi\", \"age\": 34, \"roll no\": 23, \"gender\": \"female\"}\n",
        "for x in student.values():\n",
        "  print(x)\n"
      ],
      "metadata": {
        "id": "CalJiM7RomfF",
        "outputId": "0d78de77-9e08-42d2-ad64-7f20834fe1ce",
        "colab": {
          "base_uri": "https://localhost:8080/"
        }
      },
      "execution_count": null,
      "outputs": [
        {
          "output_type": "stream",
          "name": "stdout",
          "text": [
            "Rashi\n",
            "34\n",
            "23\n",
            "female\n"
          ]
        }
      ]
    },
    {
      "cell_type": "code",
      "source": [
        "student = {\"name\": \"Rashi\", \"age\": 34, \"roll no\": 23, \"gender\": \"female\"}\n",
        "for i in student.keys():\n",
        "  print(i)"
      ],
      "metadata": {
        "id": "87FXaJP7pAP1",
        "outputId": "9c8a5011-67a8-4ed6-d259-3ef165fd97db",
        "colab": {
          "base_uri": "https://localhost:8080/"
        }
      },
      "execution_count": null,
      "outputs": [
        {
          "output_type": "stream",
          "name": "stdout",
          "text": [
            "name\n",
            "age\n",
            "roll no\n",
            "gender\n"
          ]
        }
      ]
    },
    {
      "cell_type": "code",
      "source": [
        "                                    ##Python from the start.\n",
        "print(\"hello world\")"
      ],
      "metadata": {
        "id": "i_5tMU_spKj5",
        "outputId": "edf0fa68-bdf0-4fbd-9991-e2d5adb1fd5f",
        "colab": {
          "base_uri": "https://localhost:8080/"
        }
      },
      "execution_count": null,
      "outputs": [
        {
          "output_type": "stream",
          "name": "stdout",
          "text": [
            "hello world\n"
          ]
        }
      ]
    },
    {
      "cell_type": "code",
      "source": [
        "#data types in python- Text datatypes, integer dtypes, sequence dtypes, map dtypes,\n",
        "#String, int, float, boolean, list, tuple, dictionary."
      ],
      "metadata": {
        "id": "s0HTViCqshnc"
      },
      "execution_count": null,
      "outputs": []
    },
    {
      "cell_type": "code",
      "source": [
        "#Taking the inputs from the user.\n",
        "name = input(\"Enter a name here: \")\n",
        "age = int(input(\"Enter the age here: \"))\n",
        "gender = input(\"Enter the gender here: \")"
      ],
      "metadata": {
        "id": "tZL3-mMgtIjg",
        "outputId": "65a3ea08-6a0f-4e0f-b7fc-3d741f917841",
        "colab": {
          "base_uri": "https://localhost:8080/"
        }
      },
      "execution_count": null,
      "outputs": [
        {
          "name": "stdout",
          "output_type": "stream",
          "text": [
            "Enter a name here: Lara\n",
            "Enter the age here: 23\n",
            "Enter the gender here: Female\n"
          ]
        }
      ]
    },
    {
      "cell_type": "code",
      "source": [
        "#String- Whatever is comes under the inverted comma called string. It can be anything like int, float, boolean, text anything."
      ],
      "metadata": {
        "id": "3rKfHBBHtZhf"
      },
      "execution_count": null,
      "outputs": []
    },
    {
      "cell_type": "code",
      "source": [
        "#Typecasting- 2 Types of typecasting occurs\n",
        "#1. Implicit- During the time of conversion or while performing the task python can change the dtypes by itself.\n",
        "#2. Explicit- User has to change the dtypes from one type to another.\n",
        "\n",
        "#Implicit\n",
        "a = 123\n",
        "b = 1.23\n",
        "print(a+b)\n",
        "\n",
        "\n",
        "#Explicit\n",
        "a = 1.23\n",
        "b = \"123\"\n",
        "b = float(b)\n",
        "print(a+b)"
      ],
      "metadata": {
        "id": "vLZej_59ts0c",
        "outputId": "d970d175-f112-4318-b6b5-e3bd9033a9a0",
        "colab": {
          "base_uri": "https://localhost:8080/"
        }
      },
      "execution_count": null,
      "outputs": [
        {
          "output_type": "stream",
          "name": "stdout",
          "text": [
            "124.23\n",
            "124.23\n"
          ]
        }
      ]
    },
    {
      "cell_type": "code",
      "source": [
        "                                                    #QUESTIONS\n",
        "#Write a program to swap two variable.\n",
        "a = \"1,2,3\"\n",
        "b = \"3,4,5\"\n",
        "a,b = b,a\n",
        "print(a)\n",
        "print(b)\n",
        "\n",
        "#converting float into integer.\n",
        "a = 1.23\n",
        "b = int(a)\n",
        "print(b)"
      ],
      "metadata": {
        "id": "s4zFPgndt3os",
        "outputId": "74c89b12-5fa6-4b9b-dd99-d1811b4364d8",
        "colab": {
          "base_uri": "https://localhost:8080/"
        }
      },
      "execution_count": null,
      "outputs": [
        {
          "output_type": "stream",
          "name": "stdout",
          "text": [
            "3,4,5\n",
            "1,2,3\n",
            "1\n"
          ]
        }
      ]
    },
    {
      "cell_type": "code",
      "source": [
        "#Write the program to fill the id card for a student.\n",
        "def student_details():\n",
        "  input(\"Enter the name of the person: \")\n",
        "  input(\"Enter the age of the person: \")\n",
        "  input(\"Enter the roll number of the person: \")\n",
        "\n",
        "student_details()"
      ],
      "metadata": {
        "id": "PxncJbUKw_nG",
        "outputId": "bd92a159-146f-48ab-f9e5-771f1644eebd",
        "colab": {
          "base_uri": "https://localhost:8080/"
        }
      },
      "execution_count": null,
      "outputs": [
        {
          "name": "stdout",
          "output_type": "stream",
          "text": [
            "Enter the name of the person: Alisha\n",
            "Enter the age of the person: 23\n",
            "Enter the roll number of the person: 21\n"
          ]
        }
      ]
    },
    {
      "cell_type": "code",
      "source": [
        "#Take the user input as an integer and convert it into float.\n",
        "                                          #Check because this function is running but not correctly\n",
        "def convert():\n",
        "  user_input = int(input(\"Enter the float number here: \"))\n",
        "  user_input = float(user_input)\n",
        "\n",
        "convert()"
      ],
      "metadata": {
        "id": "jTIDIdGmyeVH",
        "outputId": "d661d1f5-5747-4b43-ef33-3d3b98fb1d71",
        "colab": {
          "base_uri": "https://localhost:8080/"
        }
      },
      "execution_count": null,
      "outputs": [
        {
          "name": "stdout",
          "output_type": "stream",
          "text": [
            "Enter the float number here: 9\n"
          ]
        }
      ]
    },
    {
      "cell_type": "code",
      "source": [
        "#Here we have total 6 types of operators-\n",
        "#Arithmatic Operator - addition(+), substraction(-) etc\n",
        "#Comparision Operator - \"==\", \"<=\" \">=\" etc\n",
        "#Identity Operator - \"is\" or \"is not\"\n",
        "#Membership Operator- \"in\" or \"not in\"\n",
        "#Logical Operator- AND, OR, NOT\n",
        "#Assignment Operator-"
      ],
      "metadata": {
        "id": "Zd-4VkPizE9t"
      },
      "execution_count": null,
      "outputs": []
    },
    {
      "cell_type": "code",
      "source": [
        "sugar = 350\n",
        "if sugar>400:\n",
        "  print(\"You will be in danger soon.\")\n",
        "elif sugar> 300 and sugar<=400:\n",
        "  print(\"You should immidiatly take the prevention\")\n",
        "else:\n",
        "  print(\"Do excercise daily.\")"
      ],
      "metadata": {
        "id": "CfLJ1Xrv13Aw",
        "outputId": "012529f2-23ff-4eb1-bd5d-a5bbfc627c44",
        "colab": {
          "base_uri": "https://localhost:8080/"
        }
      },
      "execution_count": 21,
      "outputs": [
        {
          "output_type": "stream",
          "name": "stdout",
          "text": [
            "You should immidiatly take the prevention\n"
          ]
        }
      ]
    },
    {
      "cell_type": "code",
      "source": [
        "marks = 68\n",
        "print(\"You will go for picnic\") if marks>70 else print(\"Go and read again then come for exams\")"
      ],
      "metadata": {
        "id": "ZzklV4IF3kD2",
        "outputId": "1a790ee3-ba77-416f-bada-bfd3548feddb",
        "colab": {
          "base_uri": "https://localhost:8080/"
        }
      },
      "execution_count": 22,
      "outputs": [
        {
          "output_type": "stream",
          "name": "stdout",
          "text": [
            "Go and read again then come for exams\n"
          ]
        }
      ]
    },
    {
      "cell_type": "code",
      "source": [
        "x = lambda a,b,c: (a+b)*c\n",
        "x(3,3,5)"
      ],
      "metadata": {
        "id": "rvDUODT34gd5",
        "outputId": "df2ae24f-5c4d-46d9-ea3a-ea6a82b0b313",
        "colab": {
          "base_uri": "https://localhost:8080/"
        }
      },
      "execution_count": 23,
      "outputs": [
        {
          "output_type": "execute_result",
          "data": {
            "text/plain": [
              "30"
            ]
          },
          "metadata": {},
          "execution_count": 23
        }
      ]
    },
    {
      "cell_type": "code",
      "source": [],
      "metadata": {
        "id": "SRv54qT44uMH"
      },
      "execution_count": null,
      "outputs": []
    }
  ]
}