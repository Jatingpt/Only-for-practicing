{
  "nbformat": 4,
  "nbformat_minor": 0,
  "metadata": {
    "colab": {
      "provenance": [],
      "authorship_tag": "ABX9TyPW9NRn+NyXb9429QzcqHwz",
      "include_colab_link": true
    },
    "kernelspec": {
      "name": "python3",
      "display_name": "Python 3"
    },
    "language_info": {
      "name": "python"
    }
  },
  "cells": [
    {
      "cell_type": "markdown",
      "metadata": {
        "id": "view-in-github",
        "colab_type": "text"
      },
      "source": [
        "<a href=\"https://colab.research.google.com/github/Jatingpt/Only-for-practicing/blob/main/Only_Practice_.ipynb\" target=\"_parent\"><img src=\"https://colab.research.google.com/assets/colab-badge.svg\" alt=\"Open In Colab\"/></a>"
      ]
    },
    {
      "cell_type": "code",
      "execution_count": null,
      "metadata": {
        "id": "aFP2c-7HFJ5E",
        "outputId": "c5d63c44-1768-419f-a046-08ee1df4f36c",
        "colab": {
          "base_uri": "https://localhost:8080/"
        }
      },
      "outputs": [
        {
          "output_type": "stream",
          "name": "stdout",
          "text": [
            "You will go for a trip\n"
          ]
        }
      ],
      "source": [
        "#If else statement\n",
        "marks = 89\n",
        "if marks>85:\n",
        "  print(\"You will go for a trip\")\n",
        "elif marks>75 and marks<85:\n",
        "  print(\"You are a good student\")\n",
        "else:\n",
        "  print(\"Needs improvement\")"
      ]
    },
    {
      "cell_type": "code",
      "source": [
        "def marks(num):\n",
        "  if num>80:\n",
        "    print(\"You will get a mobile\")\n",
        "  else:\n",
        "    print(\"You really need an improvement.\")\n",
        "\n",
        "marks(89)\n"
      ],
      "metadata": {
        "id": "OeQN58RvFyX1",
        "outputId": "6dd4a8c0-1928-4c80-d92e-6a52c04466e5",
        "colab": {
          "base_uri": "https://localhost:8080/"
        }
      },
      "execution_count": null,
      "outputs": [
        {
          "output_type": "stream",
          "name": "stdout",
          "text": [
            "You will get a mobile\n"
          ]
        }
      ]
    },
    {
      "cell_type": "code",
      "source": [
        "for i in range(1,11):\n",
        "  print(i)"
      ],
      "metadata": {
        "id": "FARenxPQGarc",
        "outputId": "077a32e1-874a-42b7-9e3f-0e2cd9596aa1",
        "colab": {
          "base_uri": "https://localhost:8080/"
        }
      },
      "execution_count": null,
      "outputs": [
        {
          "output_type": "stream",
          "name": "stdout",
          "text": [
            "1\n",
            "2\n",
            "3\n",
            "4\n",
            "5\n",
            "6\n",
            "7\n",
            "8\n",
            "9\n",
            "10\n"
          ]
        }
      ]
    },
    {
      "cell_type": "code",
      "source": [
        "for i in range(1,11):\n",
        "  if i == 5:\n",
        "    print(\"You are dismissed\")\n",
        "  else:\n",
        "    print(i)"
      ],
      "metadata": {
        "id": "qAHoF8UMG9TP",
        "outputId": "102c0aed-3264-41eb-8fcf-87ed32037ef1",
        "colab": {
          "base_uri": "https://localhost:8080/"
        }
      },
      "execution_count": null,
      "outputs": [
        {
          "output_type": "stream",
          "name": "stdout",
          "text": [
            "1\n",
            "2\n",
            "3\n",
            "4\n",
            "You are dismissed\n",
            "6\n",
            "7\n",
            "8\n",
            "9\n",
            "10\n"
          ]
        }
      ]
    },
    {
      "cell_type": "code",
      "source": [
        "def add(x,y):\n",
        "  print(x+y)\n",
        "\n",
        "add(3,4)"
      ],
      "metadata": {
        "id": "PkHiUUm4HGC7",
        "outputId": "75b6e7ae-6c22-4622-e571-240db0ee7e91",
        "colab": {
          "base_uri": "https://localhost:8080/"
        }
      },
      "execution_count": null,
      "outputs": [
        {
          "output_type": "stream",
          "name": "stdout",
          "text": [
            "7\n"
          ]
        }
      ]
    },
    {
      "cell_type": "code",
      "source": [
        "a = [\"Rohit\", \"Sohan\", \"Mohan\", \"Priya\", \"Greena\"]\n",
        "print(a)"
      ],
      "metadata": {
        "id": "9VZwK2ZBHPzS",
        "outputId": "7b5ee81e-6595-46bc-b3be-29ccd04f908e",
        "colab": {
          "base_uri": "https://localhost:8080/"
        }
      },
      "execution_count": null,
      "outputs": [
        {
          "output_type": "stream",
          "name": "stdout",
          "text": [
            "['Rohit', 'Sohan', 'Mohan', 'Priya', 'Greena']\n"
          ]
        }
      ]
    },
    {
      "cell_type": "code",
      "source": [
        "print(a[1])"
      ],
      "metadata": {
        "id": "NYqaUjSjHZ6N",
        "outputId": "e21105fc-398c-441b-ccbe-1dfb24f98e23",
        "colab": {
          "base_uri": "https://localhost:8080/"
        }
      },
      "execution_count": null,
      "outputs": [
        {
          "output_type": "stream",
          "name": "stdout",
          "text": [
            "Sohan\n"
          ]
        }
      ]
    },
    {
      "cell_type": "code",
      "source": [
        "print(a[::-1])\n",
        "print()\n",
        "print(a[:2])\n",
        "print(a[-3:-1])"
      ],
      "metadata": {
        "id": "LS4gvK6AHdJn",
        "outputId": "95ac597c-ae7b-44c2-a2fd-273f45398c2d",
        "colab": {
          "base_uri": "https://localhost:8080/"
        }
      },
      "execution_count": null,
      "outputs": [
        {
          "output_type": "stream",
          "name": "stdout",
          "text": [
            "['Greena', 'Priya', 'Mohan', 'Sohan', 'Rohit']\n",
            "\n",
            "['Rohit', 'Sohan']\n",
            "['Mohan', 'Priya']\n"
          ]
        }
      ]
    },
    {
      "cell_type": "code",
      "source": [
        "print(a[1:3])"
      ],
      "metadata": {
        "id": "1vkjPIC0Hhto",
        "outputId": "517d2ede-7916-466a-8307-136a824e5b36",
        "colab": {
          "base_uri": "https://localhost:8080/"
        }
      },
      "execution_count": null,
      "outputs": [
        {
          "output_type": "stream",
          "name": "stdout",
          "text": [
            "['Sohan', 'Mohan']\n"
          ]
        }
      ]
    },
    {
      "cell_type": "code",
      "source": [
        "for i in range(1,101):\n",
        "  if i%8==0 and i%12==0:\n",
        "    print(i)"
      ],
      "metadata": {
        "id": "DnRroQDNIHiu",
        "outputId": "63d9e4ca-c28d-49b7-98e8-dfe395388748",
        "colab": {
          "base_uri": "https://localhost:8080/"
        }
      },
      "execution_count": null,
      "outputs": [
        {
          "output_type": "stream",
          "name": "stdout",
          "text": [
            "24\n",
            "48\n",
            "72\n",
            "96\n"
          ]
        }
      ]
    },
    {
      "cell_type": "code",
      "source": [
        "#2*3.14*r\n",
        "def area(r):\n",
        "  print(2*3.14*r)\n",
        "\n",
        "area(7)\n"
      ],
      "metadata": {
        "id": "aoNu_N-lIUtV",
        "outputId": "d711be15-7353-4939-ae65-267090474101",
        "colab": {
          "base_uri": "https://localhost:8080/"
        }
      },
      "execution_count": null,
      "outputs": [
        {
          "output_type": "stream",
          "name": "stdout",
          "text": [
            "43.96\n"
          ]
        }
      ]
    },
    {
      "cell_type": "code",
      "source": [
        "def rect_area(length,breath):\n",
        "  print(length*breath)\n",
        "\n",
        "rect_area(4,3)"
      ],
      "metadata": {
        "id": "tW_WS2ZZIzVb",
        "outputId": "00e78c2a-5e01-47d2-9db3-28719e24a4a9",
        "colab": {
          "base_uri": "https://localhost:8080/"
        }
      },
      "execution_count": null,
      "outputs": [
        {
          "output_type": "stream",
          "name": "stdout",
          "text": [
            "12\n"
          ]
        }
      ]
    },
    {
      "cell_type": "code",
      "source": [
        "a = 1,2,3\n",
        "b = \"1,2,3\"\n",
        "a is b"
      ],
      "metadata": {
        "id": "fpVleJOZJB7j",
        "outputId": "9614d585-9c8d-47c0-a02b-2dd2143dc75a",
        "colab": {
          "base_uri": "https://localhost:8080/"
        }
      },
      "execution_count": null,
      "outputs": [
        {
          "output_type": "execute_result",
          "data": {
            "text/plain": [
              "False"
            ]
          },
          "metadata": {},
          "execution_count": 25
        }
      ]
    },
    {
      "cell_type": "code",
      "source": [
        "def mul(n):\n",
        "  print(7*n)\n",
        "\n",
        "mul(7)"
      ],
      "metadata": {
        "id": "AXn31hIZJNv6",
        "outputId": "6957b0f3-e082-4221-ae2f-0abac60da110",
        "colab": {
          "base_uri": "https://localhost:8080/"
        }
      },
      "execution_count": null,
      "outputs": [
        {
          "output_type": "stream",
          "name": "stdout",
          "text": [
            "49\n"
          ]
        }
      ]
    },
    {
      "cell_type": "code",
      "source": [
        "n = 7\n",
        "for i in range(1,11):\n",
        "  print(7*i)"
      ],
      "metadata": {
        "id": "k03VZ4LgJZFZ",
        "outputId": "05e3d2a3-88a5-4218-cbe7-53c81ccd54e8",
        "colab": {
          "base_uri": "https://localhost:8080/"
        }
      },
      "execution_count": null,
      "outputs": [
        {
          "output_type": "stream",
          "name": "stdout",
          "text": [
            "7\n",
            "14\n",
            "21\n",
            "28\n",
            "35\n",
            "42\n",
            "49\n",
            "56\n",
            "63\n",
            "70\n"
          ]
        }
      ]
    },
    {
      "cell_type": "code",
      "source": [
        "marks = 98\n",
        "print(\"You are a good student\") if marks>90 else print(\"You are an average student\")"
      ],
      "metadata": {
        "id": "__gmLf2uJjCz",
        "outputId": "5c7a5f08-712a-45b9-8771-31f8d632f21a",
        "colab": {
          "base_uri": "https://localhost:8080/"
        }
      },
      "execution_count": null,
      "outputs": [
        {
          "output_type": "stream",
          "name": "stdout",
          "text": [
            "You are a good student\n"
          ]
        }
      ]
    },
    {
      "cell_type": "code",
      "source": [
        "a = 7\n",
        "b = 1\n",
        "while b<=10:\n",
        "  print(a*b)\n",
        "  b+=1"
      ],
      "metadata": {
        "id": "fXOmukZIJ6FV",
        "outputId": "d314e789-e56f-42d7-97bf-8bb9e0c29914",
        "colab": {
          "base_uri": "https://localhost:8080/"
        }
      },
      "execution_count": null,
      "outputs": [
        {
          "output_type": "stream",
          "name": "stdout",
          "text": [
            "7\n",
            "14\n",
            "21\n",
            "28\n",
            "35\n",
            "42\n",
            "49\n",
            "56\n",
            "63\n",
            "70\n"
          ]
        }
      ]
    },
    {
      "cell_type": "code",
      "source": [
        "#Numpy stands for numeric python.\n",
        "#deals with array.\n",
        "#a library of python.\n",
        "#numpy stores less memory.\n",
        "#directly apply the math functions.\n",
        "#performing faster.\n",
        "\n",
        "import numpy as np\n",
        "\n",
        "a = np.array([1,2,3,4])\n",
        "print(a)\n",
        "\n",
        "print(type(a))\n",
        "\n",
        "print()\n",
        "\n",
        "#Math operation in list\n",
        "a = [1,2,3,4,5]\n",
        "b = [1,2,3,4,5]\n",
        "print(a+b)\n",
        "\n",
        "print()\n",
        "\n",
        "\n",
        "a = np.array([1,2,3,4,5])\n",
        "b = np.array([1,2,3,4,5])\n",
        "\n",
        "print(a+b)"
      ],
      "metadata": {
        "id": "b9rz4ig7KNqS",
        "outputId": "024619ce-3201-453d-c939-e5992a3e84b2",
        "colab": {
          "base_uri": "https://localhost:8080/"
        }
      },
      "execution_count": 5,
      "outputs": [
        {
          "output_type": "stream",
          "name": "stdout",
          "text": [
            "[1 2 3 4]\n",
            "<class 'numpy.ndarray'>\n",
            "\n",
            "[1, 2, 3, 4, 5, 1, 2, 3, 4, 5]\n",
            "\n",
            "[ 2  4  6  8 10]\n"
          ]
        }
      ]
    },
    {
      "cell_type": "code",
      "source": [
        "arr = np.array([10, 23, 24, 25, 53, 53, 53])\n",
        "print(arr)\n",
        "\n",
        "\n",
        "print(arr[1])"
      ],
      "metadata": {
        "id": "mGTIrqbYPSnc",
        "outputId": "4ef0d838-ce03-4430-f480-546cb9f44604",
        "colab": {
          "base_uri": "https://localhost:8080/"
        }
      },
      "execution_count": 9,
      "outputs": [
        {
          "output_type": "stream",
          "name": "stdout",
          "text": [
            "[10 23 24 25 53 53 53]\n",
            "23\n"
          ]
        }
      ]
    },
    {
      "cell_type": "code",
      "source": [
        "#One-Dimensional Array.\n",
        "\n",
        "a = np.array([3,4,5,2,3,6])\n",
        "print(a)\n",
        "\n",
        "\n",
        "#Slicing in one dimensional array.\n",
        "a = np.array([3,4,5,2,3,6])\n",
        "a[::-1]"
      ],
      "metadata": {
        "id": "X01Z1gruQYtl",
        "outputId": "6fced178-094e-423d-c25d-7e3b4994faaa",
        "colab": {
          "base_uri": "https://localhost:8080/"
        }
      },
      "execution_count": 18,
      "outputs": [
        {
          "output_type": "stream",
          "name": "stdout",
          "text": [
            "[3 4 5 2 3 6]\n"
          ]
        },
        {
          "output_type": "execute_result",
          "data": {
            "text/plain": [
              "array([6, 3, 2, 5, 4, 3])"
            ]
          },
          "metadata": {},
          "execution_count": 18
        }
      ]
    },
    {
      "cell_type": "code",
      "source": [
        "#2-dimensional array.\n",
        "\n",
        "a = np.array([[1,2],\n",
        "             [3,4]])\n",
        "print(a)\n",
        "\n",
        "#slicing in 2-dimensional array.\n",
        "a = np.array([[1,2],\n",
        "             [3,4]])\n",
        "\n",
        "print(a[1])\n",
        "\n",
        "print()\n",
        "\n",
        "print(a[0])\n",
        "\n",
        "print()\n",
        "\n",
        "print(a[0:1])\n",
        "\n",
        "print()\n",
        "\n",
        "print(a[0:2])\n",
        "\n",
        "print()\n",
        "\n",
        "print(a[1][1])"
      ],
      "metadata": {
        "id": "PmF19o45QBuD",
        "outputId": "2e3cdab1-db7b-4d78-c90f-c294dadace7e",
        "colab": {
          "base_uri": "https://localhost:8080/"
        }
      },
      "execution_count": 26,
      "outputs": [
        {
          "output_type": "stream",
          "name": "stdout",
          "text": [
            "[[1 2]\n",
            " [3 4]]\n",
            "[3 4]\n",
            "\n",
            "[1 2]\n",
            "\n",
            "[[1 2]]\n",
            "\n",
            "[[1 2]\n",
            " [3 4]]\n",
            "\n",
            "4\n"
          ]
        }
      ]
    },
    {
      "cell_type": "code",
      "source": [
        "#3-dimensional array.\n",
        "\n",
        "a = np.array([[[12,13,14],\n",
        "               [12,13,14],\n",
        "               [12,13,14]]])\n",
        "print(a)"
      ],
      "metadata": {
        "id": "Sea2GNH7QUb9",
        "outputId": "f318b59d-5b46-4d10-a32b-a33814de44f4",
        "colab": {
          "base_uri": "https://localhost:8080/"
        }
      },
      "execution_count": 27,
      "outputs": [
        {
          "output_type": "stream",
          "name": "stdout",
          "text": [
            "[[[12 13 14]\n",
            "  [12 13 14]\n",
            "  [12 13 14]]]\n"
          ]
        }
      ]
    },
    {
      "cell_type": "code",
      "source": [
        "a"
      ],
      "metadata": {
        "id": "QaRYFH31RGXN"
      },
      "execution_count": null,
      "outputs": []
    }
  ]
}