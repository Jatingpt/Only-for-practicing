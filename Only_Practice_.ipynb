{
  "nbformat": 4,
  "nbformat_minor": 0,
  "metadata": {
    "colab": {
      "provenance": [],
      "authorship_tag": "ABX9TyOpWeg3rhROkmnaiQSEHzq3",
      "include_colab_link": true
    },
    "kernelspec": {
      "name": "python3",
      "display_name": "Python 3"
    },
    "language_info": {
      "name": "python"
    }
  },
  "cells": [
    {
      "cell_type": "markdown",
      "metadata": {
        "id": "view-in-github",
        "colab_type": "text"
      },
      "source": [
        "<a href=\"https://colab.research.google.com/github/Jatingpt/Only-for-practicing/blob/main/Only_Practice_.ipynb\" target=\"_parent\"><img src=\"https://colab.research.google.com/assets/colab-badge.svg\" alt=\"Open In Colab\"/></a>"
      ]
    },
    {
      "cell_type": "code",
      "execution_count": null,
      "metadata": {
        "id": "aFP2c-7HFJ5E",
        "outputId": "c5d63c44-1768-419f-a046-08ee1df4f36c",
        "colab": {
          "base_uri": "https://localhost:8080/"
        }
      },
      "outputs": [
        {
          "output_type": "stream",
          "name": "stdout",
          "text": [
            "You will go for a trip\n"
          ]
        }
      ],
      "source": [
        "#If else statement\n",
        "marks = 89\n",
        "if marks>85:\n",
        "  print(\"You will go for a trip\")\n",
        "elif marks>75 and marks<85:\n",
        "  print(\"You are a good student\")\n",
        "else:\n",
        "  print(\"Needs improvement\")"
      ]
    },
    {
      "cell_type": "code",
      "source": [
        "def marks(num):\n",
        "  if num>80:\n",
        "    print(\"You will get a mobile\")\n",
        "  else:\n",
        "    print(\"You really need an improvement.\")\n",
        "\n",
        "marks(89)\n"
      ],
      "metadata": {
        "id": "OeQN58RvFyX1",
        "outputId": "6dd4a8c0-1928-4c80-d92e-6a52c04466e5",
        "colab": {
          "base_uri": "https://localhost:8080/"
        }
      },
      "execution_count": null,
      "outputs": [
        {
          "output_type": "stream",
          "name": "stdout",
          "text": [
            "You will get a mobile\n"
          ]
        }
      ]
    },
    {
      "cell_type": "code",
      "source": [
        "for i in range(1,11):\n",
        "  print(i)"
      ],
      "metadata": {
        "id": "FARenxPQGarc",
        "outputId": "077a32e1-874a-42b7-9e3f-0e2cd9596aa1",
        "colab": {
          "base_uri": "https://localhost:8080/"
        }
      },
      "execution_count": null,
      "outputs": [
        {
          "output_type": "stream",
          "name": "stdout",
          "text": [
            "1\n",
            "2\n",
            "3\n",
            "4\n",
            "5\n",
            "6\n",
            "7\n",
            "8\n",
            "9\n",
            "10\n"
          ]
        }
      ]
    },
    {
      "cell_type": "code",
      "source": [
        "for i in range(1,11):\n",
        "  if i == 5:\n",
        "    print(\"You are dismissed\")\n",
        "  else:\n",
        "    print(i)"
      ],
      "metadata": {
        "id": "qAHoF8UMG9TP",
        "outputId": "102c0aed-3264-41eb-8fcf-87ed32037ef1",
        "colab": {
          "base_uri": "https://localhost:8080/"
        }
      },
      "execution_count": null,
      "outputs": [
        {
          "output_type": "stream",
          "name": "stdout",
          "text": [
            "1\n",
            "2\n",
            "3\n",
            "4\n",
            "You are dismissed\n",
            "6\n",
            "7\n",
            "8\n",
            "9\n",
            "10\n"
          ]
        }
      ]
    },
    {
      "cell_type": "code",
      "source": [
        "def add(x,y):\n",
        "  print(x+y)\n",
        "\n",
        "add(3,4)"
      ],
      "metadata": {
        "id": "PkHiUUm4HGC7",
        "outputId": "75b6e7ae-6c22-4622-e571-240db0ee7e91",
        "colab": {
          "base_uri": "https://localhost:8080/"
        }
      },
      "execution_count": null,
      "outputs": [
        {
          "output_type": "stream",
          "name": "stdout",
          "text": [
            "7\n"
          ]
        }
      ]
    },
    {
      "cell_type": "code",
      "source": [
        "a = [\"Rohit\", \"Sohan\", \"Mohan\", \"Priya\", \"Greena\"]\n",
        "print(a)"
      ],
      "metadata": {
        "id": "9VZwK2ZBHPzS",
        "outputId": "7b5ee81e-6595-46bc-b3be-29ccd04f908e",
        "colab": {
          "base_uri": "https://localhost:8080/"
        }
      },
      "execution_count": null,
      "outputs": [
        {
          "output_type": "stream",
          "name": "stdout",
          "text": [
            "['Rohit', 'Sohan', 'Mohan', 'Priya', 'Greena']\n"
          ]
        }
      ]
    },
    {
      "cell_type": "code",
      "source": [
        "print(a[1])"
      ],
      "metadata": {
        "id": "NYqaUjSjHZ6N",
        "outputId": "e21105fc-398c-441b-ccbe-1dfb24f98e23",
        "colab": {
          "base_uri": "https://localhost:8080/"
        }
      },
      "execution_count": null,
      "outputs": [
        {
          "output_type": "stream",
          "name": "stdout",
          "text": [
            "Sohan\n"
          ]
        }
      ]
    },
    {
      "cell_type": "code",
      "source": [
        "print(a[::-1])\n",
        "print()\n",
        "print(a[:2])\n",
        "print(a[-3:-1])"
      ],
      "metadata": {
        "id": "LS4gvK6AHdJn",
        "outputId": "95ac597c-ae7b-44c2-a2fd-273f45398c2d",
        "colab": {
          "base_uri": "https://localhost:8080/"
        }
      },
      "execution_count": null,
      "outputs": [
        {
          "output_type": "stream",
          "name": "stdout",
          "text": [
            "['Greena', 'Priya', 'Mohan', 'Sohan', 'Rohit']\n",
            "\n",
            "['Rohit', 'Sohan']\n",
            "['Mohan', 'Priya']\n"
          ]
        }
      ]
    },
    {
      "cell_type": "code",
      "source": [
        "print(a[1:3])"
      ],
      "metadata": {
        "id": "1vkjPIC0Hhto",
        "outputId": "517d2ede-7916-466a-8307-136a824e5b36",
        "colab": {
          "base_uri": "https://localhost:8080/"
        }
      },
      "execution_count": null,
      "outputs": [
        {
          "output_type": "stream",
          "name": "stdout",
          "text": [
            "['Sohan', 'Mohan']\n"
          ]
        }
      ]
    },
    {
      "cell_type": "code",
      "source": [
        "for i in range(1,101):\n",
        "  if i%8==0 and i%12==0:\n",
        "    print(i)"
      ],
      "metadata": {
        "id": "DnRroQDNIHiu",
        "outputId": "63d9e4ca-c28d-49b7-98e8-dfe395388748",
        "colab": {
          "base_uri": "https://localhost:8080/"
        }
      },
      "execution_count": null,
      "outputs": [
        {
          "output_type": "stream",
          "name": "stdout",
          "text": [
            "24\n",
            "48\n",
            "72\n",
            "96\n"
          ]
        }
      ]
    },
    {
      "cell_type": "code",
      "source": [
        "#2*3.14*r\n",
        "def area(r):\n",
        "  print(2*3.14*r)\n",
        "\n",
        "area(7)\n"
      ],
      "metadata": {
        "id": "aoNu_N-lIUtV",
        "outputId": "d711be15-7353-4939-ae65-267090474101",
        "colab": {
          "base_uri": "https://localhost:8080/"
        }
      },
      "execution_count": null,
      "outputs": [
        {
          "output_type": "stream",
          "name": "stdout",
          "text": [
            "43.96\n"
          ]
        }
      ]
    },
    {
      "cell_type": "code",
      "source": [
        "def rect_area(length,breath):\n",
        "  print(length*breath)\n",
        "\n",
        "rect_area(4,3)"
      ],
      "metadata": {
        "id": "tW_WS2ZZIzVb",
        "outputId": "00e78c2a-5e01-47d2-9db3-28719e24a4a9",
        "colab": {
          "base_uri": "https://localhost:8080/"
        }
      },
      "execution_count": null,
      "outputs": [
        {
          "output_type": "stream",
          "name": "stdout",
          "text": [
            "12\n"
          ]
        }
      ]
    },
    {
      "cell_type": "code",
      "source": [
        "a = 1,2,3\n",
        "b = \"1,2,3\"\n",
        "a is b"
      ],
      "metadata": {
        "id": "fpVleJOZJB7j",
        "outputId": "9614d585-9c8d-47c0-a02b-2dd2143dc75a",
        "colab": {
          "base_uri": "https://localhost:8080/"
        }
      },
      "execution_count": null,
      "outputs": [
        {
          "output_type": "execute_result",
          "data": {
            "text/plain": [
              "False"
            ]
          },
          "metadata": {},
          "execution_count": 25
        }
      ]
    },
    {
      "cell_type": "code",
      "source": [
        "def mul(n):\n",
        "  print(7*n)\n",
        "\n",
        "mul(7)"
      ],
      "metadata": {
        "id": "AXn31hIZJNv6",
        "outputId": "6957b0f3-e082-4221-ae2f-0abac60da110",
        "colab": {
          "base_uri": "https://localhost:8080/"
        }
      },
      "execution_count": null,
      "outputs": [
        {
          "output_type": "stream",
          "name": "stdout",
          "text": [
            "49\n"
          ]
        }
      ]
    },
    {
      "cell_type": "code",
      "source": [
        "n = 7\n",
        "for i in range(1,11):\n",
        "  print(7*i)"
      ],
      "metadata": {
        "id": "k03VZ4LgJZFZ",
        "outputId": "05e3d2a3-88a5-4218-cbe7-53c81ccd54e8",
        "colab": {
          "base_uri": "https://localhost:8080/"
        }
      },
      "execution_count": null,
      "outputs": [
        {
          "output_type": "stream",
          "name": "stdout",
          "text": [
            "7\n",
            "14\n",
            "21\n",
            "28\n",
            "35\n",
            "42\n",
            "49\n",
            "56\n",
            "63\n",
            "70\n"
          ]
        }
      ]
    },
    {
      "cell_type": "code",
      "source": [
        "marks = 98\n",
        "print(\"You are a good student\") if marks>90 else print(\"You are an average student\")"
      ],
      "metadata": {
        "id": "__gmLf2uJjCz",
        "outputId": "5c7a5f08-712a-45b9-8771-31f8d632f21a",
        "colab": {
          "base_uri": "https://localhost:8080/"
        }
      },
      "execution_count": null,
      "outputs": [
        {
          "output_type": "stream",
          "name": "stdout",
          "text": [
            "You are a good student\n"
          ]
        }
      ]
    },
    {
      "cell_type": "code",
      "source": [
        "a = 7\n",
        "b = 1\n",
        "while b<=10:\n",
        "  print(a*b)\n",
        "  b+=1"
      ],
      "metadata": {
        "id": "fXOmukZIJ6FV",
        "outputId": "d314e789-e56f-42d7-97bf-8bb9e0c29914",
        "colab": {
          "base_uri": "https://localhost:8080/"
        }
      },
      "execution_count": null,
      "outputs": [
        {
          "output_type": "stream",
          "name": "stdout",
          "text": [
            "7\n",
            "14\n",
            "21\n",
            "28\n",
            "35\n",
            "42\n",
            "49\n",
            "56\n",
            "63\n",
            "70\n"
          ]
        }
      ]
    },
    {
      "cell_type": "code",
      "source": [
        "#Numpy stands for numeric python.\n",
        "#deals with array.\n",
        "#a library of python.\n",
        "#numpy stores less memory.\n",
        "#directly apply the math functions.\n",
        "#performing faster.\n",
        "\n",
        "import numpy as np\n",
        "\n",
        "a = np.array([1,2,3,4])\n",
        "print(a)\n",
        "\n",
        "print(type(a))\n",
        "\n",
        "print()\n",
        "\n",
        "#Math operation in list\n",
        "a = [1,2,3,4,5]\n",
        "b = [1,2,3,4,5]\n",
        "print(a+b)\n",
        "\n",
        "print()\n",
        "\n",
        "\n",
        "a = np.array([1,2,3,4,5])\n",
        "b = np.array([1,2,3,4,5])\n",
        "\n",
        "print(a+b)"
      ],
      "metadata": {
        "id": "b9rz4ig7KNqS",
        "outputId": "024619ce-3201-453d-c939-e5992a3e84b2",
        "colab": {
          "base_uri": "https://localhost:8080/"
        }
      },
      "execution_count": null,
      "outputs": [
        {
          "output_type": "stream",
          "name": "stdout",
          "text": [
            "[1 2 3 4]\n",
            "<class 'numpy.ndarray'>\n",
            "\n",
            "[1, 2, 3, 4, 5, 1, 2, 3, 4, 5]\n",
            "\n",
            "[ 2  4  6  8 10]\n"
          ]
        }
      ]
    },
    {
      "cell_type": "code",
      "source": [
        "arr = np.array([10, 23, 24, 25, 53, 53, 53])\n",
        "print(arr)\n",
        "\n",
        "\n",
        "print(arr[1])"
      ],
      "metadata": {
        "id": "mGTIrqbYPSnc",
        "outputId": "4ef0d838-ce03-4430-f480-546cb9f44604",
        "colab": {
          "base_uri": "https://localhost:8080/"
        }
      },
      "execution_count": null,
      "outputs": [
        {
          "output_type": "stream",
          "name": "stdout",
          "text": [
            "[10 23 24 25 53 53 53]\n",
            "23\n"
          ]
        }
      ]
    },
    {
      "cell_type": "code",
      "source": [
        "#One-Dimensional Array.\n",
        "\n",
        "a = np.array([3,4,5,2,3,6])\n",
        "print(a)\n",
        "\n",
        "\n",
        "#Slicing in one dimensional array.\n",
        "a = np.array([3,4,5,2,3,6])\n",
        "a[::-1]"
      ],
      "metadata": {
        "id": "X01Z1gruQYtl",
        "outputId": "6fced178-094e-423d-c25d-7e3b4994faaa",
        "colab": {
          "base_uri": "https://localhost:8080/"
        }
      },
      "execution_count": null,
      "outputs": [
        {
          "output_type": "stream",
          "name": "stdout",
          "text": [
            "[3 4 5 2 3 6]\n"
          ]
        },
        {
          "output_type": "execute_result",
          "data": {
            "text/plain": [
              "array([6, 3, 2, 5, 4, 3])"
            ]
          },
          "metadata": {},
          "execution_count": 18
        }
      ]
    },
    {
      "cell_type": "code",
      "source": [
        "#2-dimensional array.\n",
        "\n",
        "a = np.array([[1,2],\n",
        "             [3,4]])\n",
        "print(a)\n",
        "\n",
        "#slicing in 2-dimensional array.\n",
        "a = np.array([[1,2],\n",
        "             [3,4]])\n",
        "\n",
        "print(a[1])\n",
        "\n",
        "print()\n",
        "\n",
        "print(a[0])\n",
        "\n",
        "print()\n",
        "\n",
        "print(a[0:1])\n",
        "\n",
        "print()\n",
        "\n",
        "print(a[0:2])\n",
        "\n",
        "print()\n",
        "\n",
        "print(a[1][1])"
      ],
      "metadata": {
        "id": "PmF19o45QBuD",
        "outputId": "2e3cdab1-db7b-4d78-c90f-c294dadace7e",
        "colab": {
          "base_uri": "https://localhost:8080/"
        }
      },
      "execution_count": null,
      "outputs": [
        {
          "output_type": "stream",
          "name": "stdout",
          "text": [
            "[[1 2]\n",
            " [3 4]]\n",
            "[3 4]\n",
            "\n",
            "[1 2]\n",
            "\n",
            "[[1 2]]\n",
            "\n",
            "[[1 2]\n",
            " [3 4]]\n",
            "\n",
            "4\n"
          ]
        }
      ]
    },
    {
      "cell_type": "code",
      "source": [
        "#3-dimensional array.\n",
        "\n",
        "a = np.array([[[12,13,14],\n",
        "               [12,13,14],\n",
        "               [12,13,14]]])\n",
        "print(a)"
      ],
      "metadata": {
        "id": "Sea2GNH7QUb9",
        "outputId": "f318b59d-5b46-4d10-a32b-a33814de44f4",
        "colab": {
          "base_uri": "https://localhost:8080/"
        }
      },
      "execution_count": null,
      "outputs": [
        {
          "output_type": "stream",
          "name": "stdout",
          "text": [
            "[[[12 13 14]\n",
            "  [12 13 14]\n",
            "  [12 13 14]]]\n"
          ]
        }
      ]
    },
    {
      "cell_type": "code",
      "source": [
        "#Slicing in the 3-dimensional numpy array.\n",
        "import numpy as np\n",
        "a = np.array([[[12,13,14],\n",
        "               [12,13,14],\n",
        "               [12,13,14]]])\n",
        "print(np.ndim(a))"
      ],
      "metadata": {
        "id": "QaRYFH31RGXN",
        "outputId": "ce66264f-4a77-4c25-e030-eacab38e004d",
        "colab": {
          "base_uri": "https://localhost:8080/"
        }
      },
      "execution_count": null,
      "outputs": [
        {
          "output_type": "stream",
          "name": "stdout",
          "text": [
            "3\n"
          ]
        }
      ]
    },
    {
      "cell_type": "code",
      "source": [
        "a = np.array([[1,2],\n",
        "             [3,4]])\n",
        "print(np.ndim(a))"
      ],
      "metadata": {
        "id": "GDKqdZFPTpAg",
        "outputId": "78285f4e-888c-4500-d717-0d5c584fcdd9",
        "colab": {
          "base_uri": "https://localhost:8080/"
        }
      },
      "execution_count": null,
      "outputs": [
        {
          "output_type": "stream",
          "name": "stdout",
          "text": [
            "2\n"
          ]
        }
      ]
    },
    {
      "cell_type": "code",
      "source": [
        "import numpy as np\n",
        "a = np.array([[[12,3,4],\n",
        "               [12,1,1],\n",
        "               [12,3,1]]])\n",
        "\n",
        "print(a[0][1])\n",
        "print()\n",
        "print(a[0][2])\n",
        "print()\n",
        "print(a[0][1])\n",
        "print()\n",
        "print(a[0][1][1])\n",
        "print()\n",
        "print(a[0][2][1])"
      ],
      "metadata": {
        "id": "pCQBvLE8VxqM",
        "outputId": "21c1e83a-6731-4c06-dc72-b5143d87dae4",
        "colab": {
          "base_uri": "https://localhost:8080/"
        }
      },
      "execution_count": null,
      "outputs": [
        {
          "output_type": "stream",
          "name": "stdout",
          "text": [
            "[12  1  1]\n",
            "\n",
            "[12  3  1]\n",
            "\n",
            "[12  1  1]\n",
            "\n",
            "1\n",
            "\n",
            "3\n"
          ]
        }
      ]
    },
    {
      "cell_type": "code",
      "source": [
        "import numpy as np"
      ],
      "metadata": {
        "id": "LjJ73ee_V5Sq"
      },
      "execution_count": 1,
      "outputs": []
    },
    {
      "cell_type": "code",
      "source": [
        "a = np.array([1,2,3,4,5])\n",
        "print(a)\n",
        "\n",
        "print(type(a))\n",
        "print()\n",
        "print(a.astype(int))\n",
        "print()\n",
        "print(len(a))\n",
        "print()\n",
        "print(a.shape)\n",
        "print()\n",
        "print(a.size)\n",
        "print()\n",
        "print(a.ndim)"
      ],
      "metadata": {
        "id": "eqrplWpmjsKR",
        "outputId": "81eb3e50-a63e-4a01-88b9-bd3490805edc",
        "colab": {
          "base_uri": "https://localhost:8080/"
        }
      },
      "execution_count": 9,
      "outputs": [
        {
          "output_type": "stream",
          "name": "stdout",
          "text": [
            "[1 2 3 4 5]\n",
            "<class 'numpy.ndarray'>\n",
            "\n",
            "[1 2 3 4 5]\n",
            "\n",
            "5\n",
            "\n",
            "(5,)\n",
            "\n",
            "5\n",
            "\n",
            "1\n"
          ]
        }
      ]
    },
    {
      "cell_type": "code",
      "source": [
        "a = np.array([[1,2],[3,4]])\n",
        "print(type(a))\n",
        "print(a.ndim)\n",
        "print(a.size)\n",
        "print(a.dtype)\n",
        "print(len(a))"
      ],
      "metadata": {
        "id": "yX5S_mxlj0K2",
        "outputId": "6d7ce79c-45c7-4504-be6d-bb3750c00f5a",
        "colab": {
          "base_uri": "https://localhost:8080/"
        }
      },
      "execution_count": 10,
      "outputs": [
        {
          "output_type": "stream",
          "name": "stdout",
          "text": [
            "<class 'numpy.ndarray'>\n",
            "2\n",
            "4\n",
            "int64\n",
            "2\n"
          ]
        }
      ]
    },
    {
      "cell_type": "code",
      "source": [
        "arr1 = np.array([[1,2],[3,4]])\n",
        "arr2 = np.array([[5,6],[7,8]])\n",
        "\n",
        "print(arr1+arr2)"
      ],
      "metadata": {
        "id": "XLi1Lo1akwAW",
        "outputId": "b96c0bd2-e128-4279-dade-c12e9ec91df3",
        "colab": {
          "base_uri": "https://localhost:8080/"
        }
      },
      "execution_count": 11,
      "outputs": [
        {
          "output_type": "stream",
          "name": "stdout",
          "text": [
            "[[ 6  8]\n",
            " [10 12]]\n"
          ]
        }
      ]
    },
    {
      "cell_type": "code",
      "source": [
        "b = np.concatenate([arr1,arr2])\n",
        "print(len(b))\n",
        "print(b)\n"
      ],
      "metadata": {
        "id": "3pX12xNllDSy",
        "outputId": "cac374d7-6d21-40ec-8df6-310e4b7a1066",
        "colab": {
          "base_uri": "https://localhost:8080/"
        }
      },
      "execution_count": 18,
      "outputs": [
        {
          "output_type": "stream",
          "name": "stdout",
          "text": [
            "4\n",
            "[[1 2]\n",
            " [3 4]\n",
            " [5 6]\n",
            " [7 8]]\n"
          ]
        }
      ]
    },
    {
      "cell_type": "code",
      "source": [
        "print(b[3][1])"
      ],
      "metadata": {
        "id": "TKGru7AvlMkb",
        "outputId": "a58a11a5-7ab8-419c-944b-fb89ff3e89ed",
        "colab": {
          "base_uri": "https://localhost:8080/"
        }
      },
      "execution_count": 19,
      "outputs": [
        {
          "output_type": "stream",
          "name": "stdout",
          "text": [
            "8\n"
          ]
        }
      ]
    },
    {
      "cell_type": "code",
      "source": [
        "#spliting in array\n",
        "arry = np.array([1,2,3,4,5,6])\n",
        "print(np.array_split(arry,3))"
      ],
      "metadata": {
        "id": "c10WwZ3xl62F",
        "outputId": "223d5759-3d89-4ec7-9adf-9eb6a45c488e",
        "colab": {
          "base_uri": "https://localhost:8080/"
        }
      },
      "execution_count": 22,
      "outputs": [
        {
          "output_type": "stream",
          "name": "stdout",
          "text": [
            "[array([1, 2]), array([3, 4]), array([5, 6])]\n"
          ]
        }
      ]
    },
    {
      "cell_type": "code",
      "source": [
        "c = np.array([1,2,3,4,5,6,7,8,9])\n",
        "d = np.array_split(c,5)"
      ],
      "metadata": {
        "id": "GwbtLHYUmOl7"
      },
      "execution_count": 28,
      "outputs": []
    },
    {
      "cell_type": "code",
      "source": [
        "print(d[1])"
      ],
      "metadata": {
        "id": "WUzj817ImxIH",
        "outputId": "7b3013c3-57f2-460d-e78a-ecd419b7b29e",
        "colab": {
          "base_uri": "https://localhost:8080/"
        }
      },
      "execution_count": 29,
      "outputs": [
        {
          "output_type": "stream",
          "name": "stdout",
          "text": [
            "[3 4]\n"
          ]
        }
      ]
    },
    {
      "cell_type": "code",
      "source": [
        "a = np.array([1,2,3,4,5])\n",
        "np.append(a,6)"
      ],
      "metadata": {
        "id": "sOhctLyVm8uU",
        "outputId": "cbed79fa-b7a1-4234-cda9-50d030aaa8c6",
        "colab": {
          "base_uri": "https://localhost:8080/"
        }
      },
      "execution_count": 31,
      "outputs": [
        {
          "output_type": "execute_result",
          "data": {
            "text/plain": [
              "array([1, 2, 3, 4, 5, 6])"
            ]
          },
          "metadata": {},
          "execution_count": 31
        }
      ]
    },
    {
      "cell_type": "code",
      "source": [
        "np.insert(a,1,8)"
      ],
      "metadata": {
        "id": "gkFZhgGSnfbL",
        "outputId": "f9621cbb-56a8-483e-ebee-344f393bb339",
        "colab": {
          "base_uri": "https://localhost:8080/"
        }
      },
      "execution_count": 32,
      "outputs": [
        {
          "output_type": "execute_result",
          "data": {
            "text/plain": [
              "array([1, 8, 2, 3, 4, 5])"
            ]
          },
          "metadata": {},
          "execution_count": 32
        }
      ]
    },
    {
      "cell_type": "code",
      "source": [],
      "metadata": {
        "id": "GjWsx3ftnqWp"
      },
      "execution_count": null,
      "outputs": []
    }
  ]
}